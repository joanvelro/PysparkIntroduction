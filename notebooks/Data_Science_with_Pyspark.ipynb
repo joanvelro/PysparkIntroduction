{
 "cells": [
  {
   "cell_type": "markdown",
   "metadata": {
    "id": "_hgOicJaiqsX"
   },
   "source": [
    "# Data Science with PySpark"
   ]
  },
  {
   "cell_type": "markdown",
   "metadata": {
    "id": "i6g4vOz-iqsv"
   },
   "source": [
    "Instrucciones: Lea cuidadosamente las preguntas, escriba el código correspondiente y ejecútelo para mostrar sus resultados.\n",
    "\n",
    "Antes de continuar:\n",
    "\n",
    "Asegúrese de contar con los siguientes componentes instalados en la computadora que realizará el examen.\n",
    "\n",
    "1. Python - Se recomienda Python 3.7 pues en algunos casos Python 3.8 causa algunos problemas de compatibilidad con PySpark\n",
    "2. PySpark - Se recomienda PySpark 2.x\n",
    "3. Jupyter Notebook - Se recomienda instalar la distribución Anaconda3 - 2020.02 que contiene Python 3.7. Esto puede descargarse de https://repo.anaconda.com/archive/\n",
    "\n"
   ]
  },
  {
   "cell_type": "markdown",
   "metadata": {
    "id": "4kdYFRiPiqsy"
   },
   "source": [
    "Importante: Todos los ejercicios deberán realizarse con funciones de NumPy, Pandas o PySpark (no podrán crearse vistas temporales para realizarse en SQL, salvo que se indique lo contrario)."
   ]
  },
  {
   "cell_type": "markdown",
   "metadata": {},
   "source": [
    "# Import dependencies"
   ]
  },
  {
   "cell_type": "code",
   "execution_count": 63,
   "metadata": {
    "ExecuteTime": {
     "end_time": "2021-02-03T10:26:16.749190Z",
     "start_time": "2021-02-03T10:26:16.739426Z"
    }
   },
   "outputs": [],
   "source": [
    "from pyspark.sql import functions as sf\n",
    "from pyspark.mllib.stat import Statistics\n",
    "from pyspark.sql.types import *\n",
    "from pyspark.ml.evaluation import BinaryClassificationEvaluator\n",
    "from pyspark.ml.classification import LogisticRegression\n",
    "from pyspark.ml.feature import OneHotEncoderEstimator, StringIndexer, VectorAssembler, StandardScaler\n",
    "from pyspark.ml import Pipeline\n",
    "\n",
    "\n",
    "import pandas as pd\n",
    "import numpy as np\n",
    "np.random.seed(0)\n",
    "import itertools\n",
    "import matplotlib.pyplot as plt\n",
    "from sklearn.metrics import confusion_matrix\n",
    "import plotly.graph_objects as go"
   ]
  },
  {
   "cell_type": "markdown",
   "metadata": {
    "id": "0kY5gzb9iqsz"
   },
   "source": [
    "# Spark Core"
   ]
  },
  {
   "cell_type": "markdown",
   "metadata": {
    "id": "YamD_3TAiqs0"
   },
   "source": [
    "1.1 Utilizando NumPy, construya un arreglo con 50 elementos aleatorios distribuidos de forma normal con media 50 y desviación estándar 10. Imprima el arreglo."
   ]
  },
  {
   "cell_type": "code",
   "execution_count": 64,
   "metadata": {
    "ExecuteTime": {
     "end_time": "2021-02-03T10:26:18.333737Z",
     "start_time": "2021-02-03T10:26:18.327668Z"
    },
    "colab": {
     "base_uri": "https://localhost:8080/"
    },
    "id": "hYJeiGmyiyx7",
    "outputId": "5b181ef9-9a37-465d-a57f-d5113ffe1bc5"
   },
   "outputs": [
    {
     "name": "stdout",
     "output_type": "stream",
     "text": [
      "[67.64052346 54.00157208 59.78737984 72.40893199 68.6755799  40.2272212\n",
      " 59.50088418 48.48642792 48.96781148 54.10598502 51.44043571 64.54273507\n",
      " 57.61037725 51.21675016 54.43863233 53.33674327 64.94079073 47.94841736\n",
      " 53.13067702 41.45904261 24.47010184 56.53618595 58.64436199 42.5783498\n",
      " 72.69754624 35.45634325 50.45758517 48.1281615  65.32779214 64.6935877\n",
      " 51.54947426 53.7816252  41.12214252 30.19203532 46.52087851 51.56348969\n",
      " 62.30290681 62.02379849 46.12673183 46.97697249 39.51447035 35.79982063\n",
      " 32.93729809 69.50775395 44.90347818 45.61925698 37.4720464  57.77490356\n",
      " 33.86102152 47.8725972 ]\n"
     ]
    }
   ],
   "source": [
    "a = np.random.normal(50,10,50)\n",
    "print(a)"
   ]
  },
  {
   "cell_type": "markdown",
   "metadata": {
    "id": "nkaexEXziqs3"
   },
   "source": [
    "## Build spark core object\n",
    "Construya el objeto de Spark (Core) que le permita trabajar con objetos RDD."
   ]
  },
  {
   "cell_type": "code",
   "execution_count": 198,
   "metadata": {
    "ExecuteTime": {
     "end_time": "2021-02-03T11:04:06.395782Z",
     "start_time": "2021-02-03T11:04:06.383297Z"
    },
    "colab": {
     "base_uri": "https://localhost:8080/"
    },
    "id": "SqasFiwij-yr",
    "outputId": "03f15089-353f-465e-da5c-76d41c7ccb67"
   },
   "outputs": [
    {
     "name": "stdout",
     "output_type": "stream",
     "text": [
      "2.4.6\n",
      "<SparkContext master=local[*] appName=Python Spark SQL>\n",
      "<pyspark.sql.context.SQLContext object at 0x11eff10b8>\n"
     ]
    }
   ],
   "source": [
    "from pyspark.sql import SparkSession\n",
    "spark = SparkSession \\\n",
    "        .builder \\\n",
    "        .appName(\"Python Spark SQL\") \\\n",
    "        .config(\"spark.some.config.option\", \"some-value\") \\\n",
    "        .getOrCreate()\n",
    "print(spark.version)\n",
    "\n",
    "sc = spark.sparkContext\n",
    "print(sc)\n"
   ]
  },
  {
   "cell_type": "markdown",
   "metadata": {
    "id": "GjM8cq7riqs3"
   },
   "source": [
    "## Exercise 1\n",
    "Convierta el arreglo de NumPy a un RDD con 2 particiones. Muestre los primeros 5 elementos."
   ]
  },
  {
   "cell_type": "code",
   "execution_count": 66,
   "metadata": {
    "ExecuteTime": {
     "end_time": "2021-02-03T10:26:20.532772Z",
     "start_time": "2021-02-03T10:26:20.442913Z"
    },
    "colab": {
     "base_uri": "https://localhost:8080/"
    },
    "id": "VjwFWNiWkyau",
    "outputId": "eebf04b0-356a-4f63-90fc-24451fe4d95d"
   },
   "outputs": [
    {
     "data": {
      "text/plain": [
       "[72.69754623987608,\n",
       " 72.40893199201457,\n",
       " 69.5077539523179,\n",
       " 68.67557990149967,\n",
       " 67.64052345967664]"
      ]
     },
     "execution_count": 66,
     "metadata": {},
     "output_type": "execute_result"
    }
   ],
   "source": [
    "# Convert list to RDD\n",
    "rdd = sc.parallelize(a)\n",
    "rdd.top(5)"
   ]
  },
  {
   "cell_type": "markdown",
   "metadata": {
    "id": "8J_D7GPLiqs4"
   },
   "source": [
    "## Exercise 2\n",
    "1.4. Suponiendo que los datos de la lista miden grados Fahrenheit, aplique una función lambda al RDD que convierta las mediciones a grados Centígrados. Muestre los primeros 5 elementos. \n",
    "$$\n",
    "C = (F - 32) * 5 / 9\n",
    "$$"
   ]
  },
  {
   "cell_type": "code",
   "execution_count": 67,
   "metadata": {
    "ExecuteTime": {
     "end_time": "2021-02-03T10:26:21.424268Z",
     "start_time": "2021-02-03T10:26:21.366662Z"
    },
    "colab": {
     "base_uri": "https://localhost:8080/"
    },
    "id": "-4abvRYgmYKB",
    "outputId": "8882296b-c4f7-43ca-8152-4ba8caf09a83"
   },
   "outputs": [
    {
     "data": {
      "text/plain": [
       "[22.609747911042266,\n",
       " 22.449406662230317,\n",
       " 20.837641084621055,\n",
       " 20.375322167499817,\n",
       " 19.800290810931468]"
      ]
     },
     "execution_count": 67,
     "metadata": {},
     "output_type": "execute_result"
    }
   ],
   "source": [
    "rdd = rdd.map(lambda degree: (degree-32)*5/9)\n",
    "rdd.top(5)"
   ]
  },
  {
   "cell_type": "markdown",
   "metadata": {
    "id": "tPifycZ6iqs9"
   },
   "source": [
    "## Exercise 3\n",
    "1.5. Utilice una función Lambda para mostrar únicamente las temperaturas mayores a 15 grados Centigrados."
   ]
  },
  {
   "cell_type": "code",
   "execution_count": 68,
   "metadata": {
    "ExecuteTime": {
     "end_time": "2021-02-03T10:26:22.317757Z",
     "start_time": "2021-02-03T10:26:22.247779Z"
    },
    "colab": {
     "base_uri": "https://localhost:8080/"
    },
    "id": "1hqy9timnJ75",
    "outputId": "f08032d6-c676-45b2-d03c-96674afa63f9"
   },
   "outputs": [
    {
     "data": {
      "text/plain": [
       "[19.800290810931468,\n",
       " 15.437433245031887,\n",
       " 22.449406662230317,\n",
       " 20.375322167499817,\n",
       " 15.278268986253273,\n",
       " 18.07929726090542,\n",
       " 18.300439295320032,\n",
       " 22.609747911042266,\n",
       " 18.51544007976921,\n",
       " 18.163104277223805,\n",
       " 16.83494822626512,\n",
       " 16.679888048802283,\n",
       " 20.837641084621055]"
      ]
     },
     "execution_count": 68,
     "metadata": {},
     "output_type": "execute_result"
    }
   ],
   "source": [
    "rdd.filter(lambda degree: degree>15).collect()"
   ]
  },
  {
   "cell_type": "markdown",
   "metadata": {
    "id": "i_CLygYJiqs9"
   },
   "source": [
    "## Exercise 4\n",
    "1.6. Calcule la temperatura media en grados Centígrados."
   ]
  },
  {
   "cell_type": "code",
   "execution_count": 69,
   "metadata": {
    "ExecuteTime": {
     "end_time": "2021-02-03T10:26:23.131565Z",
     "start_time": "2021-02-03T10:26:23.042766Z"
    },
    "colab": {
     "base_uri": "https://localhost:8080/"
    },
    "id": "YtS-jrBSpIVa",
    "outputId": "95c7e7e0-7c0c-431b-a934-f9cecf22c452"
   },
   "outputs": [
    {
     "data": {
      "text/plain": [
       "10.780884846183875"
      ]
     },
     "execution_count": 69,
     "metadata": {},
     "output_type": "execute_result"
    }
   ],
   "source": [
    "rdd.mean()"
   ]
  },
  {
   "cell_type": "markdown",
   "metadata": {
    "id": "c3luU86Ziqs-"
   },
   "source": [
    "## Exercise 5\n",
    "1.7. Obtenga las 3 temperaturas más altas en grados Centígrados."
   ]
  },
  {
   "cell_type": "code",
   "execution_count": 70,
   "metadata": {
    "ExecuteTime": {
     "end_time": "2021-02-03T10:26:24.343455Z",
     "start_time": "2021-02-03T10:26:24.063900Z"
    },
    "colab": {
     "base_uri": "https://localhost:8080/"
    },
    "id": "0f7E1pmbpQuz",
    "outputId": "23a7320f-3390-4a7d-8791-18c28d4fb3f4"
   },
   "outputs": [
    {
     "data": {
      "text/plain": [
       "[22.609747911042266, 22.449406662230317, 20.837641084621055]"
      ]
     },
     "execution_count": 70,
     "metadata": {},
     "output_type": "execute_result"
    }
   ],
   "source": [
    "rdd.sortBy(lambda x: -x).top(3)"
   ]
  },
  {
   "cell_type": "markdown",
   "metadata": {
    "id": "CSsQdUcIiqs-"
   },
   "source": [
    "# Spark SQL"
   ]
  },
  {
   "cell_type": "markdown",
   "metadata": {
    "id": "Hg2QoVWJiqs_"
   },
   "source": [
    "## Exercise 1 \n",
    "2.1. Utilizando Numpy, construya un arreglo con 50 números enteros entre 1 y 3 (1 y 3 incluidos)."
   ]
  },
  {
   "cell_type": "code",
   "execution_count": 71,
   "metadata": {
    "ExecuteTime": {
     "end_time": "2021-02-03T10:26:24.958134Z",
     "start_time": "2021-02-03T10:26:24.950724Z"
    },
    "colab": {
     "base_uri": "https://localhost:8080/"
    },
    "id": "rFJHY3bepu3c",
    "outputId": "55def6bb-8d29-424c-95d9-94faaa67e4c8"
   },
   "outputs": [
    {
     "name": "stdout",
     "output_type": "stream",
     "text": [
      "[1 1 2 1 1 2 3 1 3 1 3 2 3 2 3 1 1 1 1 1 1 2 1 3 2 1 2 1 2 3 1 3 1 3 1 1 2\n",
      " 1 3 1 3 1 3 3 1 2 2 2 1 3]\n"
     ]
    }
   ],
   "source": [
    "b = np.random.uniform(1,3+1,50).astype(int)\n",
    "print(b)"
   ]
  },
  {
   "cell_type": "markdown",
   "metadata": {
    "id": "rmr_wrgfiqs_"
   },
   "source": [
    "## Exercise 2\n",
    "2.2. Construya un dataframe en Pandas utilizando los arreglos de 2.1 y 1.1. Asigne los nombres \"dia\" y \"temp\". Muestre los primeros 5 elementos."
   ]
  },
  {
   "cell_type": "code",
   "execution_count": 72,
   "metadata": {
    "ExecuteTime": {
     "end_time": "2021-02-03T10:26:25.731780Z",
     "start_time": "2021-02-03T10:26:25.720261Z"
    },
    "colab": {
     "base_uri": "https://localhost:8080/",
     "height": 204
    },
    "id": "ja9Aa4mNp4Wk",
    "outputId": "b6ec3a1f-479d-41bf-a097-cfb8e58ce706"
   },
   "outputs": [
    {
     "data": {
      "text/html": [
       "<div>\n",
       "<style scoped>\n",
       "    .dataframe tbody tr th:only-of-type {\n",
       "        vertical-align: middle;\n",
       "    }\n",
       "\n",
       "    .dataframe tbody tr th {\n",
       "        vertical-align: top;\n",
       "    }\n",
       "\n",
       "    .dataframe thead th {\n",
       "        text-align: right;\n",
       "    }\n",
       "</style>\n",
       "<table border=\"1\" class=\"dataframe\">\n",
       "  <thead>\n",
       "    <tr style=\"text-align: right;\">\n",
       "      <th></th>\n",
       "      <th>dia</th>\n",
       "      <th>temp</th>\n",
       "    </tr>\n",
       "  </thead>\n",
       "  <tbody>\n",
       "    <tr>\n",
       "      <th>0</th>\n",
       "      <td>1</td>\n",
       "      <td>67.640523</td>\n",
       "    </tr>\n",
       "    <tr>\n",
       "      <th>1</th>\n",
       "      <td>1</td>\n",
       "      <td>54.001572</td>\n",
       "    </tr>\n",
       "    <tr>\n",
       "      <th>2</th>\n",
       "      <td>2</td>\n",
       "      <td>59.787380</td>\n",
       "    </tr>\n",
       "    <tr>\n",
       "      <th>3</th>\n",
       "      <td>1</td>\n",
       "      <td>72.408932</td>\n",
       "    </tr>\n",
       "    <tr>\n",
       "      <th>4</th>\n",
       "      <td>1</td>\n",
       "      <td>68.675580</td>\n",
       "    </tr>\n",
       "  </tbody>\n",
       "</table>\n",
       "</div>"
      ],
      "text/plain": [
       "   dia       temp\n",
       "0    1  67.640523\n",
       "1    1  54.001572\n",
       "2    2  59.787380\n",
       "3    1  72.408932\n",
       "4    1  68.675580"
      ]
     },
     "execution_count": 72,
     "metadata": {},
     "output_type": "execute_result"
    }
   ],
   "source": [
    "df = pd.DataFrame({'dia':b, 'temp':a})\n",
    "df.head(5)"
   ]
  },
  {
   "cell_type": "markdown",
   "metadata": {
    "id": "fZ3xoT32iqtA"
   },
   "source": [
    "## Exercise 3\n",
    "2.3. Construya el objeto de Spark (SQL) que le permita trabajar con los dataframes de Spark."
   ]
  },
  {
   "cell_type": "code",
   "execution_count": 199,
   "metadata": {
    "ExecuteTime": {
     "end_time": "2021-02-03T11:04:58.968083Z",
     "start_time": "2021-02-03T11:04:58.959044Z"
    },
    "id": "SC_iZyuRqcvx"
   },
   "outputs": [
    {
     "name": "stdout",
     "output_type": "stream",
     "text": [
      "<pyspark.sql.context.SQLContext object at 0x11eff1da0>\n"
     ]
    }
   ],
   "source": [
    "from pyspark.sql import SQLContext\n",
    "sqlContext = SQLContext(sc)\n",
    "print(sqlContext)"
   ]
  },
  {
   "cell_type": "markdown",
   "metadata": {
    "id": "-9_VGuyyiqtA"
   },
   "source": [
    "## Exercise 4\n",
    "2.4. Convierta el dataframe de Pandas a un dataframe de Spark, definiendo explícitamente el esquema/estructura (utilice el tipo entero para el día y el tipo doble para la temperatura). Muestre los primeros 5 registros."
   ]
  },
  {
   "cell_type": "code",
   "execution_count": 74,
   "metadata": {
    "ExecuteTime": {
     "end_time": "2021-02-03T10:26:28.897562Z",
     "start_time": "2021-02-03T10:26:28.799841Z"
    },
    "colab": {
     "base_uri": "https://localhost:8080/"
    },
    "id": "cPROOkijqkyU",
    "outputId": "a1bc91ee-7481-407d-9c89-09842545c2d8"
   },
   "outputs": [
    {
     "name": "stdout",
     "output_type": "stream",
     "text": [
      "+---+------------------+\n",
      "|dia|              temp|\n",
      "+---+------------------+\n",
      "|  1| 67.64052345967664|\n",
      "|  1| 54.00157208367223|\n",
      "|  2|59.787379841057394|\n",
      "|  1| 72.40893199201457|\n",
      "|  1| 68.67557990149967|\n",
      "|  2| 40.22722120123589|\n",
      "|  3| 59.50088417525589|\n",
      "|  1| 48.48642791702302|\n",
      "|  3| 48.96781148206442|\n",
      "|  1| 54.10598501938372|\n",
      "|  3| 51.44043571160878|\n",
      "|  2| 64.54273506962976|\n",
      "|  3|57.610377251469934|\n",
      "|  2|51.216750164928285|\n",
      "|  3| 54.43863232745426|\n",
      "|  1| 53.33674327374267|\n",
      "|  1| 64.94079073157606|\n",
      "|  1| 47.94841736234199|\n",
      "|  1| 53.13067701650901|\n",
      "|  1| 41.45904260698275|\n",
      "+---+------------------+\n",
      "only showing top 20 rows\n",
      "\n"
     ]
    }
   ],
   "source": [
    "schemaString = \"dia temp\"\n",
    "fields = [StructField(field_name, StringType(), True) for field_name in schemaString.split()]\n",
    "schema = StructType(fields)\n",
    "sqlContext.createDataFrame(df, schema).show()"
   ]
  },
  {
   "cell_type": "markdown",
   "metadata": {
    "id": "oc_ICQnuiqtD"
   },
   "source": [
    "## Exercise 5 \n",
    "2.5. Partiendo del dataframe en Spark, construya un dataframe con el promedio de temperatura agrupado por día. El dataframe deberá contener únicamente las columnas \"dia\" y \"temp_prom\" (con esos nombres). Muestre la tabla resultante."
   ]
  },
  {
   "cell_type": "code",
   "execution_count": 75,
   "metadata": {
    "ExecuteTime": {
     "end_time": "2021-02-03T10:26:29.911108Z",
     "start_time": "2021-02-03T10:26:29.879642Z"
    }
   },
   "outputs": [],
   "source": [
    "sdf = sqlContext.createDataFrame(df)"
   ]
  },
  {
   "cell_type": "code",
   "execution_count": 76,
   "metadata": {
    "ExecuteTime": {
     "end_time": "2021-02-03T10:26:30.307430Z",
     "start_time": "2021-02-03T10:26:30.301499Z"
    }
   },
   "outputs": [
    {
     "data": {
      "text/plain": [
       "[('dia', 'bigint'), ('temp', 'double')]"
      ]
     },
     "execution_count": 76,
     "metadata": {},
     "output_type": "execute_result"
    }
   ],
   "source": [
    "sdf.dtypes"
   ]
  },
  {
   "cell_type": "code",
   "execution_count": 77,
   "metadata": {
    "ExecuteTime": {
     "end_time": "2021-02-03T10:26:30.868996Z",
     "start_time": "2021-02-03T10:26:30.704424Z"
    }
   },
   "outputs": [
    {
     "name": "stdout",
     "output_type": "stream",
     "text": [
      "+-------+------------------+------------------+\n",
      "|summary|               dia|              temp|\n",
      "+-------+------------------+------------------+\n",
      "|  count|                50|                50|\n",
      "|   mean|               1.8| 51.40559272313098|\n",
      "| stddev|0.8571428571428572|11.369498421503135|\n",
      "|    min|                 1|24.470101841659215|\n",
      "|    max|                 3| 72.69754623987608|\n",
      "+-------+------------------+------------------+\n",
      "\n"
     ]
    }
   ],
   "source": [
    "sdf.describe().show()"
   ]
  },
  {
   "cell_type": "code",
   "execution_count": 78,
   "metadata": {
    "ExecuteTime": {
     "end_time": "2021-02-03T10:26:31.926308Z",
     "start_time": "2021-02-03T10:26:31.222300Z"
    },
    "colab": {
     "base_uri": "https://localhost:8080/"
    },
    "id": "rKaV0yhHrHKM",
    "outputId": "651c539f-3a40-4838-acc1-0e2704f76ff1"
   },
   "outputs": [
    {
     "name": "stdout",
     "output_type": "stream",
     "text": [
      "+---+------------------+\n",
      "|dia|         temp_prom|\n",
      "+---+------------------+\n",
      "|  1| 50.29811401017008|\n",
      "|  3|49.940185026839416|\n",
      "|  2| 55.33019246139293|\n",
      "+---+------------------+\n",
      "\n"
     ]
    }
   ],
   "source": [
    "sdf.groupBy('dia').mean().select('dia','avg(temp)').withColumnRenamed('avg(temp)', 'temp_prom').show()"
   ]
  },
  {
   "cell_type": "markdown",
   "metadata": {
    "id": "hjMDMUx5iqtE"
   },
   "source": [
    "## Exercise 6\n",
    "2.6. Repita el ejercicio anterior registrando una vista temporal y ejecutando el código SQL correspondiente. Muestre la tabla resultante."
   ]
  },
  {
   "cell_type": "code",
   "execution_count": 83,
   "metadata": {
    "ExecuteTime": {
     "end_time": "2021-02-03T10:26:40.814052Z",
     "start_time": "2021-02-03T10:26:40.810753Z"
    },
    "id": "zPq5anWessg2"
   },
   "outputs": [],
   "source": [
    "sdf.createGlobalTempView(\"temp\")"
   ]
  },
  {
   "cell_type": "code",
   "execution_count": 80,
   "metadata": {
    "ExecuteTime": {
     "end_time": "2021-02-03T10:26:32.851450Z",
     "start_time": "2021-02-03T10:26:32.848249Z"
    }
   },
   "outputs": [],
   "source": [
    "query=\"\"\"\n",
    "SELECT\n",
    "    dia,\n",
    "    AVG(temp) as temp_prom\n",
    "FROM\n",
    "    global_temp.temp\n",
    "GROUP BY\n",
    "    dia\n",
    "ORDER BY\n",
    "    dia\n",
    "ASC\n",
    "\"\"\""
   ]
  },
  {
   "cell_type": "code",
   "execution_count": 81,
   "metadata": {
    "ExecuteTime": {
     "end_time": "2021-02-03T10:26:33.320383Z",
     "start_time": "2021-02-03T10:26:33.316722Z"
    }
   },
   "outputs": [],
   "source": [
    "#spark.sql(query).show(5)"
   ]
  },
  {
   "cell_type": "code",
   "execution_count": 84,
   "metadata": {
    "ExecuteTime": {
     "end_time": "2021-02-03T10:26:45.087216Z",
     "start_time": "2021-02-03T10:26:44.360490Z"
    }
   },
   "outputs": [
    {
     "name": "stdout",
     "output_type": "stream",
     "text": [
      "+---+------------------+\n",
      "|dia|         temp_prom|\n",
      "+---+------------------+\n",
      "|  1| 50.29811401017008|\n",
      "|  2| 55.33019246139293|\n",
      "|  3|49.940185026839416|\n",
      "+---+------------------+\n",
      "\n"
     ]
    }
   ],
   "source": [
    "sqlContext.sql(query).show(5)"
   ]
  },
  {
   "cell_type": "markdown",
   "metadata": {
    "id": "Qy24N7zjiqtF"
   },
   "source": [
    "## Exercise 7\n",
    "2.7. Combine los valores del dataframe anterior con el original. El dataframe resultante no deberá contener columnas repetidas y tendrá que estar ordenado de forma ascendente por día y temperatura. Muestre los primeros 5 elementos."
   ]
  },
  {
   "cell_type": "code",
   "execution_count": 85,
   "metadata": {
    "ExecuteTime": {
     "end_time": "2021-02-03T10:26:46.522522Z",
     "start_time": "2021-02-03T10:26:46.518721Z"
    }
   },
   "outputs": [],
   "source": [
    "query2 = \"\"\"\n",
    "SELECT\n",
    "    T.dia,\n",
    "    T.temp\n",
    "FROM global_temp.temp as T\n",
    "LEFT JOIN\n",
    "(SELECT dia, AVG(temp) as temp FROM global_temp.temp GROUP BY dia) as A \n",
    "ON\n",
    "    T.dia=A.dia\n",
    "ORDER BY\n",
    "    dia,\n",
    "    temp\n",
    "DESC\n",
    "\"\"\""
   ]
  },
  {
   "cell_type": "code",
   "execution_count": 86,
   "metadata": {
    "ExecuteTime": {
     "end_time": "2021-02-03T10:26:48.481589Z",
     "start_time": "2021-02-03T10:26:47.109822Z"
    },
    "colab": {
     "base_uri": "https://localhost:8080/"
    },
    "id": "guV9wWJNvYnX",
    "outputId": "8b52b664-ceb9-4946-a6ae-f1aa2376ee78"
   },
   "outputs": [
    {
     "name": "stdout",
     "output_type": "stream",
     "text": [
      "+---+-----------------+\n",
      "|dia|             temp|\n",
      "+---+-----------------+\n",
      "|  1|72.40893199201457|\n",
      "|  1|68.67557990149967|\n",
      "|  1|67.64052345967664|\n",
      "|  1|64.94079073157606|\n",
      "|  1|62.02379848784411|\n",
      "+---+-----------------+\n",
      "only showing top 5 rows\n",
      "\n"
     ]
    }
   ],
   "source": [
    "sqlContext.sql(query2).show(5)"
   ]
  },
  {
   "cell_type": "markdown",
   "metadata": {
    "id": "Fcub0VxniqtH"
   },
   "source": [
    "## Exercise 8\n",
    "2.8. Añada una columna adicicional con la diferencia entre la temperatura y su media. Asigne el nombre \"resid\". Muestre los primeros 5 elementos."
   ]
  },
  {
   "cell_type": "code",
   "execution_count": null,
   "metadata": {
    "ExecuteTime": {
     "end_time": "2021-02-03T10:26:48.585744Z",
     "start_time": "2021-02-03T10:26:48.075Z"
    }
   },
   "outputs": [],
   "source": [
    "query3 = \"\"\"\n",
    "SELECT\n",
    "    T.dia as dia,\n",
    "    T.temp as t_obs,\n",
    "    A.temp as t_avg,\n",
    "    T.temp - A.temp as t_resid\n",
    "FROM global_temp.temp as T\n",
    "LEFT JOIN\n",
    "(SELECT dia, AVG(temp) as temp FROM global_temp.temp GROUP BY dia) as A \n",
    "ON\n",
    "    T.dia=A.dia\n",
    "ORDER BY\n",
    "    dia,\n",
    "    t_obs,\n",
    "    t_avg,\n",
    "    t_resid\n",
    "DESC\n",
    "\"\"\""
   ]
  },
  {
   "cell_type": "code",
   "execution_count": 87,
   "metadata": {
    "ExecuteTime": {
     "end_time": "2021-02-03T10:26:50.230292Z",
     "start_time": "2021-02-03T10:26:48.711318Z"
    }
   },
   "outputs": [
    {
     "name": "stdout",
     "output_type": "stream",
     "text": [
      "+---+------------------+-----------------+-------------------+\n",
      "|dia|             t_obs|            t_avg|            t_resid|\n",
      "+---+------------------+-----------------+-------------------+\n",
      "|  1|24.470101841659215|50.29811401017008|-25.828012168510867|\n",
      "|  1| 33.86102152442049|50.29811401017008|-16.437092485749595|\n",
      "|  1| 35.45634325401235|50.29811401017008|-14.841770756157729|\n",
      "|  1| 35.79982062821025|50.29811401017008|-14.498293381959833|\n",
      "|  1| 41.12214252369887|50.29811401017008| -9.175971486471212|\n",
      "+---+------------------+-----------------+-------------------+\n",
      "only showing top 5 rows\n",
      "\n"
     ]
    }
   ],
   "source": [
    "sqlContext.sql(query3).show(5)"
   ]
  },
  {
   "cell_type": "markdown",
   "metadata": {
    "id": "p-jytBAgiqtI"
   },
   "source": [
    "## Exercise 9\n",
    "2.9. Construya un dataframe con todos los registros que posean residuales negativos. Muestre los primeros 5 elementos."
   ]
  },
  {
   "cell_type": "code",
   "execution_count": null,
   "metadata": {
    "ExecuteTime": {
     "end_time": "2021-02-03T10:26:50.338378Z",
     "start_time": "2021-02-03T10:26:49.560Z"
    }
   },
   "outputs": [],
   "source": [
    "query4 = \"\"\"\n",
    "SELECT\n",
    "    *\n",
    "FROM (\n",
    "SELECT\n",
    "    T.dia as dia,\n",
    "    T.temp as t_obs,\n",
    "    A.temp as t_avg,\n",
    "    T.temp - A.temp as t_resid\n",
    "FROM global_temp.temp as T\n",
    "LEFT JOIN\n",
    "(SELECT dia, AVG(temp) as temp FROM global_temp.temp GROUP BY dia) as A \n",
    "ON\n",
    "    T.dia=A.dia\n",
    "ORDER BY\n",
    "    t_resid\n",
    "ASC\n",
    ") as P\n",
    "WHERE \n",
    "    t_resid < 0\n",
    "\"\"\""
   ]
  },
  {
   "cell_type": "code",
   "execution_count": null,
   "metadata": {
    "ExecuteTime": {
     "end_time": "2021-02-03T10:26:50.340643Z",
     "start_time": "2021-02-03T10:26:50.129Z"
    }
   },
   "outputs": [],
   "source": [
    "sqlContext.sql(query4).show(5)"
   ]
  },
  {
   "cell_type": "code",
   "execution_count": 88,
   "metadata": {
    "ExecuteTime": {
     "end_time": "2021-02-03T10:26:52.045069Z",
     "start_time": "2021-02-03T10:26:50.953730Z"
    },
    "id": "XWWNuJp_yNkz"
   },
   "outputs": [
    {
     "name": "stdout",
     "output_type": "stream",
     "text": [
      "+---+------------------+------------------+-------------------+\n",
      "|dia|             t_obs|             t_avg|            t_resid|\n",
      "+---+------------------+------------------+-------------------+\n",
      "|  1|24.470101841659215| 50.29811401017008|-25.828012168510867|\n",
      "|  3| 30.19203531776073|49.940185026839416|-19.748149709078685|\n",
      "|  2| 37.47204639950074| 55.33019246139293|-17.858146061892192|\n",
      "|  3|32.937298093749874|49.940185026839416|-17.002886933089542|\n",
      "|  1| 33.86102152442049| 50.29811401017008|-16.437092485749595|\n",
      "+---+------------------+------------------+-------------------+\n",
      "only showing top 5 rows\n",
      "\n"
     ]
    }
   ],
   "source": [
    "df_temp = sqlContext.sql(query4)\n",
    "df_temp.show(5)"
   ]
  },
  {
   "cell_type": "markdown",
   "metadata": {
    "id": "0fy9gOEUiqtI"
   },
   "source": [
    "## Exercise 10\n",
    "2.10. Guarde el dataframe resultante en formato JSON. En caso de que el archivo ya exista, deberá sobreescribirse."
   ]
  },
  {
   "cell_type": "code",
   "execution_count": 89,
   "metadata": {
    "ExecuteTime": {
     "end_time": "2021-02-03T10:27:00.590021Z",
     "start_time": "2021-02-03T10:26:54.866595Z"
    }
   },
   "outputs": [],
   "source": [
    "df_temp.select(\"t_resid\", \"dia\").write.format('com.databricks.spark.csv') \\\n",
    "  .mode('overwrite').option(\"header\", \"true\").save(\"temp.json\",format=\"json\")"
   ]
  },
  {
   "cell_type": "code",
   "execution_count": null,
   "metadata": {
    "ExecuteTime": {
     "end_time": "2021-02-03T10:27:00.890281Z",
     "start_time": "2021-02-03T10:26:56.393Z"
    }
   },
   "outputs": [],
   "source": [
    "%ls"
   ]
  },
  {
   "cell_type": "markdown",
   "metadata": {
    "id": "y-OLudzciqtL"
   },
   "source": [
    "# Spark MLlib"
   ]
  },
  {
   "cell_type": "markdown",
   "metadata": {
    "id": "zBG1JNy0iqtM"
   },
   "source": [
    "En esta sección se evalúan los conocimientos de Spark MLlib. Si bien son necesarios los conociemientos en Machine Learning, el candidato no será evaluado por la calidad del modelo producido."
   ]
  },
  {
   "cell_type": "markdown",
   "metadata": {
    "id": "QC_YTZJEiqtN"
   },
   "source": [
    "## Load data\n",
    "load data from _data.csv_"
   ]
  },
  {
   "cell_type": "code",
   "execution_count": 90,
   "metadata": {
    "ExecuteTime": {
     "end_time": "2021-02-03T10:27:04.706836Z",
     "start_time": "2021-02-03T10:27:04.700646Z"
    },
    "colab": {
     "base_uri": "https://localhost:8080/"
    },
    "id": "fpEr7T9dzO85",
    "outputId": "8ccbea9e-41ff-4193-d3bf-12e3f76970ca"
   },
   "outputs": [],
   "source": [
    "#from google.colab import drive\n",
    "#drive.mount('/content/drive')"
   ]
  },
  {
   "cell_type": "code",
   "execution_count": 202,
   "metadata": {
    "ExecuteTime": {
     "end_time": "2021-02-03T11:05:24.948406Z",
     "start_time": "2021-02-03T11:05:24.740128Z"
    }
   },
   "outputs": [],
   "source": [
    "df_data = spark.read.csv(path='data.csv',\n",
    "                         sep=',',\n",
    "                         encoding='UTF-8',\n",
    "                         comment=None, \n",
    "                         header=True, \n",
    "                         inferSchema=True)"
   ]
  },
  {
   "cell_type": "code",
   "execution_count": 203,
   "metadata": {
    "ExecuteTime": {
     "end_time": "2021-02-03T11:05:25.985702Z",
     "start_time": "2021-02-03T11:05:25.621519Z"
    }
   },
   "outputs": [
    {
     "name": "stdout",
     "output_type": "stream",
     "text": [
      "Memory usage: 0.064928 MB\n"
     ]
    }
   ],
   "source": [
    "print('Memory usage: {} MB'.format(df_data.toPandas().memory_usage().sum()/1000000))"
   ]
  },
  {
   "cell_type": "code",
   "execution_count": 204,
   "metadata": {
    "ExecuteTime": {
     "end_time": "2021-02-03T11:05:26.801976Z",
     "start_time": "2021-02-03T11:05:26.499427Z"
    }
   },
   "outputs": [
    {
     "data": {
      "text/html": [
       "<div>\n",
       "<style scoped>\n",
       "    .dataframe tbody tr th:only-of-type {\n",
       "        vertical-align: middle;\n",
       "    }\n",
       "\n",
       "    .dataframe tbody tr th {\n",
       "        vertical-align: top;\n",
       "    }\n",
       "\n",
       "    .dataframe thead th {\n",
       "        text-align: right;\n",
       "    }\n",
       "</style>\n",
       "<table border=\"1\" class=\"dataframe\">\n",
       "  <thead>\n",
       "    <tr style=\"text-align: right;\">\n",
       "      <th></th>\n",
       "      <th>Names</th>\n",
       "      <th>Age</th>\n",
       "      <th>Total_Purchase</th>\n",
       "      <th>Account_Manager</th>\n",
       "      <th>Years</th>\n",
       "      <th>Num_Sites</th>\n",
       "      <th>Onboard_date</th>\n",
       "      <th>Location</th>\n",
       "      <th>Company</th>\n",
       "      <th>Churn</th>\n",
       "    </tr>\n",
       "  </thead>\n",
       "  <tbody>\n",
       "    <tr>\n",
       "      <th>0</th>\n",
       "      <td>Cameron Williams</td>\n",
       "      <td>42.0</td>\n",
       "      <td>11066.80</td>\n",
       "      <td>0</td>\n",
       "      <td>7.22</td>\n",
       "      <td>8.0</td>\n",
       "      <td>2013-08-30 07:00:40</td>\n",
       "      <td>10265 Elizabeth Mission Barkerburgh, AK 89518</td>\n",
       "      <td>Harvey LLC</td>\n",
       "      <td>1</td>\n",
       "    </tr>\n",
       "    <tr>\n",
       "      <th>1</th>\n",
       "      <td>Kevin Mueller</td>\n",
       "      <td>41.0</td>\n",
       "      <td>11916.22</td>\n",
       "      <td>0</td>\n",
       "      <td>6.50</td>\n",
       "      <td>11.0</td>\n",
       "      <td>2013-08-13 00:38:46</td>\n",
       "      <td>6157 Frank Gardens Suite 019 Carloshaven, RI 1...</td>\n",
       "      <td>Wilson PLC</td>\n",
       "      <td>1</td>\n",
       "    </tr>\n",
       "  </tbody>\n",
       "</table>\n",
       "</div>"
      ],
      "text/plain": [
       "              Names   Age  Total_Purchase  Account_Manager  Years  Num_Sites  \\\n",
       "0  Cameron Williams  42.0        11066.80                0   7.22        8.0   \n",
       "1     Kevin Mueller  41.0        11916.22                0   6.50       11.0   \n",
       "\n",
       "         Onboard_date                                           Location  \\\n",
       "0 2013-08-30 07:00:40      10265 Elizabeth Mission Barkerburgh, AK 89518   \n",
       "1 2013-08-13 00:38:46  6157 Frank Gardens Suite 019 Carloshaven, RI 1...   \n",
       "\n",
       "      Company  Churn  \n",
       "0  Harvey LLC      1  \n",
       "1  Wilson PLC      1  "
      ]
     },
     "execution_count": 204,
     "metadata": {},
     "output_type": "execute_result"
    }
   ],
   "source": [
    "df_data.toPandas().head(2)"
   ]
  },
  {
   "cell_type": "code",
   "execution_count": 92,
   "metadata": {
    "ExecuteTime": {
     "end_time": "2021-02-03T10:27:11.472911Z",
     "start_time": "2021-02-03T10:27:11.312906Z"
    }
   },
   "outputs": [
    {
     "name": "stdout",
     "output_type": "stream",
     "text": [
      "[Row(Names='Cameron Williams', Age=42.0, Total_Purchase=11066.8, Account_Manager=0, Years=7.22, Num_Sites=8.0, Onboard_date=datetime.datetime(2013, 8, 30, 7, 0, 40), Location='10265 Elizabeth Mission Barkerburgh, AK 89518', Company='Harvey LLC', Churn=1), Row(Names='Kevin Mueller', Age=41.0, Total_Purchase=11916.22, Account_Manager=0, Years=6.5, Num_Sites=11.0, Onboard_date=datetime.datetime(2013, 8, 13, 0, 38, 46), Location='6157 Frank Gardens Suite 019 Carloshaven, RI 17756', Company='Wilson PLC', Churn=1)]\n"
     ]
    }
   ],
   "source": [
    "print(df_data.limit(2).collect() )"
   ]
  },
  {
   "cell_type": "code",
   "execution_count": 93,
   "metadata": {
    "ExecuteTime": {
     "end_time": "2021-02-03T10:27:12.511160Z",
     "start_time": "2021-02-03T10:27:12.359497Z"
    }
   },
   "outputs": [
    {
     "data": {
      "text/plain": [
       "[Row(Names='Cameron Williams', Age=42.0, Total_Purchase=11066.8, Account_Manager=0, Years=7.22, Num_Sites=8.0, Onboard_date=datetime.datetime(2013, 8, 30, 7, 0, 40), Location='10265 Elizabeth Mission Barkerburgh, AK 89518', Company='Harvey LLC', Churn=1),\n",
       " Row(Names='Kevin Mueller', Age=41.0, Total_Purchase=11916.22, Account_Manager=0, Years=6.5, Num_Sites=11.0, Onboard_date=datetime.datetime(2013, 8, 13, 0, 38, 46), Location='6157 Frank Gardens Suite 019 Carloshaven, RI 17756', Company='Wilson PLC', Churn=1)]"
      ]
     },
     "execution_count": 93,
     "metadata": {},
     "output_type": "execute_result"
    }
   ],
   "source": [
    "df_data.take(2)"
   ]
  },
  {
   "cell_type": "markdown",
   "metadata": {
    "id": "_GpNiL9viqtN"
   },
   "source": [
    "## EDA \n",
    "estadísticos básicos de las columnas"
   ]
  },
  {
   "cell_type": "code",
   "execution_count": 94,
   "metadata": {
    "ExecuteTime": {
     "end_time": "2021-02-03T10:27:14.935274Z",
     "start_time": "2021-02-03T10:27:14.215887Z"
    }
   },
   "outputs": [
    {
     "data": {
      "text/html": [
       "<div>\n",
       "<style scoped>\n",
       "    .dataframe tbody tr th:only-of-type {\n",
       "        vertical-align: middle;\n",
       "    }\n",
       "\n",
       "    .dataframe tbody tr th {\n",
       "        vertical-align: top;\n",
       "    }\n",
       "\n",
       "    .dataframe thead th {\n",
       "        text-align: right;\n",
       "    }\n",
       "</style>\n",
       "<table border=\"1\" class=\"dataframe\">\n",
       "  <thead>\n",
       "    <tr style=\"text-align: right;\">\n",
       "      <th></th>\n",
       "      <th>Age</th>\n",
       "      <th>Total_Purchase</th>\n",
       "      <th>Account_Manager</th>\n",
       "      <th>Years</th>\n",
       "      <th>Num_Sites</th>\n",
       "      <th>Churn</th>\n",
       "    </tr>\n",
       "  </thead>\n",
       "  <tbody>\n",
       "    <tr>\n",
       "      <th>count</th>\n",
       "      <td>900.000000</td>\n",
       "      <td>900.000000</td>\n",
       "      <td>900.000000</td>\n",
       "      <td>900.000000</td>\n",
       "      <td>900.000000</td>\n",
       "      <td>900.000000</td>\n",
       "    </tr>\n",
       "    <tr>\n",
       "      <th>mean</th>\n",
       "      <td>41.816667</td>\n",
       "      <td>10062.824033</td>\n",
       "      <td>0.481111</td>\n",
       "      <td>5.273156</td>\n",
       "      <td>8.587778</td>\n",
       "      <td>0.166667</td>\n",
       "    </tr>\n",
       "    <tr>\n",
       "      <th>std</th>\n",
       "      <td>6.127560</td>\n",
       "      <td>2408.644532</td>\n",
       "      <td>0.499921</td>\n",
       "      <td>1.274449</td>\n",
       "      <td>1.764836</td>\n",
       "      <td>0.372885</td>\n",
       "    </tr>\n",
       "    <tr>\n",
       "      <th>min</th>\n",
       "      <td>22.000000</td>\n",
       "      <td>100.000000</td>\n",
       "      <td>0.000000</td>\n",
       "      <td>1.000000</td>\n",
       "      <td>3.000000</td>\n",
       "      <td>0.000000</td>\n",
       "    </tr>\n",
       "    <tr>\n",
       "      <th>25%</th>\n",
       "      <td>38.000000</td>\n",
       "      <td>8497.122500</td>\n",
       "      <td>0.000000</td>\n",
       "      <td>4.450000</td>\n",
       "      <td>7.000000</td>\n",
       "      <td>0.000000</td>\n",
       "    </tr>\n",
       "    <tr>\n",
       "      <th>50%</th>\n",
       "      <td>42.000000</td>\n",
       "      <td>10045.870000</td>\n",
       "      <td>0.000000</td>\n",
       "      <td>5.215000</td>\n",
       "      <td>8.000000</td>\n",
       "      <td>0.000000</td>\n",
       "    </tr>\n",
       "    <tr>\n",
       "      <th>75%</th>\n",
       "      <td>46.000000</td>\n",
       "      <td>11760.105000</td>\n",
       "      <td>1.000000</td>\n",
       "      <td>6.110000</td>\n",
       "      <td>10.000000</td>\n",
       "      <td>0.000000</td>\n",
       "    </tr>\n",
       "    <tr>\n",
       "      <th>max</th>\n",
       "      <td>65.000000</td>\n",
       "      <td>18026.010000</td>\n",
       "      <td>1.000000</td>\n",
       "      <td>9.150000</td>\n",
       "      <td>14.000000</td>\n",
       "      <td>1.000000</td>\n",
       "    </tr>\n",
       "  </tbody>\n",
       "</table>\n",
       "</div>"
      ],
      "text/plain": [
       "              Age  Total_Purchase  Account_Manager       Years   Num_Sites  \\\n",
       "count  900.000000      900.000000       900.000000  900.000000  900.000000   \n",
       "mean    41.816667    10062.824033         0.481111    5.273156    8.587778   \n",
       "std      6.127560     2408.644532         0.499921    1.274449    1.764836   \n",
       "min     22.000000      100.000000         0.000000    1.000000    3.000000   \n",
       "25%     38.000000     8497.122500         0.000000    4.450000    7.000000   \n",
       "50%     42.000000    10045.870000         0.000000    5.215000    8.000000   \n",
       "75%     46.000000    11760.105000         1.000000    6.110000   10.000000   \n",
       "max     65.000000    18026.010000         1.000000    9.150000   14.000000   \n",
       "\n",
       "            Churn  \n",
       "count  900.000000  \n",
       "mean     0.166667  \n",
       "std      0.372885  \n",
       "min      0.000000  \n",
       "25%      0.000000  \n",
       "50%      0.000000  \n",
       "75%      0.000000  \n",
       "max      1.000000  "
      ]
     },
     "execution_count": 94,
     "metadata": {},
     "output_type": "execute_result"
    }
   ],
   "source": [
    "df_data.toPandas().describe()"
   ]
  },
  {
   "cell_type": "code",
   "execution_count": 95,
   "metadata": {
    "ExecuteTime": {
     "end_time": "2021-02-03T10:27:19.193207Z",
     "start_time": "2021-02-03T10:27:18.662314Z"
    }
   },
   "outputs": [
    {
     "data": {
      "text/html": [
       "<div>\n",
       "<style scoped>\n",
       "    .dataframe tbody tr th:only-of-type {\n",
       "        vertical-align: middle;\n",
       "    }\n",
       "\n",
       "    .dataframe tbody tr th {\n",
       "        vertical-align: top;\n",
       "    }\n",
       "\n",
       "    .dataframe thead th {\n",
       "        text-align: right;\n",
       "    }\n",
       "</style>\n",
       "<table border=\"1\" class=\"dataframe\">\n",
       "  <thead>\n",
       "    <tr style=\"text-align: right;\">\n",
       "      <th></th>\n",
       "      <th>Names</th>\n",
       "      <th>Age</th>\n",
       "      <th>Total_Purchase</th>\n",
       "      <th>Account_Manager</th>\n",
       "      <th>Years</th>\n",
       "      <th>Num_Sites</th>\n",
       "      <th>Onboard_date</th>\n",
       "      <th>Location</th>\n",
       "      <th>Company</th>\n",
       "      <th>Churn</th>\n",
       "    </tr>\n",
       "  </thead>\n",
       "  <tbody>\n",
       "    <tr>\n",
       "      <th>0</th>\n",
       "      <td>Cameron Williams</td>\n",
       "      <td>42.0</td>\n",
       "      <td>11066.80</td>\n",
       "      <td>0</td>\n",
       "      <td>7.22</td>\n",
       "      <td>8.0</td>\n",
       "      <td>2013-08-30 07:00:40</td>\n",
       "      <td>10265 Elizabeth Mission Barkerburgh, AK 89518</td>\n",
       "      <td>Harvey LLC</td>\n",
       "      <td>1</td>\n",
       "    </tr>\n",
       "    <tr>\n",
       "      <th>1</th>\n",
       "      <td>Kevin Mueller</td>\n",
       "      <td>41.0</td>\n",
       "      <td>11916.22</td>\n",
       "      <td>0</td>\n",
       "      <td>6.50</td>\n",
       "      <td>11.0</td>\n",
       "      <td>2013-08-13 00:38:46</td>\n",
       "      <td>6157 Frank Gardens Suite 019 Carloshaven, RI 1...</td>\n",
       "      <td>Wilson PLC</td>\n",
       "      <td>1</td>\n",
       "    </tr>\n",
       "  </tbody>\n",
       "</table>\n",
       "</div>"
      ],
      "text/plain": [
       "              Names   Age  Total_Purchase  Account_Manager  Years  Num_Sites  \\\n",
       "0  Cameron Williams  42.0        11066.80                0   7.22        8.0   \n",
       "1     Kevin Mueller  41.0        11916.22                0   6.50       11.0   \n",
       "\n",
       "         Onboard_date                                           Location  \\\n",
       "0 2013-08-30 07:00:40      10265 Elizabeth Mission Barkerburgh, AK 89518   \n",
       "1 2013-08-13 00:38:46  6157 Frank Gardens Suite 019 Carloshaven, RI 1...   \n",
       "\n",
       "      Company  Churn  \n",
       "0  Harvey LLC      1  \n",
       "1  Wilson PLC      1  "
      ]
     },
     "execution_count": 95,
     "metadata": {},
     "output_type": "execute_result"
    }
   ],
   "source": [
    "df_data.toPandas().head(2)"
   ]
  },
  {
   "cell_type": "markdown",
   "metadata": {},
   "source": [
    "## Convert timestamp into variables"
   ]
  },
  {
   "cell_type": "code",
   "execution_count": 212,
   "metadata": {
    "ExecuteTime": {
     "end_time": "2021-02-03T11:08:23.544741Z",
     "start_time": "2021-02-03T11:08:23.482691Z"
    }
   },
   "outputs": [],
   "source": [
    "df_data = df_data.withColumn(\"year\", sf.year(sf.col(\"Onboard_date\")))\n",
    "df_data = df_data.withColumn(\"month\", sf.month(sf.col(\"Onboard_date\")))\n",
    "df_data = df_data.withColumn(\"day\", sf.dayofmonth(sf.col(\"Onboard_date\")))\n",
    "df_data = df_data.withColumn(\"weekday\", sf.dayofweek(sf.col(\"Onboard_date\")))\n",
    "df_data = df_data.withColumn(\"hour\", sf.hour(sf.col(\"Onboard_date\")))\n",
    "df_data = df_data.withColumn(\"minute\", sf.minute(sf.col(\"Onboard_date\")))"
   ]
  },
  {
   "cell_type": "code",
   "execution_count": 97,
   "metadata": {
    "ExecuteTime": {
     "end_time": "2021-02-03T10:28:02.649539Z",
     "start_time": "2021-02-03T10:28:01.755727Z"
    }
   },
   "outputs": [
    {
     "data": {
      "text/html": [
       "<div>\n",
       "<style scoped>\n",
       "    .dataframe tbody tr th:only-of-type {\n",
       "        vertical-align: middle;\n",
       "    }\n",
       "\n",
       "    .dataframe tbody tr th {\n",
       "        vertical-align: top;\n",
       "    }\n",
       "\n",
       "    .dataframe thead th {\n",
       "        text-align: right;\n",
       "    }\n",
       "</style>\n",
       "<table border=\"1\" class=\"dataframe\">\n",
       "  <thead>\n",
       "    <tr style=\"text-align: right;\">\n",
       "      <th></th>\n",
       "      <th>Names</th>\n",
       "      <th>Age</th>\n",
       "      <th>Total_Purchase</th>\n",
       "      <th>Account_Manager</th>\n",
       "      <th>Years</th>\n",
       "      <th>Num_Sites</th>\n",
       "      <th>Onboard_date</th>\n",
       "      <th>Location</th>\n",
       "      <th>Company</th>\n",
       "      <th>Churn</th>\n",
       "      <th>year</th>\n",
       "      <th>month</th>\n",
       "      <th>day</th>\n",
       "      <th>weekday</th>\n",
       "      <th>hour</th>\n",
       "      <th>minute</th>\n",
       "    </tr>\n",
       "  </thead>\n",
       "  <tbody>\n",
       "    <tr>\n",
       "      <th>0</th>\n",
       "      <td>Cameron Williams</td>\n",
       "      <td>42.0</td>\n",
       "      <td>11066.80</td>\n",
       "      <td>0</td>\n",
       "      <td>7.22</td>\n",
       "      <td>8.0</td>\n",
       "      <td>2013-08-30 07:00:40</td>\n",
       "      <td>10265 Elizabeth Mission Barkerburgh, AK 89518</td>\n",
       "      <td>Harvey LLC</td>\n",
       "      <td>1</td>\n",
       "      <td>2013</td>\n",
       "      <td>8</td>\n",
       "      <td>30</td>\n",
       "      <td>6</td>\n",
       "      <td>7</td>\n",
       "      <td>0</td>\n",
       "    </tr>\n",
       "    <tr>\n",
       "      <th>1</th>\n",
       "      <td>Kevin Mueller</td>\n",
       "      <td>41.0</td>\n",
       "      <td>11916.22</td>\n",
       "      <td>0</td>\n",
       "      <td>6.50</td>\n",
       "      <td>11.0</td>\n",
       "      <td>2013-08-13 00:38:46</td>\n",
       "      <td>6157 Frank Gardens Suite 019 Carloshaven, RI 1...</td>\n",
       "      <td>Wilson PLC</td>\n",
       "      <td>1</td>\n",
       "      <td>2013</td>\n",
       "      <td>8</td>\n",
       "      <td>13</td>\n",
       "      <td>3</td>\n",
       "      <td>0</td>\n",
       "      <td>38</td>\n",
       "    </tr>\n",
       "  </tbody>\n",
       "</table>\n",
       "</div>"
      ],
      "text/plain": [
       "              Names   Age  Total_Purchase  Account_Manager  Years  Num_Sites  \\\n",
       "0  Cameron Williams  42.0        11066.80                0   7.22        8.0   \n",
       "1     Kevin Mueller  41.0        11916.22                0   6.50       11.0   \n",
       "\n",
       "         Onboard_date                                           Location  \\\n",
       "0 2013-08-30 07:00:40      10265 Elizabeth Mission Barkerburgh, AK 89518   \n",
       "1 2013-08-13 00:38:46  6157 Frank Gardens Suite 019 Carloshaven, RI 1...   \n",
       "\n",
       "      Company  Churn  year  month  day  weekday  hour  minute  \n",
       "0  Harvey LLC      1  2013      8   30        6     7       0  \n",
       "1  Wilson PLC      1  2013      8   13        3     0      38  "
      ]
     },
     "execution_count": 97,
     "metadata": {},
     "output_type": "execute_result"
    }
   ],
   "source": [
    "df_data.toPandas().head(2)"
   ]
  },
  {
   "cell_type": "code",
   "execution_count": 213,
   "metadata": {
    "ExecuteTime": {
     "end_time": "2021-02-03T11:08:25.609080Z",
     "start_time": "2021-02-03T11:08:25.601034Z"
    }
   },
   "outputs": [],
   "source": [
    "df_data = df_data.drop('Onboard_date')"
   ]
  },
  {
   "cell_type": "code",
   "execution_count": 99,
   "metadata": {
    "ExecuteTime": {
     "end_time": "2021-02-03T10:28:08.079310Z",
     "start_time": "2021-02-03T10:28:08.058775Z"
    }
   },
   "outputs": [
    {
     "data": {
      "text/plain": [
       "[('Names', 'string'),\n",
       " ('Age', 'double'),\n",
       " ('Total_Purchase', 'double'),\n",
       " ('Account_Manager', 'int'),\n",
       " ('Years', 'double'),\n",
       " ('Num_Sites', 'double'),\n",
       " ('Location', 'string'),\n",
       " ('Company', 'string'),\n",
       " ('Churn', 'int'),\n",
       " ('year', 'int'),\n",
       " ('month', 'int'),\n",
       " ('day', 'int'),\n",
       " ('weekday', 'int'),\n",
       " ('hour', 'int'),\n",
       " ('minute', 'int')]"
      ]
     },
     "execution_count": 99,
     "metadata": {},
     "output_type": "execute_result"
    }
   ],
   "source": [
    "df_data.dtypes"
   ]
  },
  {
   "cell_type": "markdown",
   "metadata": {},
   "source": [
    "## Plot distributions of the features"
   ]
  },
  {
   "cell_type": "code",
   "execution_count": 100,
   "metadata": {
    "ExecuteTime": {
     "end_time": "2021-02-03T10:28:18.397183Z",
     "start_time": "2021-02-03T10:28:09.047283Z"
    }
   },
   "outputs": [
    {
     "data": {
      "image/png": "[encoded data removed]",
      "text/plain": [
       "<Figure size 1800x1080 with 10 Axes>"
      ]
     },
     "metadata": {
      "needs_background": "light"
     },
     "output_type": "display_data"
    }
   ],
   "source": [
    "fig = plt.figure(figsize=(25,15)) ## Plot Size \n",
    "st = fig.suptitle(\"Distribution of Features\", fontsize=50,\n",
    "                  verticalalignment='center') # Plot Main Title \n",
    "\n",
    "for col,num in zip(df_data.toPandas().describe().columns, range(1,11)):\n",
    "    ax = fig.add_subplot(3,4,num)\n",
    "    ax.hist(df_data.toPandas()[col])\n",
    "    #plt.style.use('dark_background') \n",
    "    plt.grid(False)\n",
    "    plt.xticks(rotation=45,fontsize=20)\n",
    "    plt.yticks(fontsize=15)\n",
    "    plt.title(col.upper(),fontsize=20)\n",
    "plt.tight_layout()\n",
    "st.set_y(0.95)\n",
    "fig.subplots_adjust(top=0.85,hspace = 0.4)\n",
    "plt.show()"
   ]
  },
  {
   "cell_type": "markdown",
   "metadata": {},
   "source": [
    "## Transformations"
   ]
  },
  {
   "cell_type": "markdown",
   "metadata": {},
   "source": [
    "## Get numerical variables"
   ]
  },
  {
   "cell_type": "code",
   "execution_count": 101,
   "metadata": {
    "ExecuteTime": {
     "end_time": "2021-02-03T10:28:22.929911Z",
     "start_time": "2021-02-03T10:28:22.362346Z"
    }
   },
   "outputs": [
    {
     "data": {
      "text/html": [
       "<div>\n",
       "<style scoped>\n",
       "    .dataframe tbody tr th:only-of-type {\n",
       "        vertical-align: middle;\n",
       "    }\n",
       "\n",
       "    .dataframe tbody tr th {\n",
       "        vertical-align: top;\n",
       "    }\n",
       "\n",
       "    .dataframe thead th {\n",
       "        text-align: right;\n",
       "    }\n",
       "</style>\n",
       "<table border=\"1\" class=\"dataframe\">\n",
       "  <thead>\n",
       "    <tr style=\"text-align: right;\">\n",
       "      <th></th>\n",
       "      <th>Age</th>\n",
       "      <th>Total_Purchase</th>\n",
       "      <th>Account_Manager</th>\n",
       "      <th>Years</th>\n",
       "      <th>Num_Sites</th>\n",
       "      <th>Churn</th>\n",
       "      <th>year</th>\n",
       "      <th>month</th>\n",
       "      <th>day</th>\n",
       "      <th>weekday</th>\n",
       "      <th>hour</th>\n",
       "      <th>minute</th>\n",
       "    </tr>\n",
       "  </thead>\n",
       "  <tbody>\n",
       "    <tr>\n",
       "      <th>0</th>\n",
       "      <td>42.0</td>\n",
       "      <td>11066.80</td>\n",
       "      <td>0</td>\n",
       "      <td>7.22</td>\n",
       "      <td>8.0</td>\n",
       "      <td>1</td>\n",
       "      <td>2013</td>\n",
       "      <td>8</td>\n",
       "      <td>30</td>\n",
       "      <td>6</td>\n",
       "      <td>7</td>\n",
       "      <td>0</td>\n",
       "    </tr>\n",
       "    <tr>\n",
       "      <th>1</th>\n",
       "      <td>41.0</td>\n",
       "      <td>11916.22</td>\n",
       "      <td>0</td>\n",
       "      <td>6.50</td>\n",
       "      <td>11.0</td>\n",
       "      <td>1</td>\n",
       "      <td>2013</td>\n",
       "      <td>8</td>\n",
       "      <td>13</td>\n",
       "      <td>3</td>\n",
       "      <td>0</td>\n",
       "      <td>38</td>\n",
       "    </tr>\n",
       "    <tr>\n",
       "      <th>2</th>\n",
       "      <td>38.0</td>\n",
       "      <td>12884.75</td>\n",
       "      <td>0</td>\n",
       "      <td>6.67</td>\n",
       "      <td>12.0</td>\n",
       "      <td>1</td>\n",
       "      <td>2016</td>\n",
       "      <td>6</td>\n",
       "      <td>29</td>\n",
       "      <td>4</td>\n",
       "      <td>6</td>\n",
       "      <td>20</td>\n",
       "    </tr>\n",
       "    <tr>\n",
       "      <th>3</th>\n",
       "      <td>42.0</td>\n",
       "      <td>8010.76</td>\n",
       "      <td>0</td>\n",
       "      <td>6.71</td>\n",
       "      <td>10.0</td>\n",
       "      <td>1</td>\n",
       "      <td>2014</td>\n",
       "      <td>4</td>\n",
       "      <td>22</td>\n",
       "      <td>3</td>\n",
       "      <td>12</td>\n",
       "      <td>43</td>\n",
       "    </tr>\n",
       "    <tr>\n",
       "      <th>4</th>\n",
       "      <td>37.0</td>\n",
       "      <td>9191.58</td>\n",
       "      <td>0</td>\n",
       "      <td>5.56</td>\n",
       "      <td>9.0</td>\n",
       "      <td>1</td>\n",
       "      <td>2016</td>\n",
       "      <td>1</td>\n",
       "      <td>19</td>\n",
       "      <td>3</td>\n",
       "      <td>15</td>\n",
       "      <td>31</td>\n",
       "    </tr>\n",
       "  </tbody>\n",
       "</table>\n",
       "</div>"
      ],
      "text/plain": [
       "    Age  Total_Purchase  Account_Manager  Years  Num_Sites  Churn  year  \\\n",
       "0  42.0        11066.80                0   7.22        8.0      1  2013   \n",
       "1  41.0        11916.22                0   6.50       11.0      1  2013   \n",
       "2  38.0        12884.75                0   6.67       12.0      1  2016   \n",
       "3  42.0         8010.76                0   6.71       10.0      1  2014   \n",
       "4  37.0         9191.58                0   5.56        9.0      1  2016   \n",
       "\n",
       "   month  day  weekday  hour  minute  \n",
       "0      8   30        6     7       0  \n",
       "1      8   13        3     0      38  \n",
       "2      6   29        4     6      20  \n",
       "3      4   22        3    12      43  \n",
       "4      1   19        3    15      31  "
      ]
     },
     "execution_count": 101,
     "metadata": {},
     "output_type": "execute_result"
    }
   ],
   "source": [
    "numeric_features = [t[0] for t in df_data.dtypes if t[1] != 'string']\n",
    "numeric_features_df = df_data.select(numeric_features)\n",
    "numeric_features_df.toPandas().head()"
   ]
  },
  {
   "cell_type": "markdown",
   "metadata": {},
   "source": [
    "## Get categorical features"
   ]
  },
  {
   "cell_type": "code",
   "execution_count": 102,
   "metadata": {
    "ExecuteTime": {
     "end_time": "2021-02-03T10:28:28.628552Z",
     "start_time": "2021-02-03T10:28:28.273184Z"
    }
   },
   "outputs": [
    {
     "data": {
      "text/html": [
       "<div>\n",
       "<style scoped>\n",
       "    .dataframe tbody tr th:only-of-type {\n",
       "        vertical-align: middle;\n",
       "    }\n",
       "\n",
       "    .dataframe tbody tr th {\n",
       "        vertical-align: top;\n",
       "    }\n",
       "\n",
       "    .dataframe thead th {\n",
       "        text-align: right;\n",
       "    }\n",
       "</style>\n",
       "<table border=\"1\" class=\"dataframe\">\n",
       "  <thead>\n",
       "    <tr style=\"text-align: right;\">\n",
       "      <th></th>\n",
       "      <th>Names</th>\n",
       "      <th>Location</th>\n",
       "      <th>Company</th>\n",
       "    </tr>\n",
       "  </thead>\n",
       "  <tbody>\n",
       "    <tr>\n",
       "      <th>0</th>\n",
       "      <td>Cameron Williams</td>\n",
       "      <td>10265 Elizabeth Mission Barkerburgh, AK 89518</td>\n",
       "      <td>Harvey LLC</td>\n",
       "    </tr>\n",
       "    <tr>\n",
       "      <th>1</th>\n",
       "      <td>Kevin Mueller</td>\n",
       "      <td>6157 Frank Gardens Suite 019 Carloshaven, RI 1...</td>\n",
       "      <td>Wilson PLC</td>\n",
       "    </tr>\n",
       "    <tr>\n",
       "      <th>2</th>\n",
       "      <td>Eric Lozano</td>\n",
       "      <td>1331 Keith Court Alyssahaven, DE 90114</td>\n",
       "      <td>Miller, Johnson and Wallace</td>\n",
       "    </tr>\n",
       "    <tr>\n",
       "      <th>3</th>\n",
       "      <td>Phillip White</td>\n",
       "      <td>13120 Daniel Mount Angelabury, WY 30645-4695</td>\n",
       "      <td>Smith Inc</td>\n",
       "    </tr>\n",
       "    <tr>\n",
       "      <th>4</th>\n",
       "      <td>Cynthia Norton</td>\n",
       "      <td>765 Tricia Row Karenshire, MH 71730</td>\n",
       "      <td>Love-Jones</td>\n",
       "    </tr>\n",
       "  </tbody>\n",
       "</table>\n",
       "</div>"
      ],
      "text/plain": [
       "              Names                                           Location  \\\n",
       "0  Cameron Williams      10265 Elizabeth Mission Barkerburgh, AK 89518   \n",
       "1     Kevin Mueller  6157 Frank Gardens Suite 019 Carloshaven, RI 1...   \n",
       "2       Eric Lozano             1331 Keith Court Alyssahaven, DE 90114   \n",
       "3     Phillip White       13120 Daniel Mount Angelabury, WY 30645-4695   \n",
       "4    Cynthia Norton                765 Tricia Row Karenshire, MH 71730   \n",
       "\n",
       "                       Company  \n",
       "0                   Harvey LLC  \n",
       "1                   Wilson PLC  \n",
       "2  Miller, Johnson and Wallace  \n",
       "3                    Smith Inc  \n",
       "4                   Love-Jones  "
      ]
     },
     "execution_count": 102,
     "metadata": {},
     "output_type": "execute_result"
    }
   ],
   "source": [
    "categorical_features = [t[0] for t in df_data.dtypes if t[1] == 'string']\n",
    "categorical_features_df = df_data.select(categorical_features)\n",
    "categorical_features_df.toPandas().head()"
   ]
  },
  {
   "cell_type": "markdown",
   "metadata": {},
   "source": [
    "## Calculate correlation matrix"
   ]
  },
  {
   "cell_type": "code",
   "execution_count": 103,
   "metadata": {
    "ExecuteTime": {
     "end_time": "2021-02-03T10:28:36.882013Z",
     "start_time": "2021-02-03T10:28:34.908072Z"
    }
   },
   "outputs": [
    {
     "data": {
      "text/html": [
       "<div>\n",
       "<style scoped>\n",
       "    .dataframe tbody tr th:only-of-type {\n",
       "        vertical-align: middle;\n",
       "    }\n",
       "\n",
       "    .dataframe tbody tr th {\n",
       "        vertical-align: top;\n",
       "    }\n",
       "\n",
       "    .dataframe thead th {\n",
       "        text-align: right;\n",
       "    }\n",
       "</style>\n",
       "<table border=\"1\" class=\"dataframe\">\n",
       "  <thead>\n",
       "    <tr style=\"text-align: right;\">\n",
       "      <th></th>\n",
       "      <th>Age</th>\n",
       "      <th>Total_Purchase</th>\n",
       "      <th>Account_Manager</th>\n",
       "      <th>Years</th>\n",
       "      <th>Num_Sites</th>\n",
       "      <th>Churn</th>\n",
       "      <th>year</th>\n",
       "      <th>month</th>\n",
       "      <th>day</th>\n",
       "      <th>weekday</th>\n",
       "      <th>hour</th>\n",
       "      <th>minute</th>\n",
       "    </tr>\n",
       "  </thead>\n",
       "  <tbody>\n",
       "    <tr>\n",
       "      <th>Age</th>\n",
       "      <td>1.000000</td>\n",
       "      <td>-0.037208</td>\n",
       "      <td>-0.014749</td>\n",
       "      <td>0.005625</td>\n",
       "      <td>-0.006070</td>\n",
       "      <td>0.085926</td>\n",
       "      <td>0.001595</td>\n",
       "      <td>0.010280</td>\n",
       "      <td>0.016058</td>\n",
       "      <td>0.016221</td>\n",
       "      <td>-0.019955</td>\n",
       "      <td>0.014922</td>\n",
       "    </tr>\n",
       "    <tr>\n",
       "      <th>Total_Purchase</th>\n",
       "      <td>-0.037208</td>\n",
       "      <td>1.000000</td>\n",
       "      <td>0.015856</td>\n",
       "      <td>-0.005623</td>\n",
       "      <td>-0.003390</td>\n",
       "      <td>0.024031</td>\n",
       "      <td>-0.024631</td>\n",
       "      <td>0.044835</td>\n",
       "      <td>0.007694</td>\n",
       "      <td>-0.001743</td>\n",
       "      <td>-0.004317</td>\n",
       "      <td>-0.011408</td>\n",
       "    </tr>\n",
       "    <tr>\n",
       "      <th>Account_Manager</th>\n",
       "      <td>-0.014749</td>\n",
       "      <td>0.015856</td>\n",
       "      <td>1.000000</td>\n",
       "      <td>0.022930</td>\n",
       "      <td>0.033401</td>\n",
       "      <td>0.070611</td>\n",
       "      <td>0.018814</td>\n",
       "      <td>0.028979</td>\n",
       "      <td>0.028306</td>\n",
       "      <td>-0.053856</td>\n",
       "      <td>-0.024162</td>\n",
       "      <td>-0.013818</td>\n",
       "    </tr>\n",
       "    <tr>\n",
       "      <th>Years</th>\n",
       "      <td>0.005625</td>\n",
       "      <td>-0.005623</td>\n",
       "      <td>0.022930</td>\n",
       "      <td>1.000000</td>\n",
       "      <td>0.051642</td>\n",
       "      <td>0.214329</td>\n",
       "      <td>-0.046624</td>\n",
       "      <td>0.015855</td>\n",
       "      <td>0.034310</td>\n",
       "      <td>-0.019375</td>\n",
       "      <td>-0.016724</td>\n",
       "      <td>0.008261</td>\n",
       "    </tr>\n",
       "    <tr>\n",
       "      <th>Num_Sites</th>\n",
       "      <td>-0.006070</td>\n",
       "      <td>-0.003390</td>\n",
       "      <td>0.033401</td>\n",
       "      <td>0.051642</td>\n",
       "      <td>1.000000</td>\n",
       "      <td>0.525398</td>\n",
       "      <td>-0.032777</td>\n",
       "      <td>0.008457</td>\n",
       "      <td>0.022000</td>\n",
       "      <td>-0.012073</td>\n",
       "      <td>-0.045056</td>\n",
       "      <td>-0.010174</td>\n",
       "    </tr>\n",
       "    <tr>\n",
       "      <th>Churn</th>\n",
       "      <td>0.085926</td>\n",
       "      <td>0.024031</td>\n",
       "      <td>0.070611</td>\n",
       "      <td>0.214329</td>\n",
       "      <td>0.525398</td>\n",
       "      <td>1.000000</td>\n",
       "      <td>-0.040150</td>\n",
       "      <td>0.019080</td>\n",
       "      <td>0.034398</td>\n",
       "      <td>-0.003606</td>\n",
       "      <td>-0.035145</td>\n",
       "      <td>-0.050551</td>\n",
       "    </tr>\n",
       "    <tr>\n",
       "      <th>year</th>\n",
       "      <td>0.001595</td>\n",
       "      <td>-0.024631</td>\n",
       "      <td>0.018814</td>\n",
       "      <td>-0.046624</td>\n",
       "      <td>-0.032777</td>\n",
       "      <td>-0.040150</td>\n",
       "      <td>1.000000</td>\n",
       "      <td>-0.039077</td>\n",
       "      <td>-0.033002</td>\n",
       "      <td>-0.035486</td>\n",
       "      <td>0.051154</td>\n",
       "      <td>-0.001306</td>\n",
       "    </tr>\n",
       "    <tr>\n",
       "      <th>month</th>\n",
       "      <td>0.010280</td>\n",
       "      <td>0.044835</td>\n",
       "      <td>0.028979</td>\n",
       "      <td>0.015855</td>\n",
       "      <td>0.008457</td>\n",
       "      <td>0.019080</td>\n",
       "      <td>-0.039077</td>\n",
       "      <td>1.000000</td>\n",
       "      <td>0.005801</td>\n",
       "      <td>0.019658</td>\n",
       "      <td>-0.003563</td>\n",
       "      <td>-0.021257</td>\n",
       "    </tr>\n",
       "    <tr>\n",
       "      <th>day</th>\n",
       "      <td>0.016058</td>\n",
       "      <td>0.007694</td>\n",
       "      <td>0.028306</td>\n",
       "      <td>0.034310</td>\n",
       "      <td>0.022000</td>\n",
       "      <td>0.034398</td>\n",
       "      <td>-0.033002</td>\n",
       "      <td>0.005801</td>\n",
       "      <td>1.000000</td>\n",
       "      <td>0.028348</td>\n",
       "      <td>-0.073284</td>\n",
       "      <td>-0.010616</td>\n",
       "    </tr>\n",
       "    <tr>\n",
       "      <th>weekday</th>\n",
       "      <td>0.016221</td>\n",
       "      <td>-0.001743</td>\n",
       "      <td>-0.053856</td>\n",
       "      <td>-0.019375</td>\n",
       "      <td>-0.012073</td>\n",
       "      <td>-0.003606</td>\n",
       "      <td>-0.035486</td>\n",
       "      <td>0.019658</td>\n",
       "      <td>0.028348</td>\n",
       "      <td>1.000000</td>\n",
       "      <td>-0.021089</td>\n",
       "      <td>-0.042082</td>\n",
       "    </tr>\n",
       "    <tr>\n",
       "      <th>hour</th>\n",
       "      <td>-0.019955</td>\n",
       "      <td>-0.004317</td>\n",
       "      <td>-0.024162</td>\n",
       "      <td>-0.016724</td>\n",
       "      <td>-0.045056</td>\n",
       "      <td>-0.035145</td>\n",
       "      <td>0.051154</td>\n",
       "      <td>-0.003563</td>\n",
       "      <td>-0.073284</td>\n",
       "      <td>-0.021089</td>\n",
       "      <td>1.000000</td>\n",
       "      <td>-0.002030</td>\n",
       "    </tr>\n",
       "    <tr>\n",
       "      <th>minute</th>\n",
       "      <td>0.014922</td>\n",
       "      <td>-0.011408</td>\n",
       "      <td>-0.013818</td>\n",
       "      <td>0.008261</td>\n",
       "      <td>-0.010174</td>\n",
       "      <td>-0.050551</td>\n",
       "      <td>-0.001306</td>\n",
       "      <td>-0.021257</td>\n",
       "      <td>-0.010616</td>\n",
       "      <td>-0.042082</td>\n",
       "      <td>-0.002030</td>\n",
       "      <td>1.000000</td>\n",
       "    </tr>\n",
       "  </tbody>\n",
       "</table>\n",
       "</div>"
      ],
      "text/plain": [
       "                      Age  Total_Purchase  Account_Manager     Years  \\\n",
       "Age              1.000000       -0.037208        -0.014749  0.005625   \n",
       "Total_Purchase  -0.037208        1.000000         0.015856 -0.005623   \n",
       "Account_Manager -0.014749        0.015856         1.000000  0.022930   \n",
       "Years            0.005625       -0.005623         0.022930  1.000000   \n",
       "Num_Sites       -0.006070       -0.003390         0.033401  0.051642   \n",
       "Churn            0.085926        0.024031         0.070611  0.214329   \n",
       "year             0.001595       -0.024631         0.018814 -0.046624   \n",
       "month            0.010280        0.044835         0.028979  0.015855   \n",
       "day              0.016058        0.007694         0.028306  0.034310   \n",
       "weekday          0.016221       -0.001743        -0.053856 -0.019375   \n",
       "hour            -0.019955       -0.004317        -0.024162 -0.016724   \n",
       "minute           0.014922       -0.011408        -0.013818  0.008261   \n",
       "\n",
       "                 Num_Sites     Churn      year     month       day   weekday  \\\n",
       "Age              -0.006070  0.085926  0.001595  0.010280  0.016058  0.016221   \n",
       "Total_Purchase   -0.003390  0.024031 -0.024631  0.044835  0.007694 -0.001743   \n",
       "Account_Manager   0.033401  0.070611  0.018814  0.028979  0.028306 -0.053856   \n",
       "Years             0.051642  0.214329 -0.046624  0.015855  0.034310 -0.019375   \n",
       "Num_Sites         1.000000  0.525398 -0.032777  0.008457  0.022000 -0.012073   \n",
       "Churn             0.525398  1.000000 -0.040150  0.019080  0.034398 -0.003606   \n",
       "year             -0.032777 -0.040150  1.000000 -0.039077 -0.033002 -0.035486   \n",
       "month             0.008457  0.019080 -0.039077  1.000000  0.005801  0.019658   \n",
       "day               0.022000  0.034398 -0.033002  0.005801  1.000000  0.028348   \n",
       "weekday          -0.012073 -0.003606 -0.035486  0.019658  0.028348  1.000000   \n",
       "hour             -0.045056 -0.035145  0.051154 -0.003563 -0.073284 -0.021089   \n",
       "minute           -0.010174 -0.050551 -0.001306 -0.021257 -0.010616 -0.042082   \n",
       "\n",
       "                     hour    minute  \n",
       "Age             -0.019955  0.014922  \n",
       "Total_Purchase  -0.004317 -0.011408  \n",
       "Account_Manager -0.024162 -0.013818  \n",
       "Years           -0.016724  0.008261  \n",
       "Num_Sites       -0.045056 -0.010174  \n",
       "Churn           -0.035145 -0.050551  \n",
       "year             0.051154 -0.001306  \n",
       "month           -0.003563 -0.021257  \n",
       "day             -0.073284 -0.010616  \n",
       "weekday         -0.021089 -0.042082  \n",
       "hour             1.000000 -0.002030  \n",
       "minute          -0.002030  1.000000  "
      ]
     },
     "execution_count": 103,
     "metadata": {},
     "output_type": "execute_result"
    }
   ],
   "source": [
    "col_names = numeric_features_df.columns\n",
    "features = numeric_features_df.rdd.map(lambda row: row[0:])\n",
    "corr_mat = Statistics.corr(features, method=\"pearson\")\n",
    "corr_df = pd.DataFrame(corr_mat)\n",
    "corr_df.index, corr_df.columns = col_names, col_names\n",
    "\n",
    "corr_df"
   ]
  },
  {
   "cell_type": "markdown",
   "metadata": {},
   "source": [
    "## Plot correlation matrix"
   ]
  },
  {
   "cell_type": "code",
   "execution_count": 104,
   "metadata": {
    "ExecuteTime": {
     "end_time": "2021-02-03T10:28:41.203293Z",
     "start_time": "2021-02-03T10:28:40.753330Z"
    }
   },
   "outputs": [
    {
     "data": {
      "application/vnd.plotly.v1+json": {
       "config": {
        "plotlyServerURL": "https://plot.ly"
       },
       "data": [
        {
         "hoverongaps": false,
         "type": "heatmap",
         "x": [
          "Age",
          "Total_Purchase",
          "Account_Manager",
          "Years",
          "Num_Sites",
          "Churn",
          "year",
          "month",
          "day",
          "weekday",
          "hour",
          "minute"
         ],
         "y": [
          "Age",
          "Total_Purchase",
          "Account_Manager",
          "Years",
          "Num_Sites",
          "Churn",
          "year",
          "month",
          "day",
          "weekday",
          "hour",
          "minute"
         ],
         "z": [
          [
           1,
           -0.03720809944197078,
           -0.014748766403719322,
           0.005625028228866841,
           -0.006070481345453728,
           0.08592553706723413,
           0.0015951998994553085,
           0.010280153274811432,
           0.01605755249570824,
           0.01622142793903153,
           -0.01995541954210813,
           0.0149223949010155
          ],
          [
           -0.03720809944197078,
           1,
           0.01585559805557951,
           -0.005623171270898085,
           -0.003390004008228641,
           0.024030894518225928,
           -0.024631311213857848,
           0.044834817306856685,
           0.007693687555757611,
           -0.0017427257358993726,
           -0.004317260105737872,
           -0.011407657983315769
          ],
          [
           -0.014748766403719322,
           0.01585559805557951,
           1,
           0.022929881475764254,
           0.033400514443989386,
           0.07061077173214901,
           0.018813992318742576,
           0.02897904236819241,
           0.02830557210857946,
           -0.053855708555430586,
           -0.02416216593727224,
           -0.01381845158817838
          ],
          [
           0.005625028228866841,
           -0.005623171270898085,
           0.022929881475764254,
           1,
           0.05164166494395636,
           0.21432858017242717,
           -0.04662394609785167,
           0.01585533016761888,
           0.03430994492729822,
           -0.019375142973595542,
           -0.016723538480285068,
           0.008260515963754609
          ],
          [
           -0.006070481345453728,
           -0.003390004008228641,
           0.033400514443989386,
           0.05164166494395636,
           1,
           0.5253980778988716,
           -0.032777084989501264,
           0.008456727679218432,
           0.0219996622183836,
           -0.012072679133523608,
           -0.04505614294351997,
           -0.010174074761543717
          ],
          [
           0.08592553706723413,
           0.024030894518225928,
           0.07061077173214901,
           0.21432858017242717,
           0.5253980778988716,
           1,
           -0.040149830079463086,
           0.019080321652236228,
           0.03439805820987084,
           -0.0036063937243957364,
           -0.0351454375582304,
           -0.050550617674696555
          ],
          [
           0.0015951998994553085,
           -0.024631311213857848,
           0.018813992318742576,
           -0.04662394609785167,
           -0.032777084989501264,
           -0.040149830079463086,
           1,
           -0.03907658626046498,
           -0.033002253612916144,
           -0.03548582517156673,
           0.05115359843271516,
           -0.0013060261262184962
          ],
          [
           0.010280153274811432,
           0.044834817306856685,
           0.02897904236819241,
           0.01585533016761888,
           0.008456727679218432,
           0.019080321652236228,
           -0.03907658626046498,
           1,
           0.005801373654776846,
           0.019658128435756813,
           -0.0035628709012509607,
           -0.02125698678676318
          ],
          [
           0.01605755249570824,
           0.007693687555757611,
           0.02830557210857946,
           0.03430994492729822,
           0.0219996622183836,
           0.03439805820987084,
           -0.033002253612916144,
           0.005801373654776846,
           1,
           0.028348341078122292,
           -0.07328425324976306,
           -0.010615662678953858
          ],
          [
           0.01622142793903153,
           -0.0017427257358993726,
           -0.053855708555430586,
           -0.019375142973595542,
           -0.012072679133523608,
           -0.0036063937243957364,
           -0.03548582517156673,
           0.019658128435756813,
           0.028348341078122292,
           1,
           -0.021089015682945068,
           -0.04208169598782337
          ],
          [
           -0.01995541954210813,
           -0.004317260105737872,
           -0.02416216593727224,
           -0.016723538480285068,
           -0.04505614294351997,
           -0.0351454375582304,
           0.05115359843271516,
           -0.0035628709012509607,
           -0.07328425324976306,
           -0.021089015682945068,
           1,
           -0.002029516603092964
          ],
          [
           0.0149223949010155,
           -0.011407657983315769,
           -0.01381845158817838,
           0.008260515963754609,
           -0.010174074761543717,
           -0.050550617674696555,
           -0.0013060261262184962,
           -0.02125698678676318,
           -0.010615662678953858,
           -0.04208169598782337,
           -0.002029516603092964,
           1
          ]
         ]
        }
       ],
       "layout": {
        "template": {
         "data": {
          "bar": [
           {
            "error_x": {
             "color": "#2a3f5f"
            },
            "error_y": {
             "color": "#2a3f5f"
            },
            "marker": {
             "line": {
              "color": "#E5ECF6",
              "width": 0.5
             }
            },
            "type": "bar"
           }
          ],
          "barpolar": [
           {
            "marker": {
             "line": {
              "color": "#E5ECF6",
              "width": 0.5
             }
            },
            "type": "barpolar"
           }
          ],
          "carpet": [
           {
            "aaxis": {
             "endlinecolor": "#2a3f5f",
             "gridcolor": "white",
             "linecolor": "white",
             "minorgridcolor": "white",
             "startlinecolor": "#2a3f5f"
            },
            "baxis": {
             "endlinecolor": "#2a3f5f",
             "gridcolor": "white",
             "linecolor": "white",
             "minorgridcolor": "white",
             "startlinecolor": "#2a3f5f"
            },
            "type": "carpet"
           }
          ],
          "choropleth": [
           {
            "colorbar": {
             "outlinewidth": 0,
             "ticks": ""
            },
            "type": "choropleth"
           }
          ],
          "contour": [
           {
            "colorbar": {
             "outlinewidth": 0,
             "ticks": ""
            },
            "colorscale": [
             [
              0,
              "#0d0887"
             ],
             [
              0.1111111111111111,
              "#46039f"
             ],
             [
              0.2222222222222222,
              "#7201a8"
             ],
             [
              0.3333333333333333,
              "#9c179e"
             ],
             [
              0.4444444444444444,
              "#bd3786"
             ],
             [
              0.5555555555555556,
              "#d8576b"
             ],
             [
              0.6666666666666666,
              "#ed7953"
             ],
             [
              0.7777777777777778,
              "#fb9f3a"
             ],
             [
              0.8888888888888888,
              "#fdca26"
             ],
             [
              1,
              "#f0f921"
             ]
            ],
            "type": "contour"
           }
          ],
          "contourcarpet": [
           {
            "colorbar": {
             "outlinewidth": 0,
             "ticks": ""
            },
            "type": "contourcarpet"
           }
          ],
          "heatmap": [
           {
            "colorbar": {
             "outlinewidth": 0,
             "ticks": ""
            },
            "colorscale": [
             [
              0,
              "#0d0887"
             ],
             [
              0.1111111111111111,
              "#46039f"
             ],
             [
              0.2222222222222222,
              "#7201a8"
             ],
             [
              0.3333333333333333,
              "#9c179e"
             ],
             [
              0.4444444444444444,
              "#bd3786"
             ],
             [
              0.5555555555555556,
              "#d8576b"
             ],
             [
              0.6666666666666666,
              "#ed7953"
             ],
             [
              0.7777777777777778,
              "#fb9f3a"
             ],
             [
              0.8888888888888888,
              "#fdca26"
             ],
             [
              1,
              "#f0f921"
             ]
            ],
            "type": "heatmap"
           }
          ],
          "heatmapgl": [
           {
            "colorbar": {
             "outlinewidth": 0,
             "ticks": ""
            },
            "colorscale": [
             [
              0,
              "#0d0887"
             ],
             [
              0.1111111111111111,
              "#46039f"
             ],
             [
              0.2222222222222222,
              "#7201a8"
             ],
             [
              0.3333333333333333,
              "#9c179e"
             ],
             [
              0.4444444444444444,
              "#bd3786"
             ],
             [
              0.5555555555555556,
              "#d8576b"
             ],
             [
              0.6666666666666666,
              "#ed7953"
             ],
             [
              0.7777777777777778,
              "#fb9f3a"
             ],
             [
              0.8888888888888888,
              "#fdca26"
             ],
             [
              1,
              "#f0f921"
             ]
            ],
            "type": "heatmapgl"
           }
          ],
          "histogram": [
           {
            "marker": {
             "colorbar": {
              "outlinewidth": 0,
              "ticks": ""
             }
            },
            "type": "histogram"
           }
          ],
          "histogram2d": [
           {
            "colorbar": {
             "outlinewidth": 0,
             "ticks": ""
            },
            "colorscale": [
             [
              0,
              "#0d0887"
             ],
             [
              0.1111111111111111,
              "#46039f"
             ],
             [
              0.2222222222222222,
              "#7201a8"
             ],
             [
              0.3333333333333333,
              "#9c179e"
             ],
             [
              0.4444444444444444,
              "#bd3786"
             ],
             [
              0.5555555555555556,
              "#d8576b"
             ],
             [
              0.6666666666666666,
              "#ed7953"
             ],
             [
              0.7777777777777778,
              "#fb9f3a"
             ],
             [
              0.8888888888888888,
              "#fdca26"
             ],
             [
              1,
              "#f0f921"
             ]
            ],
            "type": "histogram2d"
           }
          ],
          "histogram2dcontour": [
           {
            "colorbar": {
             "outlinewidth": 0,
             "ticks": ""
            },
            "colorscale": [
             [
              0,
              "#0d0887"
             ],
             [
              0.1111111111111111,
              "#46039f"
             ],
             [
              0.2222222222222222,
              "#7201a8"
             ],
             [
              0.3333333333333333,
              "#9c179e"
             ],
             [
              0.4444444444444444,
              "#bd3786"
             ],
             [
              0.5555555555555556,
              "#d8576b"
             ],
             [
              0.6666666666666666,
              "#ed7953"
             ],
             [
              0.7777777777777778,
              "#fb9f3a"
             ],
             [
              0.8888888888888888,
              "#fdca26"
             ],
             [
              1,
              "#f0f921"
             ]
            ],
            "type": "histogram2dcontour"
           }
          ],
          "mesh3d": [
           {
            "colorbar": {
             "outlinewidth": 0,
             "ticks": ""
            },
            "type": "mesh3d"
           }
          ],
          "parcoords": [
           {
            "line": {
             "colorbar": {
              "outlinewidth": 0,
              "ticks": ""
             }
            },
            "type": "parcoords"
           }
          ],
          "pie": [
           {
            "automargin": true,
            "type": "pie"
           }
          ],
          "scatter": [
           {
            "marker": {
             "colorbar": {
              "outlinewidth": 0,
              "ticks": ""
             }
            },
            "type": "scatter"
           }
          ],
          "scatter3d": [
           {
            "line": {
             "colorbar": {
              "outlinewidth": 0,
              "ticks": ""
             }
            },
            "marker": {
             "colorbar": {
              "outlinewidth": 0,
              "ticks": ""
             }
            },
            "type": "scatter3d"
           }
          ],
          "scattercarpet": [
           {
            "marker": {
             "colorbar": {
              "outlinewidth": 0,
              "ticks": ""
             }
            },
            "type": "scattercarpet"
           }
          ],
          "scattergeo": [
           {
            "marker": {
             "colorbar": {
              "outlinewidth": 0,
              "ticks": ""
             }
            },
            "type": "scattergeo"
           }
          ],
          "scattergl": [
           {
            "marker": {
             "colorbar": {
              "outlinewidth": 0,
              "ticks": ""
             }
            },
            "type": "scattergl"
           }
          ],
          "scattermapbox": [
           {
            "marker": {
             "colorbar": {
              "outlinewidth": 0,
              "ticks": ""
             }
            },
            "type": "scattermapbox"
           }
          ],
          "scatterpolar": [
           {
            "marker": {
             "colorbar": {
              "outlinewidth": 0,
              "ticks": ""
             }
            },
            "type": "scatterpolar"
           }
          ],
          "scatterpolargl": [
           {
            "marker": {
             "colorbar": {
              "outlinewidth": 0,
              "ticks": ""
             }
            },
            "type": "scatterpolargl"
           }
          ],
          "scatterternary": [
           {
            "marker": {
             "colorbar": {
              "outlinewidth": 0,
              "ticks": ""
             }
            },
            "type": "scatterternary"
           }
          ],
          "surface": [
           {
            "colorbar": {
             "outlinewidth": 0,
             "ticks": ""
            },
            "colorscale": [
             [
              0,
              "#0d0887"
             ],
             [
              0.1111111111111111,
              "#46039f"
             ],
             [
              0.2222222222222222,
              "#7201a8"
             ],
             [
              0.3333333333333333,
              "#9c179e"
             ],
             [
              0.4444444444444444,
              "#bd3786"
             ],
             [
              0.5555555555555556,
              "#d8576b"
             ],
             [
              0.6666666666666666,
              "#ed7953"
             ],
             [
              0.7777777777777778,
              "#fb9f3a"
             ],
             [
              0.8888888888888888,
              "#fdca26"
             ],
             [
              1,
              "#f0f921"
             ]
            ],
            "type": "surface"
           }
          ],
          "table": [
           {
            "cells": {
             "fill": {
              "color": "#EBF0F8"
             },
             "line": {
              "color": "white"
             }
            },
            "header": {
             "fill": {
              "color": "#C8D4E3"
             },
             "line": {
              "color": "white"
             }
            },
            "type": "table"
           }
          ]
         },
         "layout": {
          "annotationdefaults": {
           "arrowcolor": "#2a3f5f",
           "arrowhead": 0,
           "arrowwidth": 1
          },
          "coloraxis": {
           "colorbar": {
            "outlinewidth": 0,
            "ticks": ""
           }
          },
          "colorscale": {
           "diverging": [
            [
             0,
             "#8e0152"
            ],
            [
             0.1,
             "#c51b7d"
            ],
            [
             0.2,
             "#de77ae"
            ],
            [
             0.3,
             "#f1b6da"
            ],
            [
             0.4,
             "#fde0ef"
            ],
            [
             0.5,
             "#f7f7f7"
            ],
            [
             0.6,
             "#e6f5d0"
            ],
            [
             0.7,
             "#b8e186"
            ],
            [
             0.8,
             "#7fbc41"
            ],
            [
             0.9,
             "#4d9221"
            ],
            [
             1,
             "#276419"
            ]
           ],
           "sequential": [
            [
             0,
             "#0d0887"
            ],
            [
             0.1111111111111111,
             "#46039f"
            ],
            [
             0.2222222222222222,
             "#7201a8"
            ],
            [
             0.3333333333333333,
             "#9c179e"
            ],
            [
             0.4444444444444444,
             "#bd3786"
            ],
            [
             0.5555555555555556,
             "#d8576b"
            ],
            [
             0.6666666666666666,
             "#ed7953"
            ],
            [
             0.7777777777777778,
             "#fb9f3a"
            ],
            [
             0.8888888888888888,
             "#fdca26"
            ],
            [
             1,
             "#f0f921"
            ]
           ],
           "sequentialminus": [
            [
             0,
             "#0d0887"
            ],
            [
             0.1111111111111111,
             "#46039f"
            ],
            [
             0.2222222222222222,
             "#7201a8"
            ],
            [
             0.3333333333333333,
             "#9c179e"
            ],
            [
             0.4444444444444444,
             "#bd3786"
            ],
            [
             0.5555555555555556,
             "#d8576b"
            ],
            [
             0.6666666666666666,
             "#ed7953"
            ],
            [
             0.7777777777777778,
             "#fb9f3a"
            ],
            [
             0.8888888888888888,
             "#fdca26"
            ],
            [
             1,
             "#f0f921"
            ]
           ]
          },
          "colorway": [
           "#636efa",
           "#EF553B",
           "#00cc96",
           "#ab63fa",
           "#FFA15A",
           "#19d3f3",
           "#FF6692",
           "#B6E880",
           "#FF97FF",
           "#FECB52"
          ],
          "font": {
           "color": "#2a3f5f"
          },
          "geo": {
           "bgcolor": "white",
           "lakecolor": "white",
           "landcolor": "#E5ECF6",
           "showlakes": true,
           "showland": true,
           "subunitcolor": "white"
          },
          "hoverlabel": {
           "align": "left"
          },
          "hovermode": "closest",
          "mapbox": {
           "style": "light"
          },
          "paper_bgcolor": "white",
          "plot_bgcolor": "#E5ECF6",
          "polar": {
           "angularaxis": {
            "gridcolor": "white",
            "linecolor": "white",
            "ticks": ""
           },
           "bgcolor": "#E5ECF6",
           "radialaxis": {
            "gridcolor": "white",
            "linecolor": "white",
            "ticks": ""
           }
          },
          "scene": {
           "xaxis": {
            "backgroundcolor": "#E5ECF6",
            "gridcolor": "white",
            "gridwidth": 2,
            "linecolor": "white",
            "showbackground": true,
            "ticks": "",
            "zerolinecolor": "white"
           },
           "yaxis": {
            "backgroundcolor": "#E5ECF6",
            "gridcolor": "white",
            "gridwidth": 2,
            "linecolor": "white",
            "showbackground": true,
            "ticks": "",
            "zerolinecolor": "white"
           },
           "zaxis": {
            "backgroundcolor": "#E5ECF6",
            "gridcolor": "white",
            "gridwidth": 2,
            "linecolor": "white",
            "showbackground": true,
            "ticks": "",
            "zerolinecolor": "white"
           }
          },
          "shapedefaults": {
           "line": {
            "color": "#2a3f5f"
           }
          },
          "ternary": {
           "aaxis": {
            "gridcolor": "white",
            "linecolor": "white",
            "ticks": ""
           },
           "baxis": {
            "gridcolor": "white",
            "linecolor": "white",
            "ticks": ""
           },
           "bgcolor": "#E5ECF6",
           "caxis": {
            "gridcolor": "white",
            "linecolor": "white",
            "ticks": ""
           }
          },
          "title": {
           "x": 0.05
          },
          "xaxis": {
           "automargin": true,
           "gridcolor": "white",
           "linecolor": "white",
           "ticks": "",
           "title": {
            "standoff": 15
           },
           "zerolinecolor": "white",
           "zerolinewidth": 2
          },
          "yaxis": {
           "automargin": true,
           "gridcolor": "white",
           "linecolor": "white",
           "ticks": "",
           "title": {
            "standoff": 15
           },
           "zerolinecolor": "white",
           "zerolinewidth": 2
          }
         }
        }
       }
      },
      "text/html": [
       "<div>\n",
       "        \n",
       "        \n",
       "            <div id=\"b1a40204-5941-4edb-a5b0-6b8ae04d00e0\" class=\"plotly-graph-div\" style=\"height:525px; width:100%;\"></div>\n",
       "            <script type=\"text/javascript\">\n",
       "                require([\"plotly\"], function(Plotly) {\n",
       "                    window.PLOTLYENV=window.PLOTLYENV || {};\n",
       "                    \n",
       "                if (document.getElementById(\"b1a40204-5941-4edb-a5b0-6b8ae04d00e0\")) {\n",
       "                    Plotly.newPlot(\n",
       "                        'b1a40204-5941-4edb-a5b0-6b8ae04d00e0',\n",
       "                        [{\"hoverongaps\": false, \"type\": \"heatmap\", \"x\": [\"Age\", \"Total_Purchase\", \"Account_Manager\", \"Years\", \"Num_Sites\", \"Churn\", \"year\", \"month\", \"day\", \"weekday\", \"hour\", \"minute\"], \"y\": [\"Age\", \"Total_Purchase\", \"Account_Manager\", \"Years\", \"Num_Sites\", \"Churn\", \"year\", \"month\", \"day\", \"weekday\", \"hour\", \"minute\"], \"z\": [[1.0, -0.03720809944197078, -0.014748766403719322, 0.005625028228866841, -0.006070481345453728, 0.08592553706723413, 0.0015951998994553085, 0.010280153274811432, 0.01605755249570824, 0.01622142793903153, -0.01995541954210813, 0.0149223949010155], [-0.03720809944197078, 1.0, 0.01585559805557951, -0.005623171270898085, -0.003390004008228641, 0.024030894518225928, -0.024631311213857848, 0.044834817306856685, 0.007693687555757611, -0.0017427257358993726, -0.004317260105737872, -0.011407657983315769], [-0.014748766403719322, 0.01585559805557951, 1.0, 0.022929881475764254, 0.033400514443989386, 0.07061077173214901, 0.018813992318742576, 0.02897904236819241, 0.02830557210857946, -0.053855708555430586, -0.02416216593727224, -0.01381845158817838], [0.005625028228866841, -0.005623171270898085, 0.022929881475764254, 1.0, 0.05164166494395636, 0.21432858017242717, -0.04662394609785167, 0.01585533016761888, 0.03430994492729822, -0.019375142973595542, -0.016723538480285068, 0.008260515963754609], [-0.006070481345453728, -0.003390004008228641, 0.033400514443989386, 0.05164166494395636, 1.0, 0.5253980778988716, -0.032777084989501264, 0.008456727679218432, 0.0219996622183836, -0.012072679133523608, -0.04505614294351997, -0.010174074761543717], [0.08592553706723413, 0.024030894518225928, 0.07061077173214901, 0.21432858017242717, 0.5253980778988716, 1.0, -0.040149830079463086, 0.019080321652236228, 0.03439805820987084, -0.0036063937243957364, -0.0351454375582304, -0.050550617674696555], [0.0015951998994553085, -0.024631311213857848, 0.018813992318742576, -0.04662394609785167, -0.032777084989501264, -0.040149830079463086, 1.0, -0.03907658626046498, -0.033002253612916144, -0.03548582517156673, 0.05115359843271516, -0.0013060261262184962], [0.010280153274811432, 0.044834817306856685, 0.02897904236819241, 0.01585533016761888, 0.008456727679218432, 0.019080321652236228, -0.03907658626046498, 1.0, 0.005801373654776846, 0.019658128435756813, -0.0035628709012509607, -0.02125698678676318], [0.01605755249570824, 0.007693687555757611, 0.02830557210857946, 0.03430994492729822, 0.0219996622183836, 0.03439805820987084, -0.033002253612916144, 0.005801373654776846, 1.0, 0.028348341078122292, -0.07328425324976306, -0.010615662678953858], [0.01622142793903153, -0.0017427257358993726, -0.053855708555430586, -0.019375142973595542, -0.012072679133523608, -0.0036063937243957364, -0.03548582517156673, 0.019658128435756813, 0.028348341078122292, 1.0, -0.021089015682945068, -0.04208169598782337], [-0.01995541954210813, -0.004317260105737872, -0.02416216593727224, -0.016723538480285068, -0.04505614294351997, -0.0351454375582304, 0.05115359843271516, -0.0035628709012509607, -0.07328425324976306, -0.021089015682945068, 1.0, -0.002029516603092964], [0.0149223949010155, -0.011407657983315769, -0.01381845158817838, 0.008260515963754609, -0.010174074761543717, -0.050550617674696555, -0.0013060261262184962, -0.02125698678676318, -0.010615662678953858, -0.04208169598782337, -0.002029516603092964, 1.0]]}],\n",
       "                        {\"template\": {\"data\": {\"bar\": [{\"error_x\": {\"color\": \"#2a3f5f\"}, \"error_y\": {\"color\": \"#2a3f5f\"}, \"marker\": {\"line\": {\"color\": \"#E5ECF6\", \"width\": 0.5}}, \"type\": \"bar\"}], \"barpolar\": [{\"marker\": {\"line\": {\"color\": \"#E5ECF6\", \"width\": 0.5}}, \"type\": \"barpolar\"}], \"carpet\": [{\"aaxis\": {\"endlinecolor\": \"#2a3f5f\", \"gridcolor\": \"white\", \"linecolor\": \"white\", \"minorgridcolor\": \"white\", \"startlinecolor\": \"#2a3f5f\"}, \"baxis\": {\"endlinecolor\": \"#2a3f5f\", \"gridcolor\": \"white\", \"linecolor\": \"white\", \"minorgridcolor\": \"white\", \"startlinecolor\": \"#2a3f5f\"}, \"type\": \"carpet\"}], \"choropleth\": [{\"colorbar\": {\"outlinewidth\": 0, \"ticks\": \"\"}, \"type\": \"choropleth\"}], \"contour\": [{\"colorbar\": {\"outlinewidth\": 0, \"ticks\": \"\"}, \"colorscale\": [[0.0, \"#0d0887\"], [0.1111111111111111, \"#46039f\"], [0.2222222222222222, \"#7201a8\"], [0.3333333333333333, \"#9c179e\"], [0.4444444444444444, \"#bd3786\"], [0.5555555555555556, \"#d8576b\"], [0.6666666666666666, \"#ed7953\"], [0.7777777777777778, \"#fb9f3a\"], [0.8888888888888888, \"#fdca26\"], [1.0, \"#f0f921\"]], \"type\": \"contour\"}], \"contourcarpet\": [{\"colorbar\": {\"outlinewidth\": 0, \"ticks\": \"\"}, \"type\": \"contourcarpet\"}], \"heatmap\": [{\"colorbar\": {\"outlinewidth\": 0, \"ticks\": \"\"}, \"colorscale\": [[0.0, \"#0d0887\"], [0.1111111111111111, \"#46039f\"], [0.2222222222222222, \"#7201a8\"], [0.3333333333333333, \"#9c179e\"], [0.4444444444444444, \"#bd3786\"], [0.5555555555555556, \"#d8576b\"], [0.6666666666666666, \"#ed7953\"], [0.7777777777777778, \"#fb9f3a\"], [0.8888888888888888, \"#fdca26\"], [1.0, \"#f0f921\"]], \"type\": \"heatmap\"}], \"heatmapgl\": [{\"colorbar\": {\"outlinewidth\": 0, \"ticks\": \"\"}, \"colorscale\": [[0.0, \"#0d0887\"], [0.1111111111111111, \"#46039f\"], [0.2222222222222222, \"#7201a8\"], [0.3333333333333333, \"#9c179e\"], [0.4444444444444444, \"#bd3786\"], [0.5555555555555556, \"#d8576b\"], [0.6666666666666666, \"#ed7953\"], [0.7777777777777778, \"#fb9f3a\"], [0.8888888888888888, \"#fdca26\"], [1.0, \"#f0f921\"]], \"type\": \"heatmapgl\"}], \"histogram\": [{\"marker\": {\"colorbar\": {\"outlinewidth\": 0, \"ticks\": \"\"}}, \"type\": \"histogram\"}], \"histogram2d\": [{\"colorbar\": {\"outlinewidth\": 0, \"ticks\": \"\"}, \"colorscale\": [[0.0, \"#0d0887\"], [0.1111111111111111, \"#46039f\"], [0.2222222222222222, \"#7201a8\"], [0.3333333333333333, \"#9c179e\"], [0.4444444444444444, \"#bd3786\"], [0.5555555555555556, \"#d8576b\"], [0.6666666666666666, \"#ed7953\"], [0.7777777777777778, \"#fb9f3a\"], [0.8888888888888888, \"#fdca26\"], [1.0, \"#f0f921\"]], \"type\": \"histogram2d\"}], \"histogram2dcontour\": [{\"colorbar\": {\"outlinewidth\": 0, \"ticks\": \"\"}, \"colorscale\": [[0.0, \"#0d0887\"], [0.1111111111111111, \"#46039f\"], [0.2222222222222222, \"#7201a8\"], [0.3333333333333333, \"#9c179e\"], [0.4444444444444444, \"#bd3786\"], [0.5555555555555556, \"#d8576b\"], [0.6666666666666666, \"#ed7953\"], [0.7777777777777778, \"#fb9f3a\"], [0.8888888888888888, \"#fdca26\"], [1.0, \"#f0f921\"]], \"type\": \"histogram2dcontour\"}], \"mesh3d\": [{\"colorbar\": {\"outlinewidth\": 0, \"ticks\": \"\"}, \"type\": \"mesh3d\"}], \"parcoords\": [{\"line\": {\"colorbar\": {\"outlinewidth\": 0, \"ticks\": \"\"}}, \"type\": \"parcoords\"}], \"pie\": [{\"automargin\": true, \"type\": \"pie\"}], \"scatter\": [{\"marker\": {\"colorbar\": {\"outlinewidth\": 0, \"ticks\": \"\"}}, \"type\": \"scatter\"}], \"scatter3d\": [{\"line\": {\"colorbar\": {\"outlinewidth\": 0, \"ticks\": \"\"}}, \"marker\": {\"colorbar\": {\"outlinewidth\": 0, \"ticks\": \"\"}}, \"type\": \"scatter3d\"}], \"scattercarpet\": [{\"marker\": {\"colorbar\": {\"outlinewidth\": 0, \"ticks\": \"\"}}, \"type\": \"scattercarpet\"}], \"scattergeo\": [{\"marker\": {\"colorbar\": {\"outlinewidth\": 0, \"ticks\": \"\"}}, \"type\": \"scattergeo\"}], \"scattergl\": [{\"marker\": {\"colorbar\": {\"outlinewidth\": 0, \"ticks\": \"\"}}, \"type\": \"scattergl\"}], \"scattermapbox\": [{\"marker\": {\"colorbar\": {\"outlinewidth\": 0, \"ticks\": \"\"}}, \"type\": \"scattermapbox\"}], \"scatterpolar\": [{\"marker\": {\"colorbar\": {\"outlinewidth\": 0, \"ticks\": \"\"}}, \"type\": \"scatterpolar\"}], \"scatterpolargl\": [{\"marker\": {\"colorbar\": {\"outlinewidth\": 0, \"ticks\": \"\"}}, \"type\": \"scatterpolargl\"}], \"scatterternary\": [{\"marker\": {\"colorbar\": {\"outlinewidth\": 0, \"ticks\": \"\"}}, \"type\": \"scatterternary\"}], \"surface\": [{\"colorbar\": {\"outlinewidth\": 0, \"ticks\": \"\"}, \"colorscale\": [[0.0, \"#0d0887\"], [0.1111111111111111, \"#46039f\"], [0.2222222222222222, \"#7201a8\"], [0.3333333333333333, \"#9c179e\"], [0.4444444444444444, \"#bd3786\"], [0.5555555555555556, \"#d8576b\"], [0.6666666666666666, \"#ed7953\"], [0.7777777777777778, \"#fb9f3a\"], [0.8888888888888888, \"#fdca26\"], [1.0, \"#f0f921\"]], \"type\": \"surface\"}], \"table\": [{\"cells\": {\"fill\": {\"color\": \"#EBF0F8\"}, \"line\": {\"color\": \"white\"}}, \"header\": {\"fill\": {\"color\": \"#C8D4E3\"}, \"line\": {\"color\": \"white\"}}, \"type\": \"table\"}]}, \"layout\": {\"annotationdefaults\": {\"arrowcolor\": \"#2a3f5f\", \"arrowhead\": 0, \"arrowwidth\": 1}, \"coloraxis\": {\"colorbar\": {\"outlinewidth\": 0, \"ticks\": \"\"}}, \"colorscale\": {\"diverging\": [[0, \"#8e0152\"], [0.1, \"#c51b7d\"], [0.2, \"#de77ae\"], [0.3, \"#f1b6da\"], [0.4, \"#fde0ef\"], [0.5, \"#f7f7f7\"], [0.6, \"#e6f5d0\"], [0.7, \"#b8e186\"], [0.8, \"#7fbc41\"], [0.9, \"#4d9221\"], [1, \"#276419\"]], \"sequential\": [[0.0, \"#0d0887\"], [0.1111111111111111, \"#46039f\"], [0.2222222222222222, \"#7201a8\"], [0.3333333333333333, \"#9c179e\"], [0.4444444444444444, \"#bd3786\"], [0.5555555555555556, \"#d8576b\"], [0.6666666666666666, \"#ed7953\"], [0.7777777777777778, \"#fb9f3a\"], [0.8888888888888888, \"#fdca26\"], [1.0, \"#f0f921\"]], \"sequentialminus\": [[0.0, \"#0d0887\"], [0.1111111111111111, \"#46039f\"], [0.2222222222222222, \"#7201a8\"], [0.3333333333333333, \"#9c179e\"], [0.4444444444444444, \"#bd3786\"], [0.5555555555555556, \"#d8576b\"], [0.6666666666666666, \"#ed7953\"], [0.7777777777777778, \"#fb9f3a\"], [0.8888888888888888, \"#fdca26\"], [1.0, \"#f0f921\"]]}, \"colorway\": [\"#636efa\", \"#EF553B\", \"#00cc96\", \"#ab63fa\", \"#FFA15A\", \"#19d3f3\", \"#FF6692\", \"#B6E880\", \"#FF97FF\", \"#FECB52\"], \"font\": {\"color\": \"#2a3f5f\"}, \"geo\": {\"bgcolor\": \"white\", \"lakecolor\": \"white\", \"landcolor\": \"#E5ECF6\", \"showlakes\": true, \"showland\": true, \"subunitcolor\": \"white\"}, \"hoverlabel\": {\"align\": \"left\"}, \"hovermode\": \"closest\", \"mapbox\": {\"style\": \"light\"}, \"paper_bgcolor\": \"white\", \"plot_bgcolor\": \"#E5ECF6\", \"polar\": {\"angularaxis\": {\"gridcolor\": \"white\", \"linecolor\": \"white\", \"ticks\": \"\"}, \"bgcolor\": \"#E5ECF6\", \"radialaxis\": {\"gridcolor\": \"white\", \"linecolor\": \"white\", \"ticks\": \"\"}}, \"scene\": {\"xaxis\": {\"backgroundcolor\": \"#E5ECF6\", \"gridcolor\": \"white\", \"gridwidth\": 2, \"linecolor\": \"white\", \"showbackground\": true, \"ticks\": \"\", \"zerolinecolor\": \"white\"}, \"yaxis\": {\"backgroundcolor\": \"#E5ECF6\", \"gridcolor\": \"white\", \"gridwidth\": 2, \"linecolor\": \"white\", \"showbackground\": true, \"ticks\": \"\", \"zerolinecolor\": \"white\"}, \"zaxis\": {\"backgroundcolor\": \"#E5ECF6\", \"gridcolor\": \"white\", \"gridwidth\": 2, \"linecolor\": \"white\", \"showbackground\": true, \"ticks\": \"\", \"zerolinecolor\": \"white\"}}, \"shapedefaults\": {\"line\": {\"color\": \"#2a3f5f\"}}, \"ternary\": {\"aaxis\": {\"gridcolor\": \"white\", \"linecolor\": \"white\", \"ticks\": \"\"}, \"baxis\": {\"gridcolor\": \"white\", \"linecolor\": \"white\", \"ticks\": \"\"}, \"bgcolor\": \"#E5ECF6\", \"caxis\": {\"gridcolor\": \"white\", \"linecolor\": \"white\", \"ticks\": \"\"}}, \"title\": {\"x\": 0.05}, \"xaxis\": {\"automargin\": true, \"gridcolor\": \"white\", \"linecolor\": \"white\", \"ticks\": \"\", \"title\": {\"standoff\": 15}, \"zerolinecolor\": \"white\", \"zerolinewidth\": 2}, \"yaxis\": {\"automargin\": true, \"gridcolor\": \"white\", \"linecolor\": \"white\", \"ticks\": \"\", \"title\": {\"standoff\": 15}, \"zerolinecolor\": \"white\", \"zerolinewidth\": 2}}}},\n",
       "                        {\"responsive\": true}\n",
       "                    ).then(function(){\n",
       "                            \n",
       "var gd = document.getElementById('b1a40204-5941-4edb-a5b0-6b8ae04d00e0');\n",
       "var x = new MutationObserver(function (mutations, observer) {{\n",
       "        var display = window.getComputedStyle(gd).display;\n",
       "        if (!display || display === 'none') {{\n",
       "            console.log([gd, 'removed!']);\n",
       "            Plotly.purge(gd);\n",
       "            observer.disconnect();\n",
       "        }}\n",
       "}});\n",
       "\n",
       "// Listen for the removal of the full notebook cells\n",
       "var notebookContainer = gd.closest('#notebook-container');\n",
       "if (notebookContainer) {{\n",
       "    x.observe(notebookContainer, {childList: true});\n",
       "}}\n",
       "\n",
       "// Listen for the clearing of the current output cell\n",
       "var outputEl = gd.closest('.output');\n",
       "if (outputEl) {{\n",
       "    x.observe(outputEl, {childList: true});\n",
       "}}\n",
       "\n",
       "                        })\n",
       "                };\n",
       "                });\n",
       "            </script>\n",
       "        </div>"
      ]
     },
     "metadata": {},
     "output_type": "display_data"
    }
   ],
   "source": [
    "fig = go.Figure(data=go.Heatmap(\n",
    "                   z=corr_df.values,\n",
    "                   x=corr_df.columns,\n",
    "                   y=corr_df.columns,\n",
    "                   hoverongaps = False))\n",
    "fig.show()"
   ]
  },
  {
   "cell_type": "markdown",
   "metadata": {},
   "source": [
    "## Check NaN values"
   ]
  },
  {
   "cell_type": "code",
   "execution_count": 105,
   "metadata": {
    "ExecuteTime": {
     "end_time": "2021-02-03T10:28:51.897855Z",
     "start_time": "2021-02-03T10:28:50.498636Z"
    }
   },
   "outputs": [
    {
     "data": {
      "text/html": [
       "<div>\n",
       "<style scoped>\n",
       "    .dataframe tbody tr th:only-of-type {\n",
       "        vertical-align: middle;\n",
       "    }\n",
       "\n",
       "    .dataframe tbody tr th {\n",
       "        vertical-align: top;\n",
       "    }\n",
       "\n",
       "    .dataframe thead th {\n",
       "        text-align: right;\n",
       "    }\n",
       "</style>\n",
       "<table border=\"1\" class=\"dataframe\">\n",
       "  <thead>\n",
       "    <tr style=\"text-align: right;\">\n",
       "      <th></th>\n",
       "      <th>Names</th>\n",
       "      <th>Age</th>\n",
       "      <th>Total_Purchase</th>\n",
       "      <th>Account_Manager</th>\n",
       "      <th>Years</th>\n",
       "      <th>Num_Sites</th>\n",
       "      <th>Location</th>\n",
       "      <th>Company</th>\n",
       "      <th>Churn</th>\n",
       "      <th>year</th>\n",
       "      <th>month</th>\n",
       "      <th>day</th>\n",
       "      <th>weekday</th>\n",
       "      <th>hour</th>\n",
       "      <th>minute</th>\n",
       "    </tr>\n",
       "  </thead>\n",
       "  <tbody>\n",
       "    <tr>\n",
       "      <th>0</th>\n",
       "      <td>0</td>\n",
       "      <td>0</td>\n",
       "      <td>0</td>\n",
       "      <td>0</td>\n",
       "      <td>0</td>\n",
       "      <td>0</td>\n",
       "      <td>0</td>\n",
       "      <td>0</td>\n",
       "      <td>0</td>\n",
       "      <td>0</td>\n",
       "      <td>0</td>\n",
       "      <td>0</td>\n",
       "      <td>0</td>\n",
       "      <td>0</td>\n",
       "      <td>0</td>\n",
       "    </tr>\n",
       "  </tbody>\n",
       "</table>\n",
       "</div>"
      ],
      "text/plain": [
       "   Names  Age  Total_Purchase  Account_Manager  Years  Num_Sites  Location  \\\n",
       "0      0    0               0                0      0          0         0   \n",
       "\n",
       "   Company  Churn  year  month  day  weekday  hour  minute  \n",
       "0        0      0     0      0    0        0     0       0  "
      ]
     },
     "execution_count": 105,
     "metadata": {},
     "output_type": "execute_result"
    }
   ],
   "source": [
    "df_data.select([sf.count(sf.when(sf.isnan(c), c)).alias(c) for c in df_data.columns]).toPandas().head()"
   ]
  },
  {
   "cell_type": "markdown",
   "metadata": {
    "ExecuteTime": {
     "end_time": "2021-02-01T13:54:57.951716Z",
     "start_time": "2021-02-01T13:54:57.947590Z"
    }
   },
   "source": [
    "## method 1: Transformations step by step"
   ]
  },
  {
   "cell_type": "markdown",
   "metadata": {},
   "source": [
    "### Index Categorical features\n",
    "Convert categorical variables into indexed ones"
   ]
  },
  {
   "cell_type": "code",
   "execution_count": 106,
   "metadata": {
    "ExecuteTime": {
     "end_time": "2021-02-03T10:28:58.118500Z",
     "start_time": "2021-02-03T10:28:58.110362Z"
    }
   },
   "outputs": [],
   "source": [
    "df_aux0 = df_data"
   ]
  },
  {
   "cell_type": "code",
   "execution_count": 107,
   "metadata": {
    "ExecuteTime": {
     "end_time": "2021-02-03T10:28:59.624383Z",
     "start_time": "2021-02-03T10:28:59.614560Z"
    }
   },
   "outputs": [
    {
     "name": "stdout",
     "output_type": "stream",
     "text": [
      "['Names', 'Location', 'Company']\n"
     ]
    }
   ],
   "source": [
    "print(categorical_features)"
   ]
  },
  {
   "cell_type": "code",
   "execution_count": 108,
   "metadata": {
    "ExecuteTime": {
     "end_time": "2021-02-03T10:29:02.891264Z",
     "start_time": "2021-02-03T10:29:00.356947Z"
    }
   },
   "outputs": [
    {
     "data": {
      "text/html": [
       "<div>\n",
       "<style scoped>\n",
       "    .dataframe tbody tr th:only-of-type {\n",
       "        vertical-align: middle;\n",
       "    }\n",
       "\n",
       "    .dataframe tbody tr th {\n",
       "        vertical-align: top;\n",
       "    }\n",
       "\n",
       "    .dataframe thead th {\n",
       "        text-align: right;\n",
       "    }\n",
       "</style>\n",
       "<table border=\"1\" class=\"dataframe\">\n",
       "  <thead>\n",
       "    <tr style=\"text-align: right;\">\n",
       "      <th></th>\n",
       "      <th>Names</th>\n",
       "      <th>Age</th>\n",
       "      <th>Total_Purchase</th>\n",
       "      <th>Account_Manager</th>\n",
       "      <th>Years</th>\n",
       "      <th>Num_Sites</th>\n",
       "      <th>Location</th>\n",
       "      <th>Company</th>\n",
       "      <th>Churn</th>\n",
       "      <th>year</th>\n",
       "      <th>month</th>\n",
       "      <th>day</th>\n",
       "      <th>weekday</th>\n",
       "      <th>hour</th>\n",
       "      <th>minute</th>\n",
       "      <th>Names_index</th>\n",
       "      <th>Location_index</th>\n",
       "      <th>Company_index</th>\n",
       "    </tr>\n",
       "  </thead>\n",
       "  <tbody>\n",
       "    <tr>\n",
       "      <th>0</th>\n",
       "      <td>Cameron Williams</td>\n",
       "      <td>42.0</td>\n",
       "      <td>11066.80</td>\n",
       "      <td>0</td>\n",
       "      <td>7.22</td>\n",
       "      <td>8.0</td>\n",
       "      <td>10265 Elizabeth Mission Barkerburgh, AK 89518</td>\n",
       "      <td>Harvey LLC</td>\n",
       "      <td>1</td>\n",
       "      <td>2013</td>\n",
       "      <td>8</td>\n",
       "      <td>30</td>\n",
       "      <td>6</td>\n",
       "      <td>7</td>\n",
       "      <td>0</td>\n",
       "      <td>629.0</td>\n",
       "      <td>709.0</td>\n",
       "      <td>824.0</td>\n",
       "    </tr>\n",
       "    <tr>\n",
       "      <th>1</th>\n",
       "      <td>Kevin Mueller</td>\n",
       "      <td>41.0</td>\n",
       "      <td>11916.22</td>\n",
       "      <td>0</td>\n",
       "      <td>6.50</td>\n",
       "      <td>11.0</td>\n",
       "      <td>6157 Frank Gardens Suite 019 Carloshaven, RI 1...</td>\n",
       "      <td>Wilson PLC</td>\n",
       "      <td>1</td>\n",
       "      <td>2013</td>\n",
       "      <td>8</td>\n",
       "      <td>13</td>\n",
       "      <td>3</td>\n",
       "      <td>0</td>\n",
       "      <td>38</td>\n",
       "      <td>717.0</td>\n",
       "      <td>710.0</td>\n",
       "      <td>1.0</td>\n",
       "    </tr>\n",
       "  </tbody>\n",
       "</table>\n",
       "</div>"
      ],
      "text/plain": [
       "              Names   Age  Total_Purchase  Account_Manager  Years  Num_Sites  \\\n",
       "0  Cameron Williams  42.0        11066.80                0   7.22        8.0   \n",
       "1     Kevin Mueller  41.0        11916.22                0   6.50       11.0   \n",
       "\n",
       "                                            Location     Company  Churn  year  \\\n",
       "0      10265 Elizabeth Mission Barkerburgh, AK 89518  Harvey LLC      1  2013   \n",
       "1  6157 Frank Gardens Suite 019 Carloshaven, RI 1...  Wilson PLC      1  2013   \n",
       "\n",
       "   month  day  weekday  hour  minute  Names_index  Location_index  \\\n",
       "0      8   30        6     7       0        629.0           709.0   \n",
       "1      8   13        3     0      38        717.0           710.0   \n",
       "\n",
       "   Company_index  \n",
       "0          824.0  \n",
       "1            1.0  "
      ]
     },
     "execution_count": 108,
     "metadata": {},
     "output_type": "execute_result"
    }
   ],
   "source": [
    "for categoricalCol in categorical_features:\n",
    "    stringIndexer = StringIndexer(inputCol= categoricalCol,\n",
    "                                  outputCol= categoricalCol + \"_index\")\n",
    "\n",
    "    Index_model = stringIndexer.fit(df_aux0)\n",
    "    df_aux0 = Index_model.transform(df_aux0)\n",
    "\n",
    "df_aux0.toPandas().head(2)"
   ]
  },
  {
   "cell_type": "markdown",
   "metadata": {},
   "source": [
    "### Encode categorical indexed variables\n",
    "The categorical variables indexed are now encoded"
   ]
  },
  {
   "cell_type": "code",
   "execution_count": 109,
   "metadata": {
    "ExecuteTime": {
     "end_time": "2021-02-03T10:29:09.035082Z",
     "start_time": "2021-02-03T10:29:07.266827Z"
    }
   },
   "outputs": [
    {
     "data": {
      "text/html": [
       "<div>\n",
       "<style scoped>\n",
       "    .dataframe tbody tr th:only-of-type {\n",
       "        vertical-align: middle;\n",
       "    }\n",
       "\n",
       "    .dataframe tbody tr th {\n",
       "        vertical-align: top;\n",
       "    }\n",
       "\n",
       "    .dataframe thead th {\n",
       "        text-align: right;\n",
       "    }\n",
       "</style>\n",
       "<table border=\"1\" class=\"dataframe\">\n",
       "  <thead>\n",
       "    <tr style=\"text-align: right;\">\n",
       "      <th></th>\n",
       "      <th>Names</th>\n",
       "      <th>Age</th>\n",
       "      <th>Total_Purchase</th>\n",
       "      <th>Account_Manager</th>\n",
       "      <th>Years</th>\n",
       "      <th>Num_Sites</th>\n",
       "      <th>Location</th>\n",
       "      <th>Company</th>\n",
       "      <th>Churn</th>\n",
       "      <th>year</th>\n",
       "      <th>...</th>\n",
       "      <th>day</th>\n",
       "      <th>weekday</th>\n",
       "      <th>hour</th>\n",
       "      <th>minute</th>\n",
       "      <th>Names_index</th>\n",
       "      <th>Location_index</th>\n",
       "      <th>Company_index</th>\n",
       "      <th>Names_coded</th>\n",
       "      <th>Location_coded</th>\n",
       "      <th>Company_coded</th>\n",
       "    </tr>\n",
       "  </thead>\n",
       "  <tbody>\n",
       "    <tr>\n",
       "      <th>0</th>\n",
       "      <td>Cameron Williams</td>\n",
       "      <td>42.0</td>\n",
       "      <td>11066.80</td>\n",
       "      <td>0</td>\n",
       "      <td>7.22</td>\n",
       "      <td>8.0</td>\n",
       "      <td>10265 Elizabeth Mission Barkerburgh, AK 89518</td>\n",
       "      <td>Harvey LLC</td>\n",
       "      <td>1</td>\n",
       "      <td>2013</td>\n",
       "      <td>...</td>\n",
       "      <td>30</td>\n",
       "      <td>6</td>\n",
       "      <td>7</td>\n",
       "      <td>0</td>\n",
       "      <td>629.0</td>\n",
       "      <td>709.0</td>\n",
       "      <td>824.0</td>\n",
       "      <td>(0.0, 0.0, 0.0, 0.0, 0.0, 0.0, 0.0, 0.0, 0.0, ...</td>\n",
       "      <td>(0.0, 0.0, 0.0, 0.0, 0.0, 0.0, 0.0, 0.0, 0.0, ...</td>\n",
       "      <td>(0.0, 0.0, 0.0, 0.0, 0.0, 0.0, 0.0, 0.0, 0.0, ...</td>\n",
       "    </tr>\n",
       "    <tr>\n",
       "      <th>1</th>\n",
       "      <td>Kevin Mueller</td>\n",
       "      <td>41.0</td>\n",
       "      <td>11916.22</td>\n",
       "      <td>0</td>\n",
       "      <td>6.50</td>\n",
       "      <td>11.0</td>\n",
       "      <td>6157 Frank Gardens Suite 019 Carloshaven, RI 1...</td>\n",
       "      <td>Wilson PLC</td>\n",
       "      <td>1</td>\n",
       "      <td>2013</td>\n",
       "      <td>...</td>\n",
       "      <td>13</td>\n",
       "      <td>3</td>\n",
       "      <td>0</td>\n",
       "      <td>38</td>\n",
       "      <td>717.0</td>\n",
       "      <td>710.0</td>\n",
       "      <td>1.0</td>\n",
       "      <td>(0.0, 0.0, 0.0, 0.0, 0.0, 0.0, 0.0, 0.0, 0.0, ...</td>\n",
       "      <td>(0.0, 0.0, 0.0, 0.0, 0.0, 0.0, 0.0, 0.0, 0.0, ...</td>\n",
       "      <td>(0.0, 1.0, 0.0, 0.0, 0.0, 0.0, 0.0, 0.0, 0.0, ...</td>\n",
       "    </tr>\n",
       "    <tr>\n",
       "      <th>2</th>\n",
       "      <td>Eric Lozano</td>\n",
       "      <td>38.0</td>\n",
       "      <td>12884.75</td>\n",
       "      <td>0</td>\n",
       "      <td>6.67</td>\n",
       "      <td>12.0</td>\n",
       "      <td>1331 Keith Court Alyssahaven, DE 90114</td>\n",
       "      <td>Miller, Johnson and Wallace</td>\n",
       "      <td>1</td>\n",
       "      <td>2016</td>\n",
       "      <td>...</td>\n",
       "      <td>29</td>\n",
       "      <td>4</td>\n",
       "      <td>6</td>\n",
       "      <td>20</td>\n",
       "      <td>360.0</td>\n",
       "      <td>704.0</td>\n",
       "      <td>272.0</td>\n",
       "      <td>(0.0, 0.0, 0.0, 0.0, 0.0, 0.0, 0.0, 0.0, 0.0, ...</td>\n",
       "      <td>(0.0, 0.0, 0.0, 0.0, 0.0, 0.0, 0.0, 0.0, 0.0, ...</td>\n",
       "      <td>(0.0, 0.0, 0.0, 0.0, 0.0, 0.0, 0.0, 0.0, 0.0, ...</td>\n",
       "    </tr>\n",
       "    <tr>\n",
       "      <th>3</th>\n",
       "      <td>Phillip White</td>\n",
       "      <td>42.0</td>\n",
       "      <td>8010.76</td>\n",
       "      <td>0</td>\n",
       "      <td>6.71</td>\n",
       "      <td>10.0</td>\n",
       "      <td>13120 Daniel Mount Angelabury, WY 30645-4695</td>\n",
       "      <td>Smith Inc</td>\n",
       "      <td>1</td>\n",
       "      <td>2014</td>\n",
       "      <td>...</td>\n",
       "      <td>22</td>\n",
       "      <td>3</td>\n",
       "      <td>12</td>\n",
       "      <td>43</td>\n",
       "      <td>346.0</td>\n",
       "      <td>807.0</td>\n",
       "      <td>21.0</td>\n",
       "      <td>(0.0, 0.0, 0.0, 0.0, 0.0, 0.0, 0.0, 0.0, 0.0, ...</td>\n",
       "      <td>(0.0, 0.0, 0.0, 0.0, 0.0, 0.0, 0.0, 0.0, 0.0, ...</td>\n",
       "      <td>(0.0, 0.0, 0.0, 0.0, 0.0, 0.0, 0.0, 0.0, 0.0, ...</td>\n",
       "    </tr>\n",
       "    <tr>\n",
       "      <th>4</th>\n",
       "      <td>Cynthia Norton</td>\n",
       "      <td>37.0</td>\n",
       "      <td>9191.58</td>\n",
       "      <td>0</td>\n",
       "      <td>5.56</td>\n",
       "      <td>9.0</td>\n",
       "      <td>765 Tricia Row Karenshire, MH 71730</td>\n",
       "      <td>Love-Jones</td>\n",
       "      <td>1</td>\n",
       "      <td>2016</td>\n",
       "      <td>...</td>\n",
       "      <td>19</td>\n",
       "      <td>3</td>\n",
       "      <td>15</td>\n",
       "      <td>31</td>\n",
       "      <td>435.0</td>\n",
       "      <td>306.0</td>\n",
       "      <td>524.0</td>\n",
       "      <td>(0.0, 0.0, 0.0, 0.0, 0.0, 0.0, 0.0, 0.0, 0.0, ...</td>\n",
       "      <td>(0.0, 0.0, 0.0, 0.0, 0.0, 0.0, 0.0, 0.0, 0.0, ...</td>\n",
       "      <td>(0.0, 0.0, 0.0, 0.0, 0.0, 0.0, 0.0, 0.0, 0.0, ...</td>\n",
       "    </tr>\n",
       "  </tbody>\n",
       "</table>\n",
       "<p>5 rows × 21 columns</p>\n",
       "</div>"
      ],
      "text/plain": [
       "              Names   Age  Total_Purchase  Account_Manager  Years  Num_Sites  \\\n",
       "0  Cameron Williams  42.0        11066.80                0   7.22        8.0   \n",
       "1     Kevin Mueller  41.0        11916.22                0   6.50       11.0   \n",
       "2       Eric Lozano  38.0        12884.75                0   6.67       12.0   \n",
       "3     Phillip White  42.0         8010.76                0   6.71       10.0   \n",
       "4    Cynthia Norton  37.0         9191.58                0   5.56        9.0   \n",
       "\n",
       "                                            Location  \\\n",
       "0      10265 Elizabeth Mission Barkerburgh, AK 89518   \n",
       "1  6157 Frank Gardens Suite 019 Carloshaven, RI 1...   \n",
       "2             1331 Keith Court Alyssahaven, DE 90114   \n",
       "3       13120 Daniel Mount Angelabury, WY 30645-4695   \n",
       "4                765 Tricia Row Karenshire, MH 71730   \n",
       "\n",
       "                       Company  Churn  year  ...  day  weekday  hour  minute  \\\n",
       "0                   Harvey LLC      1  2013  ...   30        6     7       0   \n",
       "1                   Wilson PLC      1  2013  ...   13        3     0      38   \n",
       "2  Miller, Johnson and Wallace      1  2016  ...   29        4     6      20   \n",
       "3                    Smith Inc      1  2014  ...   22        3    12      43   \n",
       "4                   Love-Jones      1  2016  ...   19        3    15      31   \n",
       "\n",
       "   Names_index  Location_index  Company_index  \\\n",
       "0        629.0           709.0          824.0   \n",
       "1        717.0           710.0            1.0   \n",
       "2        360.0           704.0          272.0   \n",
       "3        346.0           807.0           21.0   \n",
       "4        435.0           306.0          524.0   \n",
       "\n",
       "                                         Names_coded  \\\n",
       "0  (0.0, 0.0, 0.0, 0.0, 0.0, 0.0, 0.0, 0.0, 0.0, ...   \n",
       "1  (0.0, 0.0, 0.0, 0.0, 0.0, 0.0, 0.0, 0.0, 0.0, ...   \n",
       "2  (0.0, 0.0, 0.0, 0.0, 0.0, 0.0, 0.0, 0.0, 0.0, ...   \n",
       "3  (0.0, 0.0, 0.0, 0.0, 0.0, 0.0, 0.0, 0.0, 0.0, ...   \n",
       "4  (0.0, 0.0, 0.0, 0.0, 0.0, 0.0, 0.0, 0.0, 0.0, ...   \n",
       "\n",
       "                                      Location_coded  \\\n",
       "0  (0.0, 0.0, 0.0, 0.0, 0.0, 0.0, 0.0, 0.0, 0.0, ...   \n",
       "1  (0.0, 0.0, 0.0, 0.0, 0.0, 0.0, 0.0, 0.0, 0.0, ...   \n",
       "2  (0.0, 0.0, 0.0, 0.0, 0.0, 0.0, 0.0, 0.0, 0.0, ...   \n",
       "3  (0.0, 0.0, 0.0, 0.0, 0.0, 0.0, 0.0, 0.0, 0.0, ...   \n",
       "4  (0.0, 0.0, 0.0, 0.0, 0.0, 0.0, 0.0, 0.0, 0.0, ...   \n",
       "\n",
       "                                       Company_coded  \n",
       "0  (0.0, 0.0, 0.0, 0.0, 0.0, 0.0, 0.0, 0.0, 0.0, ...  \n",
       "1  (0.0, 1.0, 0.0, 0.0, 0.0, 0.0, 0.0, 0.0, 0.0, ...  \n",
       "2  (0.0, 0.0, 0.0, 0.0, 0.0, 0.0, 0.0, 0.0, 0.0, ...  \n",
       "3  (0.0, 0.0, 0.0, 0.0, 0.0, 0.0, 0.0, 0.0, 0.0, ...  \n",
       "4  (0.0, 0.0, 0.0, 0.0, 0.0, 0.0, 0.0, 0.0, 0.0, ...  \n",
       "\n",
       "[5 rows x 21 columns]"
      ]
     },
     "execution_count": 109,
     "metadata": {},
     "output_type": "execute_result"
    }
   ],
   "source": [
    "df_aux1 = df_aux0\n",
    "for feature in categorical_features:\n",
    "    encoder = OneHotEncoderEstimator()\\\n",
    "                .setInputCols([feature + '_index'])\\\n",
    "                .setOutputCols([feature +  \"_coded\"])\n",
    "\n",
    "    encoder_model = encoder.fit(df_aux1)\n",
    "    df_aux1 = encoder_model.transform(df_aux1)\n",
    "\n",
    "df_aux1.toPandas().head()"
   ]
  },
  {
   "cell_type": "markdown",
   "metadata": {},
   "source": [
    "### Vector assembler\n",
    "Vectorize both numerical and encoded categorical features"
   ]
  },
  {
   "cell_type": "code",
   "execution_count": 110,
   "metadata": {
    "ExecuteTime": {
     "end_time": "2021-02-03T10:29:11.912445Z",
     "start_time": "2021-02-03T10:29:11.898446Z"
    }
   },
   "outputs": [
    {
     "data": {
      "text/plain": [
       "['Names_coded', 'Location_coded', 'Company_coded']"
      ]
     },
     "execution_count": 110,
     "metadata": {},
     "output_type": "execute_result"
    }
   ],
   "source": [
    "input_features = [c + '_coded' for c in categorical_features]\n",
    "input_features"
   ]
  },
  {
   "cell_type": "code",
   "execution_count": 111,
   "metadata": {
    "ExecuteTime": {
     "end_time": "2021-02-03T10:29:14.510692Z",
     "start_time": "2021-02-03T10:29:14.502923Z"
    }
   },
   "outputs": [],
   "source": [
    "numeric_features.remove('Churn')"
   ]
  },
  {
   "cell_type": "code",
   "execution_count": 112,
   "metadata": {
    "ExecuteTime": {
     "end_time": "2021-02-03T10:29:15.644392Z",
     "start_time": "2021-02-03T10:29:15.627750Z"
    }
   },
   "outputs": [
    {
     "data": {
      "text/plain": [
       "['Names_coded',\n",
       " 'Location_coded',\n",
       " 'Company_coded',\n",
       " 'Age',\n",
       " 'Total_Purchase',\n",
       " 'Account_Manager',\n",
       " 'Years',\n",
       " 'Num_Sites',\n",
       " 'year',\n",
       " 'month',\n",
       " 'day',\n",
       " 'weekday',\n",
       " 'hour',\n",
       " 'minute']"
      ]
     },
     "execution_count": 112,
     "metadata": {},
     "output_type": "execute_result"
    }
   ],
   "source": [
    "assemblerInputs = [c for c in input_features] + numeric_features\n",
    "assemblerInputs"
   ]
  },
  {
   "cell_type": "code",
   "execution_count": 113,
   "metadata": {
    "ExecuteTime": {
     "end_time": "2021-02-03T10:29:19.569284Z",
     "start_time": "2021-02-03T10:29:17.447253Z"
    }
   },
   "outputs": [
    {
     "data": {
      "text/html": [
       "<div>\n",
       "<style scoped>\n",
       "    .dataframe tbody tr th:only-of-type {\n",
       "        vertical-align: middle;\n",
       "    }\n",
       "\n",
       "    .dataframe tbody tr th {\n",
       "        vertical-align: top;\n",
       "    }\n",
       "\n",
       "    .dataframe thead th {\n",
       "        text-align: right;\n",
       "    }\n",
       "</style>\n",
       "<table border=\"1\" class=\"dataframe\">\n",
       "  <thead>\n",
       "    <tr style=\"text-align: right;\">\n",
       "      <th></th>\n",
       "      <th>Names</th>\n",
       "      <th>Age</th>\n",
       "      <th>Total_Purchase</th>\n",
       "      <th>Account_Manager</th>\n",
       "      <th>Years</th>\n",
       "      <th>Num_Sites</th>\n",
       "      <th>Location</th>\n",
       "      <th>Company</th>\n",
       "      <th>Churn</th>\n",
       "      <th>year</th>\n",
       "      <th>...</th>\n",
       "      <th>weekday</th>\n",
       "      <th>hour</th>\n",
       "      <th>minute</th>\n",
       "      <th>Names_index</th>\n",
       "      <th>Location_index</th>\n",
       "      <th>Company_index</th>\n",
       "      <th>Names_coded</th>\n",
       "      <th>Location_coded</th>\n",
       "      <th>Company_coded</th>\n",
       "      <th>vectorized_features</th>\n",
       "    </tr>\n",
       "  </thead>\n",
       "  <tbody>\n",
       "    <tr>\n",
       "      <th>0</th>\n",
       "      <td>Cameron Williams</td>\n",
       "      <td>42.0</td>\n",
       "      <td>11066.80</td>\n",
       "      <td>0</td>\n",
       "      <td>7.22</td>\n",
       "      <td>8.0</td>\n",
       "      <td>10265 Elizabeth Mission Barkerburgh, AK 89518</td>\n",
       "      <td>Harvey LLC</td>\n",
       "      <td>1</td>\n",
       "      <td>2013</td>\n",
       "      <td>...</td>\n",
       "      <td>6</td>\n",
       "      <td>7</td>\n",
       "      <td>0</td>\n",
       "      <td>629.0</td>\n",
       "      <td>709.0</td>\n",
       "      <td>824.0</td>\n",
       "      <td>(0.0, 0.0, 0.0, 0.0, 0.0, 0.0, 0.0, 0.0, 0.0, ...</td>\n",
       "      <td>(0.0, 0.0, 0.0, 0.0, 0.0, 0.0, 0.0, 0.0, 0.0, ...</td>\n",
       "      <td>(0.0, 0.0, 0.0, 0.0, 0.0, 0.0, 0.0, 0.0, 0.0, ...</td>\n",
       "      <td>(0.0, 0.0, 0.0, 0.0, 0.0, 0.0, 0.0, 0.0, 0.0, ...</td>\n",
       "    </tr>\n",
       "    <tr>\n",
       "      <th>1</th>\n",
       "      <td>Kevin Mueller</td>\n",
       "      <td>41.0</td>\n",
       "      <td>11916.22</td>\n",
       "      <td>0</td>\n",
       "      <td>6.50</td>\n",
       "      <td>11.0</td>\n",
       "      <td>6157 Frank Gardens Suite 019 Carloshaven, RI 1...</td>\n",
       "      <td>Wilson PLC</td>\n",
       "      <td>1</td>\n",
       "      <td>2013</td>\n",
       "      <td>...</td>\n",
       "      <td>3</td>\n",
       "      <td>0</td>\n",
       "      <td>38</td>\n",
       "      <td>717.0</td>\n",
       "      <td>710.0</td>\n",
       "      <td>1.0</td>\n",
       "      <td>(0.0, 0.0, 0.0, 0.0, 0.0, 0.0, 0.0, 0.0, 0.0, ...</td>\n",
       "      <td>(0.0, 0.0, 0.0, 0.0, 0.0, 0.0, 0.0, 0.0, 0.0, ...</td>\n",
       "      <td>(0.0, 1.0, 0.0, 0.0, 0.0, 0.0, 0.0, 0.0, 0.0, ...</td>\n",
       "      <td>(0.0, 0.0, 0.0, 0.0, 0.0, 0.0, 0.0, 0.0, 0.0, ...</td>\n",
       "    </tr>\n",
       "    <tr>\n",
       "      <th>2</th>\n",
       "      <td>Eric Lozano</td>\n",
       "      <td>38.0</td>\n",
       "      <td>12884.75</td>\n",
       "      <td>0</td>\n",
       "      <td>6.67</td>\n",
       "      <td>12.0</td>\n",
       "      <td>1331 Keith Court Alyssahaven, DE 90114</td>\n",
       "      <td>Miller, Johnson and Wallace</td>\n",
       "      <td>1</td>\n",
       "      <td>2016</td>\n",
       "      <td>...</td>\n",
       "      <td>4</td>\n",
       "      <td>6</td>\n",
       "      <td>20</td>\n",
       "      <td>360.0</td>\n",
       "      <td>704.0</td>\n",
       "      <td>272.0</td>\n",
       "      <td>(0.0, 0.0, 0.0, 0.0, 0.0, 0.0, 0.0, 0.0, 0.0, ...</td>\n",
       "      <td>(0.0, 0.0, 0.0, 0.0, 0.0, 0.0, 0.0, 0.0, 0.0, ...</td>\n",
       "      <td>(0.0, 0.0, 0.0, 0.0, 0.0, 0.0, 0.0, 0.0, 0.0, ...</td>\n",
       "      <td>(0.0, 0.0, 0.0, 0.0, 0.0, 0.0, 0.0, 0.0, 0.0, ...</td>\n",
       "    </tr>\n",
       "    <tr>\n",
       "      <th>3</th>\n",
       "      <td>Phillip White</td>\n",
       "      <td>42.0</td>\n",
       "      <td>8010.76</td>\n",
       "      <td>0</td>\n",
       "      <td>6.71</td>\n",
       "      <td>10.0</td>\n",
       "      <td>13120 Daniel Mount Angelabury, WY 30645-4695</td>\n",
       "      <td>Smith Inc</td>\n",
       "      <td>1</td>\n",
       "      <td>2014</td>\n",
       "      <td>...</td>\n",
       "      <td>3</td>\n",
       "      <td>12</td>\n",
       "      <td>43</td>\n",
       "      <td>346.0</td>\n",
       "      <td>807.0</td>\n",
       "      <td>21.0</td>\n",
       "      <td>(0.0, 0.0, 0.0, 0.0, 0.0, 0.0, 0.0, 0.0, 0.0, ...</td>\n",
       "      <td>(0.0, 0.0, 0.0, 0.0, 0.0, 0.0, 0.0, 0.0, 0.0, ...</td>\n",
       "      <td>(0.0, 0.0, 0.0, 0.0, 0.0, 0.0, 0.0, 0.0, 0.0, ...</td>\n",
       "      <td>(0.0, 0.0, 0.0, 0.0, 0.0, 0.0, 0.0, 0.0, 0.0, ...</td>\n",
       "    </tr>\n",
       "    <tr>\n",
       "      <th>4</th>\n",
       "      <td>Cynthia Norton</td>\n",
       "      <td>37.0</td>\n",
       "      <td>9191.58</td>\n",
       "      <td>0</td>\n",
       "      <td>5.56</td>\n",
       "      <td>9.0</td>\n",
       "      <td>765 Tricia Row Karenshire, MH 71730</td>\n",
       "      <td>Love-Jones</td>\n",
       "      <td>1</td>\n",
       "      <td>2016</td>\n",
       "      <td>...</td>\n",
       "      <td>3</td>\n",
       "      <td>15</td>\n",
       "      <td>31</td>\n",
       "      <td>435.0</td>\n",
       "      <td>306.0</td>\n",
       "      <td>524.0</td>\n",
       "      <td>(0.0, 0.0, 0.0, 0.0, 0.0, 0.0, 0.0, 0.0, 0.0, ...</td>\n",
       "      <td>(0.0, 0.0, 0.0, 0.0, 0.0, 0.0, 0.0, 0.0, 0.0, ...</td>\n",
       "      <td>(0.0, 0.0, 0.0, 0.0, 0.0, 0.0, 0.0, 0.0, 0.0, ...</td>\n",
       "      <td>(0.0, 0.0, 0.0, 0.0, 0.0, 0.0, 0.0, 0.0, 0.0, ...</td>\n",
       "    </tr>\n",
       "  </tbody>\n",
       "</table>\n",
       "<p>5 rows × 22 columns</p>\n",
       "</div>"
      ],
      "text/plain": [
       "              Names   Age  Total_Purchase  Account_Manager  Years  Num_Sites  \\\n",
       "0  Cameron Williams  42.0        11066.80                0   7.22        8.0   \n",
       "1     Kevin Mueller  41.0        11916.22                0   6.50       11.0   \n",
       "2       Eric Lozano  38.0        12884.75                0   6.67       12.0   \n",
       "3     Phillip White  42.0         8010.76                0   6.71       10.0   \n",
       "4    Cynthia Norton  37.0         9191.58                0   5.56        9.0   \n",
       "\n",
       "                                            Location  \\\n",
       "0      10265 Elizabeth Mission Barkerburgh, AK 89518   \n",
       "1  6157 Frank Gardens Suite 019 Carloshaven, RI 1...   \n",
       "2             1331 Keith Court Alyssahaven, DE 90114   \n",
       "3       13120 Daniel Mount Angelabury, WY 30645-4695   \n",
       "4                765 Tricia Row Karenshire, MH 71730   \n",
       "\n",
       "                       Company  Churn  year  ...  weekday  hour  minute  \\\n",
       "0                   Harvey LLC      1  2013  ...        6     7       0   \n",
       "1                   Wilson PLC      1  2013  ...        3     0      38   \n",
       "2  Miller, Johnson and Wallace      1  2016  ...        4     6      20   \n",
       "3                    Smith Inc      1  2014  ...        3    12      43   \n",
       "4                   Love-Jones      1  2016  ...        3    15      31   \n",
       "\n",
       "   Names_index  Location_index  Company_index  \\\n",
       "0        629.0           709.0          824.0   \n",
       "1        717.0           710.0            1.0   \n",
       "2        360.0           704.0          272.0   \n",
       "3        346.0           807.0           21.0   \n",
       "4        435.0           306.0          524.0   \n",
       "\n",
       "                                         Names_coded  \\\n",
       "0  (0.0, 0.0, 0.0, 0.0, 0.0, 0.0, 0.0, 0.0, 0.0, ...   \n",
       "1  (0.0, 0.0, 0.0, 0.0, 0.0, 0.0, 0.0, 0.0, 0.0, ...   \n",
       "2  (0.0, 0.0, 0.0, 0.0, 0.0, 0.0, 0.0, 0.0, 0.0, ...   \n",
       "3  (0.0, 0.0, 0.0, 0.0, 0.0, 0.0, 0.0, 0.0, 0.0, ...   \n",
       "4  (0.0, 0.0, 0.0, 0.0, 0.0, 0.0, 0.0, 0.0, 0.0, ...   \n",
       "\n",
       "                                      Location_coded  \\\n",
       "0  (0.0, 0.0, 0.0, 0.0, 0.0, 0.0, 0.0, 0.0, 0.0, ...   \n",
       "1  (0.0, 0.0, 0.0, 0.0, 0.0, 0.0, 0.0, 0.0, 0.0, ...   \n",
       "2  (0.0, 0.0, 0.0, 0.0, 0.0, 0.0, 0.0, 0.0, 0.0, ...   \n",
       "3  (0.0, 0.0, 0.0, 0.0, 0.0, 0.0, 0.0, 0.0, 0.0, ...   \n",
       "4  (0.0, 0.0, 0.0, 0.0, 0.0, 0.0, 0.0, 0.0, 0.0, ...   \n",
       "\n",
       "                                       Company_coded  \\\n",
       "0  (0.0, 0.0, 0.0, 0.0, 0.0, 0.0, 0.0, 0.0, 0.0, ...   \n",
       "1  (0.0, 1.0, 0.0, 0.0, 0.0, 0.0, 0.0, 0.0, 0.0, ...   \n",
       "2  (0.0, 0.0, 0.0, 0.0, 0.0, 0.0, 0.0, 0.0, 0.0, ...   \n",
       "3  (0.0, 0.0, 0.0, 0.0, 0.0, 0.0, 0.0, 0.0, 0.0, ...   \n",
       "4  (0.0, 0.0, 0.0, 0.0, 0.0, 0.0, 0.0, 0.0, 0.0, ...   \n",
       "\n",
       "                                 vectorized_features  \n",
       "0  (0.0, 0.0, 0.0, 0.0, 0.0, 0.0, 0.0, 0.0, 0.0, ...  \n",
       "1  (0.0, 0.0, 0.0, 0.0, 0.0, 0.0, 0.0, 0.0, 0.0, ...  \n",
       "2  (0.0, 0.0, 0.0, 0.0, 0.0, 0.0, 0.0, 0.0, 0.0, ...  \n",
       "3  (0.0, 0.0, 0.0, 0.0, 0.0, 0.0, 0.0, 0.0, 0.0, ...  \n",
       "4  (0.0, 0.0, 0.0, 0.0, 0.0, 0.0, 0.0, 0.0, 0.0, ...  \n",
       "\n",
       "[5 rows x 22 columns]"
      ]
     },
     "execution_count": 113,
     "metadata": {},
     "output_type": "execute_result"
    }
   ],
   "source": [
    "assembler = VectorAssembler()\\\n",
    "         .setInputCols (assemblerInputs)\\\n",
    "         .setOutputCol (\"vectorized_features\")\n",
    "        \n",
    "\n",
    "df_aux2 = assembler.transform(df_aux1)\n",
    "df_aux2.toPandas().head()"
   ]
  },
  {
   "cell_type": "markdown",
   "metadata": {},
   "source": [
    "### Label indexer"
   ]
  },
  {
   "cell_type": "code",
   "execution_count": 114,
   "metadata": {
    "ExecuteTime": {
     "end_time": "2021-02-03T10:29:24.517929Z",
     "start_time": "2021-02-03T10:29:23.636241Z"
    }
   },
   "outputs": [
    {
     "data": {
      "text/html": [
       "<div>\n",
       "<style scoped>\n",
       "    .dataframe tbody tr th:only-of-type {\n",
       "        vertical-align: middle;\n",
       "    }\n",
       "\n",
       "    .dataframe tbody tr th {\n",
       "        vertical-align: top;\n",
       "    }\n",
       "\n",
       "    .dataframe thead th {\n",
       "        text-align: right;\n",
       "    }\n",
       "</style>\n",
       "<table border=\"1\" class=\"dataframe\">\n",
       "  <thead>\n",
       "    <tr style=\"text-align: right;\">\n",
       "      <th></th>\n",
       "      <th>Churn</th>\n",
       "      <th>label</th>\n",
       "    </tr>\n",
       "  </thead>\n",
       "  <tbody>\n",
       "    <tr>\n",
       "      <th>0</th>\n",
       "      <td>1</td>\n",
       "      <td>1.0</td>\n",
       "    </tr>\n",
       "    <tr>\n",
       "      <th>1</th>\n",
       "      <td>1</td>\n",
       "      <td>1.0</td>\n",
       "    </tr>\n",
       "    <tr>\n",
       "      <th>2</th>\n",
       "      <td>1</td>\n",
       "      <td>1.0</td>\n",
       "    </tr>\n",
       "    <tr>\n",
       "      <th>3</th>\n",
       "      <td>1</td>\n",
       "      <td>1.0</td>\n",
       "    </tr>\n",
       "    <tr>\n",
       "      <th>4</th>\n",
       "      <td>1</td>\n",
       "      <td>1.0</td>\n",
       "    </tr>\n",
       "  </tbody>\n",
       "</table>\n",
       "</div>"
      ],
      "text/plain": [
       "   Churn  label\n",
       "0      1    1.0\n",
       "1      1    1.0\n",
       "2      1    1.0\n",
       "3      1    1.0\n",
       "4      1    1.0"
      ]
     },
     "execution_count": 114,
     "metadata": {},
     "output_type": "execute_result"
    }
   ],
   "source": [
    "label_indexer = StringIndexer()\\\n",
    "         .setInputCol (\"Churn\")\\\n",
    "         .setOutputCol (\"label\")\n",
    "\n",
    "label_indexer_model = label_indexer.fit(df_aux2)\n",
    "df_aux3 = label_indexer_model.transform(df_aux2)\n",
    "\n",
    "df_aux3.select(\"Churn\",\"label\").toPandas().head()"
   ]
  },
  {
   "cell_type": "markdown",
   "metadata": {},
   "source": [
    "### Scale features \n",
    "To make them vary in the same range"
   ]
  },
  {
   "cell_type": "code",
   "execution_count": 176,
   "metadata": {
    "ExecuteTime": {
     "end_time": "2021-02-03T10:54:40.467024Z",
     "start_time": "2021-02-03T10:54:39.522682Z"
    }
   },
   "outputs": [
    {
     "data": {
      "text/html": [
       "<div>\n",
       "<style scoped>\n",
       "    .dataframe tbody tr th:only-of-type {\n",
       "        vertical-align: middle;\n",
       "    }\n",
       "\n",
       "    .dataframe tbody tr th {\n",
       "        vertical-align: top;\n",
       "    }\n",
       "\n",
       "    .dataframe thead th {\n",
       "        text-align: right;\n",
       "    }\n",
       "</style>\n",
       "<table border=\"1\" class=\"dataframe\">\n",
       "  <thead>\n",
       "    <tr style=\"text-align: right;\">\n",
       "      <th></th>\n",
       "      <th>vectorized_features</th>\n",
       "      <th>features</th>\n",
       "    </tr>\n",
       "  </thead>\n",
       "  <tbody>\n",
       "    <tr>\n",
       "      <th>0</th>\n",
       "      <td>(0.0, 0.0, 0.0, 0.0, 0.0, 0.0, 0.0, 0.0, 0.0, ...</td>\n",
       "      <td>(0.0, 0.0, 0.0, 0.0, 0.0, 0.0, 0.0, 0.0, 0.0, ...</td>\n",
       "    </tr>\n",
       "    <tr>\n",
       "      <th>1</th>\n",
       "      <td>(0.0, 0.0, 0.0, 0.0, 0.0, 0.0, 0.0, 0.0, 0.0, ...</td>\n",
       "      <td>(0.0, 0.0, 0.0, 0.0, 0.0, 0.0, 0.0, 0.0, 0.0, ...</td>\n",
       "    </tr>\n",
       "    <tr>\n",
       "      <th>2</th>\n",
       "      <td>(0.0, 0.0, 0.0, 0.0, 0.0, 0.0, 0.0, 0.0, 0.0, ...</td>\n",
       "      <td>(0.0, 0.0, 0.0, 0.0, 0.0, 0.0, 0.0, 0.0, 0.0, ...</td>\n",
       "    </tr>\n",
       "    <tr>\n",
       "      <th>3</th>\n",
       "      <td>(0.0, 0.0, 0.0, 0.0, 0.0, 0.0, 0.0, 0.0, 0.0, ...</td>\n",
       "      <td>(0.0, 0.0, 0.0, 0.0, 0.0, 0.0, 0.0, 0.0, 0.0, ...</td>\n",
       "    </tr>\n",
       "    <tr>\n",
       "      <th>4</th>\n",
       "      <td>(0.0, 0.0, 0.0, 0.0, 0.0, 0.0, 0.0, 0.0, 0.0, ...</td>\n",
       "      <td>(0.0, 0.0, 0.0, 0.0, 0.0, 0.0, 0.0, 0.0, 0.0, ...</td>\n",
       "    </tr>\n",
       "  </tbody>\n",
       "</table>\n",
       "</div>"
      ],
      "text/plain": [
       "                                 vectorized_features  \\\n",
       "0  (0.0, 0.0, 0.0, 0.0, 0.0, 0.0, 0.0, 0.0, 0.0, ...   \n",
       "1  (0.0, 0.0, 0.0, 0.0, 0.0, 0.0, 0.0, 0.0, 0.0, ...   \n",
       "2  (0.0, 0.0, 0.0, 0.0, 0.0, 0.0, 0.0, 0.0, 0.0, ...   \n",
       "3  (0.0, 0.0, 0.0, 0.0, 0.0, 0.0, 0.0, 0.0, 0.0, ...   \n",
       "4  (0.0, 0.0, 0.0, 0.0, 0.0, 0.0, 0.0, 0.0, 0.0, ...   \n",
       "\n",
       "                                            features  \n",
       "0  (0.0, 0.0, 0.0, 0.0, 0.0, 0.0, 0.0, 0.0, 0.0, ...  \n",
       "1  (0.0, 0.0, 0.0, 0.0, 0.0, 0.0, 0.0, 0.0, 0.0, ...  \n",
       "2  (0.0, 0.0, 0.0, 0.0, 0.0, 0.0, 0.0, 0.0, 0.0, ...  \n",
       "3  (0.0, 0.0, 0.0, 0.0, 0.0, 0.0, 0.0, 0.0, 0.0, ...  \n",
       "4  (0.0, 0.0, 0.0, 0.0, 0.0, 0.0, 0.0, 0.0, 0.0, ...  "
      ]
     },
     "execution_count": 176,
     "metadata": {},
     "output_type": "execute_result"
    }
   ],
   "source": [
    "scaler = StandardScaler()\\\n",
    "         .setInputCol (\"vectorized_features\")\\\n",
    "         .setOutputCol (\"features\")\n",
    "        \n",
    "scaler_model = scaler.fit(df_aux3)\n",
    "df_aux4 = scaler_model.transform(df_aux3)\n",
    "\n",
    "df_aux4.select(\"vectorized_features\",\"features\").toPandas().head(5)"
   ]
  },
  {
   "cell_type": "code",
   "execution_count": 177,
   "metadata": {
    "ExecuteTime": {
     "end_time": "2021-02-03T10:54:44.099586Z",
     "start_time": "2021-02-03T10:54:43.216167Z"
    }
   },
   "outputs": [
    {
     "data": {
      "text/html": [
       "<div>\n",
       "<style scoped>\n",
       "    .dataframe tbody tr th:only-of-type {\n",
       "        vertical-align: middle;\n",
       "    }\n",
       "\n",
       "    .dataframe tbody tr th {\n",
       "        vertical-align: top;\n",
       "    }\n",
       "\n",
       "    .dataframe thead th {\n",
       "        text-align: right;\n",
       "    }\n",
       "</style>\n",
       "<table border=\"1\" class=\"dataframe\">\n",
       "  <thead>\n",
       "    <tr style=\"text-align: right;\">\n",
       "      <th></th>\n",
       "      <th>Names</th>\n",
       "      <th>Age</th>\n",
       "      <th>Total_Purchase</th>\n",
       "      <th>Account_Manager</th>\n",
       "      <th>Years</th>\n",
       "      <th>Num_Sites</th>\n",
       "      <th>Location</th>\n",
       "      <th>Company</th>\n",
       "      <th>Churn</th>\n",
       "      <th>year</th>\n",
       "      <th>...</th>\n",
       "      <th>minute</th>\n",
       "      <th>Names_index</th>\n",
       "      <th>Location_index</th>\n",
       "      <th>Company_index</th>\n",
       "      <th>Names_coded</th>\n",
       "      <th>Location_coded</th>\n",
       "      <th>Company_coded</th>\n",
       "      <th>vectorized_features</th>\n",
       "      <th>label</th>\n",
       "      <th>features</th>\n",
       "    </tr>\n",
       "  </thead>\n",
       "  <tbody>\n",
       "    <tr>\n",
       "      <th>0</th>\n",
       "      <td>Cameron Williams</td>\n",
       "      <td>42.0</td>\n",
       "      <td>11066.80</td>\n",
       "      <td>0</td>\n",
       "      <td>7.22</td>\n",
       "      <td>8.0</td>\n",
       "      <td>10265 Elizabeth Mission Barkerburgh, AK 89518</td>\n",
       "      <td>Harvey LLC</td>\n",
       "      <td>1</td>\n",
       "      <td>2013</td>\n",
       "      <td>...</td>\n",
       "      <td>0</td>\n",
       "      <td>629.0</td>\n",
       "      <td>709.0</td>\n",
       "      <td>824.0</td>\n",
       "      <td>(0.0, 0.0, 0.0, 0.0, 0.0, 0.0, 0.0, 0.0, 0.0, ...</td>\n",
       "      <td>(0.0, 0.0, 0.0, 0.0, 0.0, 0.0, 0.0, 0.0, 0.0, ...</td>\n",
       "      <td>(0.0, 0.0, 0.0, 0.0, 0.0, 0.0, 0.0, 0.0, 0.0, ...</td>\n",
       "      <td>(0.0, 0.0, 0.0, 0.0, 0.0, 0.0, 0.0, 0.0, 0.0, ...</td>\n",
       "      <td>1.0</td>\n",
       "      <td>(0.0, 0.0, 0.0, 0.0, 0.0, 0.0, 0.0, 0.0, 0.0, ...</td>\n",
       "    </tr>\n",
       "    <tr>\n",
       "      <th>1</th>\n",
       "      <td>Kevin Mueller</td>\n",
       "      <td>41.0</td>\n",
       "      <td>11916.22</td>\n",
       "      <td>0</td>\n",
       "      <td>6.50</td>\n",
       "      <td>11.0</td>\n",
       "      <td>6157 Frank Gardens Suite 019 Carloshaven, RI 1...</td>\n",
       "      <td>Wilson PLC</td>\n",
       "      <td>1</td>\n",
       "      <td>2013</td>\n",
       "      <td>...</td>\n",
       "      <td>38</td>\n",
       "      <td>717.0</td>\n",
       "      <td>710.0</td>\n",
       "      <td>1.0</td>\n",
       "      <td>(0.0, 0.0, 0.0, 0.0, 0.0, 0.0, 0.0, 0.0, 0.0, ...</td>\n",
       "      <td>(0.0, 0.0, 0.0, 0.0, 0.0, 0.0, 0.0, 0.0, 0.0, ...</td>\n",
       "      <td>(0.0, 1.0, 0.0, 0.0, 0.0, 0.0, 0.0, 0.0, 0.0, ...</td>\n",
       "      <td>(0.0, 0.0, 0.0, 0.0, 0.0, 0.0, 0.0, 0.0, 0.0, ...</td>\n",
       "      <td>1.0</td>\n",
       "      <td>(0.0, 0.0, 0.0, 0.0, 0.0, 0.0, 0.0, 0.0, 0.0, ...</td>\n",
       "    </tr>\n",
       "    <tr>\n",
       "      <th>2</th>\n",
       "      <td>Eric Lozano</td>\n",
       "      <td>38.0</td>\n",
       "      <td>12884.75</td>\n",
       "      <td>0</td>\n",
       "      <td>6.67</td>\n",
       "      <td>12.0</td>\n",
       "      <td>1331 Keith Court Alyssahaven, DE 90114</td>\n",
       "      <td>Miller, Johnson and Wallace</td>\n",
       "      <td>1</td>\n",
       "      <td>2016</td>\n",
       "      <td>...</td>\n",
       "      <td>20</td>\n",
       "      <td>360.0</td>\n",
       "      <td>704.0</td>\n",
       "      <td>272.0</td>\n",
       "      <td>(0.0, 0.0, 0.0, 0.0, 0.0, 0.0, 0.0, 0.0, 0.0, ...</td>\n",
       "      <td>(0.0, 0.0, 0.0, 0.0, 0.0, 0.0, 0.0, 0.0, 0.0, ...</td>\n",
       "      <td>(0.0, 0.0, 0.0, 0.0, 0.0, 0.0, 0.0, 0.0, 0.0, ...</td>\n",
       "      <td>(0.0, 0.0, 0.0, 0.0, 0.0, 0.0, 0.0, 0.0, 0.0, ...</td>\n",
       "      <td>1.0</td>\n",
       "      <td>(0.0, 0.0, 0.0, 0.0, 0.0, 0.0, 0.0, 0.0, 0.0, ...</td>\n",
       "    </tr>\n",
       "    <tr>\n",
       "      <th>3</th>\n",
       "      <td>Phillip White</td>\n",
       "      <td>42.0</td>\n",
       "      <td>8010.76</td>\n",
       "      <td>0</td>\n",
       "      <td>6.71</td>\n",
       "      <td>10.0</td>\n",
       "      <td>13120 Daniel Mount Angelabury, WY 30645-4695</td>\n",
       "      <td>Smith Inc</td>\n",
       "      <td>1</td>\n",
       "      <td>2014</td>\n",
       "      <td>...</td>\n",
       "      <td>43</td>\n",
       "      <td>346.0</td>\n",
       "      <td>807.0</td>\n",
       "      <td>21.0</td>\n",
       "      <td>(0.0, 0.0, 0.0, 0.0, 0.0, 0.0, 0.0, 0.0, 0.0, ...</td>\n",
       "      <td>(0.0, 0.0, 0.0, 0.0, 0.0, 0.0, 0.0, 0.0, 0.0, ...</td>\n",
       "      <td>(0.0, 0.0, 0.0, 0.0, 0.0, 0.0, 0.0, 0.0, 0.0, ...</td>\n",
       "      <td>(0.0, 0.0, 0.0, 0.0, 0.0, 0.0, 0.0, 0.0, 0.0, ...</td>\n",
       "      <td>1.0</td>\n",
       "      <td>(0.0, 0.0, 0.0, 0.0, 0.0, 0.0, 0.0, 0.0, 0.0, ...</td>\n",
       "    </tr>\n",
       "    <tr>\n",
       "      <th>4</th>\n",
       "      <td>Cynthia Norton</td>\n",
       "      <td>37.0</td>\n",
       "      <td>9191.58</td>\n",
       "      <td>0</td>\n",
       "      <td>5.56</td>\n",
       "      <td>9.0</td>\n",
       "      <td>765 Tricia Row Karenshire, MH 71730</td>\n",
       "      <td>Love-Jones</td>\n",
       "      <td>1</td>\n",
       "      <td>2016</td>\n",
       "      <td>...</td>\n",
       "      <td>31</td>\n",
       "      <td>435.0</td>\n",
       "      <td>306.0</td>\n",
       "      <td>524.0</td>\n",
       "      <td>(0.0, 0.0, 0.0, 0.0, 0.0, 0.0, 0.0, 0.0, 0.0, ...</td>\n",
       "      <td>(0.0, 0.0, 0.0, 0.0, 0.0, 0.0, 0.0, 0.0, 0.0, ...</td>\n",
       "      <td>(0.0, 0.0, 0.0, 0.0, 0.0, 0.0, 0.0, 0.0, 0.0, ...</td>\n",
       "      <td>(0.0, 0.0, 0.0, 0.0, 0.0, 0.0, 0.0, 0.0, 0.0, ...</td>\n",
       "      <td>1.0</td>\n",
       "      <td>(0.0, 0.0, 0.0, 0.0, 0.0, 0.0, 0.0, 0.0, 0.0, ...</td>\n",
       "    </tr>\n",
       "  </tbody>\n",
       "</table>\n",
       "<p>5 rows × 24 columns</p>\n",
       "</div>"
      ],
      "text/plain": [
       "              Names   Age  Total_Purchase  Account_Manager  Years  Num_Sites  \\\n",
       "0  Cameron Williams  42.0        11066.80                0   7.22        8.0   \n",
       "1     Kevin Mueller  41.0        11916.22                0   6.50       11.0   \n",
       "2       Eric Lozano  38.0        12884.75                0   6.67       12.0   \n",
       "3     Phillip White  42.0         8010.76                0   6.71       10.0   \n",
       "4    Cynthia Norton  37.0         9191.58                0   5.56        9.0   \n",
       "\n",
       "                                            Location  \\\n",
       "0      10265 Elizabeth Mission Barkerburgh, AK 89518   \n",
       "1  6157 Frank Gardens Suite 019 Carloshaven, RI 1...   \n",
       "2             1331 Keith Court Alyssahaven, DE 90114   \n",
       "3       13120 Daniel Mount Angelabury, WY 30645-4695   \n",
       "4                765 Tricia Row Karenshire, MH 71730   \n",
       "\n",
       "                       Company  Churn  year  ...  minute  Names_index  \\\n",
       "0                   Harvey LLC      1  2013  ...       0        629.0   \n",
       "1                   Wilson PLC      1  2013  ...      38        717.0   \n",
       "2  Miller, Johnson and Wallace      1  2016  ...      20        360.0   \n",
       "3                    Smith Inc      1  2014  ...      43        346.0   \n",
       "4                   Love-Jones      1  2016  ...      31        435.0   \n",
       "\n",
       "   Location_index  Company_index  \\\n",
       "0           709.0          824.0   \n",
       "1           710.0            1.0   \n",
       "2           704.0          272.0   \n",
       "3           807.0           21.0   \n",
       "4           306.0          524.0   \n",
       "\n",
       "                                         Names_coded  \\\n",
       "0  (0.0, 0.0, 0.0, 0.0, 0.0, 0.0, 0.0, 0.0, 0.0, ...   \n",
       "1  (0.0, 0.0, 0.0, 0.0, 0.0, 0.0, 0.0, 0.0, 0.0, ...   \n",
       "2  (0.0, 0.0, 0.0, 0.0, 0.0, 0.0, 0.0, 0.0, 0.0, ...   \n",
       "3  (0.0, 0.0, 0.0, 0.0, 0.0, 0.0, 0.0, 0.0, 0.0, ...   \n",
       "4  (0.0, 0.0, 0.0, 0.0, 0.0, 0.0, 0.0, 0.0, 0.0, ...   \n",
       "\n",
       "                                      Location_coded  \\\n",
       "0  (0.0, 0.0, 0.0, 0.0, 0.0, 0.0, 0.0, 0.0, 0.0, ...   \n",
       "1  (0.0, 0.0, 0.0, 0.0, 0.0, 0.0, 0.0, 0.0, 0.0, ...   \n",
       "2  (0.0, 0.0, 0.0, 0.0, 0.0, 0.0, 0.0, 0.0, 0.0, ...   \n",
       "3  (0.0, 0.0, 0.0, 0.0, 0.0, 0.0, 0.0, 0.0, 0.0, ...   \n",
       "4  (0.0, 0.0, 0.0, 0.0, 0.0, 0.0, 0.0, 0.0, 0.0, ...   \n",
       "\n",
       "                                       Company_coded  \\\n",
       "0  (0.0, 0.0, 0.0, 0.0, 0.0, 0.0, 0.0, 0.0, 0.0, ...   \n",
       "1  (0.0, 1.0, 0.0, 0.0, 0.0, 0.0, 0.0, 0.0, 0.0, ...   \n",
       "2  (0.0, 0.0, 0.0, 0.0, 0.0, 0.0, 0.0, 0.0, 0.0, ...   \n",
       "3  (0.0, 0.0, 0.0, 0.0, 0.0, 0.0, 0.0, 0.0, 0.0, ...   \n",
       "4  (0.0, 0.0, 0.0, 0.0, 0.0, 0.0, 0.0, 0.0, 0.0, ...   \n",
       "\n",
       "                                 vectorized_features label  \\\n",
       "0  (0.0, 0.0, 0.0, 0.0, 0.0, 0.0, 0.0, 0.0, 0.0, ...   1.0   \n",
       "1  (0.0, 0.0, 0.0, 0.0, 0.0, 0.0, 0.0, 0.0, 0.0, ...   1.0   \n",
       "2  (0.0, 0.0, 0.0, 0.0, 0.0, 0.0, 0.0, 0.0, 0.0, ...   1.0   \n",
       "3  (0.0, 0.0, 0.0, 0.0, 0.0, 0.0, 0.0, 0.0, 0.0, ...   1.0   \n",
       "4  (0.0, 0.0, 0.0, 0.0, 0.0, 0.0, 0.0, 0.0, 0.0, ...   1.0   \n",
       "\n",
       "                                            features  \n",
       "0  (0.0, 0.0, 0.0, 0.0, 0.0, 0.0, 0.0, 0.0, 0.0, ...  \n",
       "1  (0.0, 0.0, 0.0, 0.0, 0.0, 0.0, 0.0, 0.0, 0.0, ...  \n",
       "2  (0.0, 0.0, 0.0, 0.0, 0.0, 0.0, 0.0, 0.0, 0.0, ...  \n",
       "3  (0.0, 0.0, 0.0, 0.0, 0.0, 0.0, 0.0, 0.0, 0.0, ...  \n",
       "4  (0.0, 0.0, 0.0, 0.0, 0.0, 0.0, 0.0, 0.0, 0.0, ...  \n",
       "\n",
       "[5 rows x 24 columns]"
      ]
     },
     "execution_count": 177,
     "metadata": {},
     "output_type": "execute_result"
    }
   ],
   "source": [
    "df_aux4.toPandas().head()"
   ]
  },
  {
   "cell_type": "code",
   "execution_count": 117,
   "metadata": {
    "ExecuteTime": {
     "end_time": "2021-02-03T10:30:36.819117Z",
     "start_time": "2021-02-03T10:30:36.804410Z"
    }
   },
   "outputs": [
    {
     "name": "stdout",
     "output_type": "stream",
     "text": [
      "root\n",
      " |-- Names: string (nullable = true)\n",
      " |-- Age: double (nullable = true)\n",
      " |-- Total_Purchase: double (nullable = true)\n",
      " |-- Account_Manager: integer (nullable = true)\n",
      " |-- Years: double (nullable = true)\n",
      " |-- Num_Sites: double (nullable = true)\n",
      " |-- Location: string (nullable = true)\n",
      " |-- Company: string (nullable = true)\n",
      " |-- Churn: integer (nullable = true)\n",
      " |-- year: integer (nullable = true)\n",
      " |-- month: integer (nullable = true)\n",
      " |-- day: integer (nullable = true)\n",
      " |-- weekday: integer (nullable = true)\n",
      " |-- hour: integer (nullable = true)\n",
      " |-- minute: integer (nullable = true)\n",
      " |-- Names_index: double (nullable = false)\n",
      " |-- Location_index: double (nullable = false)\n",
      " |-- Company_index: double (nullable = false)\n",
      " |-- Names_coded: vector (nullable = true)\n",
      " |-- Location_coded: vector (nullable = true)\n",
      " |-- Company_coded: vector (nullable = true)\n",
      " |-- vectorized_features: vector (nullable = true)\n",
      " |-- label: double (nullable = false)\n",
      " |-- features: vector (nullable = true)\n",
      "\n"
     ]
    }
   ],
   "source": [
    "df_aux4.printSchema()"
   ]
  },
  {
   "cell_type": "markdown",
   "metadata": {},
   "source": [
    "## Method 2: Pipeline transformations"
   ]
  },
  {
   "cell_type": "code",
   "execution_count": 118,
   "metadata": {
    "ExecuteTime": {
     "end_time": "2021-02-03T10:30:39.234472Z",
     "start_time": "2021-02-03T10:30:39.129195Z"
    }
   },
   "outputs": [],
   "source": [
    "categorical_features = [t[0] for t in df_data.dtypes if t[1] == 'string']\n",
    "\n",
    "stringIndexer1 = StringIndexer()\\\n",
    "                 .setInputCol (\"Names\")\\\n",
    "                 .setOutputCol (\"Names_index\")\n",
    "stringIndexer2 = StringIndexer()\\\n",
    "                 .setInputCol (\"Location\")\\\n",
    "                 .setOutputCol (\"Location_index\")\n",
    "stringIndexer3 = StringIndexer()\\\n",
    "                 .setInputCol (\"Company\")\\\n",
    "                 .setOutputCol (\"Company_index\")\n",
    "\n",
    "input_index_features = [c + '_index' for c in categorical_features]\n",
    "output_coded_features = [c + '_coded' for c in categorical_features]\n",
    "\n",
    "encoder = OneHotEncoderEstimator()\\\n",
    "         .setInputCols (input_index_features)\\\n",
    "         .setOutputCols (output_coded_features)\n",
    "\n",
    "numerical_features = [t[0] for t in df_data.dtypes if t[1] != 'string']\n",
    "numerical_features.remove('Churn')\n",
    "assemblerInputs = [c for c in output_coded_features] + numerical_features\n",
    "\n",
    "assembler = VectorAssembler()\\\n",
    "         .setInputCols (assemblerInputs)\\\n",
    "         .setOutputCol (\"vectorized_features\")\n",
    "\n",
    "label_indexer = StringIndexer()\\\n",
    "         .setInputCol (\"Churn\")\\\n",
    "         .setOutputCol (\"label\")\n",
    "\n",
    "scaler = StandardScaler()\\\n",
    "         .setInputCol (\"vectorized_features\")\\\n",
    "         .setOutputCol (\"features\")\n",
    "\n",
    "pipeline_stages = Pipeline().setStages([stringIndexer1,\n",
    "                                        stringIndexer2,\n",
    "                                        stringIndexer3,\n",
    "                                        encoder,\n",
    "                                        assembler,\n",
    "                                        label_indexer,\n",
    "                                        scaler])"
   ]
  },
  {
   "cell_type": "markdown",
   "metadata": {},
   "source": [
    "### Apply pipeline"
   ]
  },
  {
   "cell_type": "code",
   "execution_count": 119,
   "metadata": {
    "ExecuteTime": {
     "end_time": "2021-02-03T10:30:43.981158Z",
     "start_time": "2021-02-03T10:30:40.944681Z"
    }
   },
   "outputs": [],
   "source": [
    "pipeline_model = pipeline_stages.fit(df_data)\n",
    "df_aux5 = pipeline_model.transform(df_data)"
   ]
  },
  {
   "cell_type": "markdown",
   "metadata": {},
   "source": [
    "### compare method 1 with method 2"
   ]
  },
  {
   "cell_type": "code",
   "execution_count": 180,
   "metadata": {
    "ExecuteTime": {
     "end_time": "2021-02-03T10:55:52.714028Z",
     "start_time": "2021-02-03T10:55:51.854740Z"
    }
   },
   "outputs": [
    {
     "data": {
      "text/html": [
       "<div>\n",
       "<style scoped>\n",
       "    .dataframe tbody tr th:only-of-type {\n",
       "        vertical-align: middle;\n",
       "    }\n",
       "\n",
       "    .dataframe tbody tr th {\n",
       "        vertical-align: top;\n",
       "    }\n",
       "\n",
       "    .dataframe thead th {\n",
       "        text-align: right;\n",
       "    }\n",
       "</style>\n",
       "<table border=\"1\" class=\"dataframe\">\n",
       "  <thead>\n",
       "    <tr style=\"text-align: right;\">\n",
       "      <th></th>\n",
       "      <th>Names_coded</th>\n",
       "      <th>Location_coded</th>\n",
       "      <th>Company_coded</th>\n",
       "      <th>Names_index</th>\n",
       "      <th>Location_index</th>\n",
       "      <th>Company_index</th>\n",
       "      <th>features</th>\n",
       "      <th>label</th>\n",
       "    </tr>\n",
       "  </thead>\n",
       "  <tbody>\n",
       "    <tr>\n",
       "      <th>0</th>\n",
       "      <td>(0.0, 0.0, 0.0, 0.0, 0.0, 0.0, 0.0, 0.0, 0.0, ...</td>\n",
       "      <td>(0.0, 0.0, 0.0, 0.0, 0.0, 0.0, 0.0, 0.0, 0.0, ...</td>\n",
       "      <td>(0.0, 0.0, 0.0, 0.0, 0.0, 0.0, 0.0, 0.0, 0.0, ...</td>\n",
       "      <td>629.0</td>\n",
       "      <td>709.0</td>\n",
       "      <td>824.0</td>\n",
       "      <td>(0.0, 0.0, 0.0, 0.0, 0.0, 0.0, 0.0, 0.0, 0.0, ...</td>\n",
       "      <td>1.0</td>\n",
       "    </tr>\n",
       "    <tr>\n",
       "      <th>1</th>\n",
       "      <td>(0.0, 0.0, 0.0, 0.0, 0.0, 0.0, 0.0, 0.0, 0.0, ...</td>\n",
       "      <td>(0.0, 0.0, 0.0, 0.0, 0.0, 0.0, 0.0, 0.0, 0.0, ...</td>\n",
       "      <td>(0.0, 1.0, 0.0, 0.0, 0.0, 0.0, 0.0, 0.0, 0.0, ...</td>\n",
       "      <td>717.0</td>\n",
       "      <td>710.0</td>\n",
       "      <td>1.0</td>\n",
       "      <td>(0.0, 0.0, 0.0, 0.0, 0.0, 0.0, 0.0, 0.0, 0.0, ...</td>\n",
       "      <td>1.0</td>\n",
       "    </tr>\n",
       "    <tr>\n",
       "      <th>2</th>\n",
       "      <td>(0.0, 0.0, 0.0, 0.0, 0.0, 0.0, 0.0, 0.0, 0.0, ...</td>\n",
       "      <td>(0.0, 0.0, 0.0, 0.0, 0.0, 0.0, 0.0, 0.0, 0.0, ...</td>\n",
       "      <td>(0.0, 0.0, 0.0, 0.0, 0.0, 0.0, 0.0, 0.0, 0.0, ...</td>\n",
       "      <td>360.0</td>\n",
       "      <td>704.0</td>\n",
       "      <td>272.0</td>\n",
       "      <td>(0.0, 0.0, 0.0, 0.0, 0.0, 0.0, 0.0, 0.0, 0.0, ...</td>\n",
       "      <td>1.0</td>\n",
       "    </tr>\n",
       "    <tr>\n",
       "      <th>3</th>\n",
       "      <td>(0.0, 0.0, 0.0, 0.0, 0.0, 0.0, 0.0, 0.0, 0.0, ...</td>\n",
       "      <td>(0.0, 0.0, 0.0, 0.0, 0.0, 0.0, 0.0, 0.0, 0.0, ...</td>\n",
       "      <td>(0.0, 0.0, 0.0, 0.0, 0.0, 0.0, 0.0, 0.0, 0.0, ...</td>\n",
       "      <td>346.0</td>\n",
       "      <td>807.0</td>\n",
       "      <td>21.0</td>\n",
       "      <td>(0.0, 0.0, 0.0, 0.0, 0.0, 0.0, 0.0, 0.0, 0.0, ...</td>\n",
       "      <td>1.0</td>\n",
       "    </tr>\n",
       "    <tr>\n",
       "      <th>4</th>\n",
       "      <td>(0.0, 0.0, 0.0, 0.0, 0.0, 0.0, 0.0, 0.0, 0.0, ...</td>\n",
       "      <td>(0.0, 0.0, 0.0, 0.0, 0.0, 0.0, 0.0, 0.0, 0.0, ...</td>\n",
       "      <td>(0.0, 0.0, 0.0, 0.0, 0.0, 0.0, 0.0, 0.0, 0.0, ...</td>\n",
       "      <td>435.0</td>\n",
       "      <td>306.0</td>\n",
       "      <td>524.0</td>\n",
       "      <td>(0.0, 0.0, 0.0, 0.0, 0.0, 0.0, 0.0, 0.0, 0.0, ...</td>\n",
       "      <td>1.0</td>\n",
       "    </tr>\n",
       "  </tbody>\n",
       "</table>\n",
       "</div>"
      ],
      "text/plain": [
       "                                         Names_coded  \\\n",
       "0  (0.0, 0.0, 0.0, 0.0, 0.0, 0.0, 0.0, 0.0, 0.0, ...   \n",
       "1  (0.0, 0.0, 0.0, 0.0, 0.0, 0.0, 0.0, 0.0, 0.0, ...   \n",
       "2  (0.0, 0.0, 0.0, 0.0, 0.0, 0.0, 0.0, 0.0, 0.0, ...   \n",
       "3  (0.0, 0.0, 0.0, 0.0, 0.0, 0.0, 0.0, 0.0, 0.0, ...   \n",
       "4  (0.0, 0.0, 0.0, 0.0, 0.0, 0.0, 0.0, 0.0, 0.0, ...   \n",
       "\n",
       "                                      Location_coded  \\\n",
       "0  (0.0, 0.0, 0.0, 0.0, 0.0, 0.0, 0.0, 0.0, 0.0, ...   \n",
       "1  (0.0, 0.0, 0.0, 0.0, 0.0, 0.0, 0.0, 0.0, 0.0, ...   \n",
       "2  (0.0, 0.0, 0.0, 0.0, 0.0, 0.0, 0.0, 0.0, 0.0, ...   \n",
       "3  (0.0, 0.0, 0.0, 0.0, 0.0, 0.0, 0.0, 0.0, 0.0, ...   \n",
       "4  (0.0, 0.0, 0.0, 0.0, 0.0, 0.0, 0.0, 0.0, 0.0, ...   \n",
       "\n",
       "                                       Company_coded  Names_index  \\\n",
       "0  (0.0, 0.0, 0.0, 0.0, 0.0, 0.0, 0.0, 0.0, 0.0, ...        629.0   \n",
       "1  (0.0, 1.0, 0.0, 0.0, 0.0, 0.0, 0.0, 0.0, 0.0, ...        717.0   \n",
       "2  (0.0, 0.0, 0.0, 0.0, 0.0, 0.0, 0.0, 0.0, 0.0, ...        360.0   \n",
       "3  (0.0, 0.0, 0.0, 0.0, 0.0, 0.0, 0.0, 0.0, 0.0, ...        346.0   \n",
       "4  (0.0, 0.0, 0.0, 0.0, 0.0, 0.0, 0.0, 0.0, 0.0, ...        435.0   \n",
       "\n",
       "   Location_index  Company_index  \\\n",
       "0           709.0          824.0   \n",
       "1           710.0            1.0   \n",
       "2           704.0          272.0   \n",
       "3           807.0           21.0   \n",
       "4           306.0          524.0   \n",
       "\n",
       "                                            features  label  \n",
       "0  (0.0, 0.0, 0.0, 0.0, 0.0, 0.0, 0.0, 0.0, 0.0, ...    1.0  \n",
       "1  (0.0, 0.0, 0.0, 0.0, 0.0, 0.0, 0.0, 0.0, 0.0, ...    1.0  \n",
       "2  (0.0, 0.0, 0.0, 0.0, 0.0, 0.0, 0.0, 0.0, 0.0, ...    1.0  \n",
       "3  (0.0, 0.0, 0.0, 0.0, 0.0, 0.0, 0.0, 0.0, 0.0, ...    1.0  \n",
       "4  (0.0, 0.0, 0.0, 0.0, 0.0, 0.0, 0.0, 0.0, 0.0, ...    1.0  "
      ]
     },
     "execution_count": 180,
     "metadata": {},
     "output_type": "execute_result"
    }
   ],
   "source": [
    "df_aux4.select(output_coded_features + input_index_features + ['features','label']).toPandas().head()"
   ]
  },
  {
   "cell_type": "code",
   "execution_count": 181,
   "metadata": {
    "ExecuteTime": {
     "end_time": "2021-02-03T10:56:06.486185Z",
     "start_time": "2021-02-03T10:56:05.622715Z"
    }
   },
   "outputs": [
    {
     "data": {
      "text/html": [
       "<div>\n",
       "<style scoped>\n",
       "    .dataframe tbody tr th:only-of-type {\n",
       "        vertical-align: middle;\n",
       "    }\n",
       "\n",
       "    .dataframe tbody tr th {\n",
       "        vertical-align: top;\n",
       "    }\n",
       "\n",
       "    .dataframe thead th {\n",
       "        text-align: right;\n",
       "    }\n",
       "</style>\n",
       "<table border=\"1\" class=\"dataframe\">\n",
       "  <thead>\n",
       "    <tr style=\"text-align: right;\">\n",
       "      <th></th>\n",
       "      <th>Names_coded</th>\n",
       "      <th>Location_coded</th>\n",
       "      <th>Company_coded</th>\n",
       "      <th>Names_index</th>\n",
       "      <th>Location_index</th>\n",
       "      <th>Company_index</th>\n",
       "      <th>features</th>\n",
       "      <th>label</th>\n",
       "    </tr>\n",
       "  </thead>\n",
       "  <tbody>\n",
       "    <tr>\n",
       "      <th>0</th>\n",
       "      <td>(0.0, 0.0, 0.0, 0.0, 0.0, 0.0, 0.0, 0.0, 0.0, ...</td>\n",
       "      <td>(0.0, 0.0, 0.0, 0.0, 0.0, 0.0, 0.0, 0.0, 0.0, ...</td>\n",
       "      <td>(0.0, 0.0, 0.0, 0.0, 0.0, 0.0, 0.0, 0.0, 0.0, ...</td>\n",
       "      <td>629.0</td>\n",
       "      <td>709.0</td>\n",
       "      <td>824.0</td>\n",
       "      <td>(0.0, 0.0, 0.0, 0.0, 0.0, 0.0, 0.0, 0.0, 0.0, ...</td>\n",
       "      <td>1.0</td>\n",
       "    </tr>\n",
       "    <tr>\n",
       "      <th>1</th>\n",
       "      <td>(0.0, 0.0, 0.0, 0.0, 0.0, 0.0, 0.0, 0.0, 0.0, ...</td>\n",
       "      <td>(0.0, 0.0, 0.0, 0.0, 0.0, 0.0, 0.0, 0.0, 0.0, ...</td>\n",
       "      <td>(0.0, 1.0, 0.0, 0.0, 0.0, 0.0, 0.0, 0.0, 0.0, ...</td>\n",
       "      <td>717.0</td>\n",
       "      <td>710.0</td>\n",
       "      <td>1.0</td>\n",
       "      <td>(0.0, 0.0, 0.0, 0.0, 0.0, 0.0, 0.0, 0.0, 0.0, ...</td>\n",
       "      <td>1.0</td>\n",
       "    </tr>\n",
       "    <tr>\n",
       "      <th>2</th>\n",
       "      <td>(0.0, 0.0, 0.0, 0.0, 0.0, 0.0, 0.0, 0.0, 0.0, ...</td>\n",
       "      <td>(0.0, 0.0, 0.0, 0.0, 0.0, 0.0, 0.0, 0.0, 0.0, ...</td>\n",
       "      <td>(0.0, 0.0, 0.0, 0.0, 0.0, 0.0, 0.0, 0.0, 0.0, ...</td>\n",
       "      <td>360.0</td>\n",
       "      <td>704.0</td>\n",
       "      <td>272.0</td>\n",
       "      <td>(0.0, 0.0, 0.0, 0.0, 0.0, 0.0, 0.0, 0.0, 0.0, ...</td>\n",
       "      <td>1.0</td>\n",
       "    </tr>\n",
       "    <tr>\n",
       "      <th>3</th>\n",
       "      <td>(0.0, 0.0, 0.0, 0.0, 0.0, 0.0, 0.0, 0.0, 0.0, ...</td>\n",
       "      <td>(0.0, 0.0, 0.0, 0.0, 0.0, 0.0, 0.0, 0.0, 0.0, ...</td>\n",
       "      <td>(0.0, 0.0, 0.0, 0.0, 0.0, 0.0, 0.0, 0.0, 0.0, ...</td>\n",
       "      <td>346.0</td>\n",
       "      <td>807.0</td>\n",
       "      <td>21.0</td>\n",
       "      <td>(0.0, 0.0, 0.0, 0.0, 0.0, 0.0, 0.0, 0.0, 0.0, ...</td>\n",
       "      <td>1.0</td>\n",
       "    </tr>\n",
       "    <tr>\n",
       "      <th>4</th>\n",
       "      <td>(0.0, 0.0, 0.0, 0.0, 0.0, 0.0, 0.0, 0.0, 0.0, ...</td>\n",
       "      <td>(0.0, 0.0, 0.0, 0.0, 0.0, 0.0, 0.0, 0.0, 0.0, ...</td>\n",
       "      <td>(0.0, 0.0, 0.0, 0.0, 0.0, 0.0, 0.0, 0.0, 0.0, ...</td>\n",
       "      <td>435.0</td>\n",
       "      <td>306.0</td>\n",
       "      <td>524.0</td>\n",
       "      <td>(0.0, 0.0, 0.0, 0.0, 0.0, 0.0, 0.0, 0.0, 0.0, ...</td>\n",
       "      <td>1.0</td>\n",
       "    </tr>\n",
       "  </tbody>\n",
       "</table>\n",
       "</div>"
      ],
      "text/plain": [
       "                                         Names_coded  \\\n",
       "0  (0.0, 0.0, 0.0, 0.0, 0.0, 0.0, 0.0, 0.0, 0.0, ...   \n",
       "1  (0.0, 0.0, 0.0, 0.0, 0.0, 0.0, 0.0, 0.0, 0.0, ...   \n",
       "2  (0.0, 0.0, 0.0, 0.0, 0.0, 0.0, 0.0, 0.0, 0.0, ...   \n",
       "3  (0.0, 0.0, 0.0, 0.0, 0.0, 0.0, 0.0, 0.0, 0.0, ...   \n",
       "4  (0.0, 0.0, 0.0, 0.0, 0.0, 0.0, 0.0, 0.0, 0.0, ...   \n",
       "\n",
       "                                      Location_coded  \\\n",
       "0  (0.0, 0.0, 0.0, 0.0, 0.0, 0.0, 0.0, 0.0, 0.0, ...   \n",
       "1  (0.0, 0.0, 0.0, 0.0, 0.0, 0.0, 0.0, 0.0, 0.0, ...   \n",
       "2  (0.0, 0.0, 0.0, 0.0, 0.0, 0.0, 0.0, 0.0, 0.0, ...   \n",
       "3  (0.0, 0.0, 0.0, 0.0, 0.0, 0.0, 0.0, 0.0, 0.0, ...   \n",
       "4  (0.0, 0.0, 0.0, 0.0, 0.0, 0.0, 0.0, 0.0, 0.0, ...   \n",
       "\n",
       "                                       Company_coded  Names_index  \\\n",
       "0  (0.0, 0.0, 0.0, 0.0, 0.0, 0.0, 0.0, 0.0, 0.0, ...        629.0   \n",
       "1  (0.0, 1.0, 0.0, 0.0, 0.0, 0.0, 0.0, 0.0, 0.0, ...        717.0   \n",
       "2  (0.0, 0.0, 0.0, 0.0, 0.0, 0.0, 0.0, 0.0, 0.0, ...        360.0   \n",
       "3  (0.0, 0.0, 0.0, 0.0, 0.0, 0.0, 0.0, 0.0, 0.0, ...        346.0   \n",
       "4  (0.0, 0.0, 0.0, 0.0, 0.0, 0.0, 0.0, 0.0, 0.0, ...        435.0   \n",
       "\n",
       "   Location_index  Company_index  \\\n",
       "0           709.0          824.0   \n",
       "1           710.0            1.0   \n",
       "2           704.0          272.0   \n",
       "3           807.0           21.0   \n",
       "4           306.0          524.0   \n",
       "\n",
       "                                            features  label  \n",
       "0  (0.0, 0.0, 0.0, 0.0, 0.0, 0.0, 0.0, 0.0, 0.0, ...    1.0  \n",
       "1  (0.0, 0.0, 0.0, 0.0, 0.0, 0.0, 0.0, 0.0, 0.0, ...    1.0  \n",
       "2  (0.0, 0.0, 0.0, 0.0, 0.0, 0.0, 0.0, 0.0, 0.0, ...    1.0  \n",
       "3  (0.0, 0.0, 0.0, 0.0, 0.0, 0.0, 0.0, 0.0, 0.0, ...    1.0  \n",
       "4  (0.0, 0.0, 0.0, 0.0, 0.0, 0.0, 0.0, 0.0, 0.0, ...    1.0  "
      ]
     },
     "execution_count": 181,
     "metadata": {},
     "output_type": "execute_result"
    }
   ],
   "source": [
    "df_aux5.select(output_coded_features + input_index_features + ['features','label']).toPandas().head()"
   ]
  },
  {
   "cell_type": "markdown",
   "metadata": {
    "ExecuteTime": {
     "end_time": "2021-02-01T14:12:03.050436Z",
     "start_time": "2021-02-01T14:12:03.047049Z"
    }
   },
   "source": [
    "## features/target split\n",
    "Realice la separación en los conjuntos de entrenamiento y prueba con una proporción 70-30. Muestre los primeros 5 elementos de cada conjunto de datos."
   ]
  },
  {
   "cell_type": "code",
   "execution_count": 121,
   "metadata": {
    "ExecuteTime": {
     "end_time": "2021-02-03T10:30:51.867411Z",
     "start_time": "2021-02-03T10:30:51.840703Z"
    }
   },
   "outputs": [],
   "source": [
    "df_T = df_aux5.select('features', 'label')"
   ]
  },
  {
   "cell_type": "code",
   "execution_count": 122,
   "metadata": {
    "ExecuteTime": {
     "end_time": "2021-02-03T10:30:52.980955Z",
     "start_time": "2021-02-03T10:30:52.579585Z"
    }
   },
   "outputs": [
    {
     "name": "stdout",
     "output_type": "stream",
     "text": [
      "+-----+\n",
      "|label|\n",
      "+-----+\n",
      "|  1.0|\n",
      "|  1.0|\n",
      "|  1.0|\n",
      "|  1.0|\n",
      "|  1.0|\n",
      "+-----+\n",
      "only showing top 5 rows\n",
      "\n"
     ]
    }
   ],
   "source": [
    "y = df_T.select('label')\n",
    "y.show(5)"
   ]
  },
  {
   "cell_type": "code",
   "execution_count": 123,
   "metadata": {
    "ExecuteTime": {
     "end_time": "2021-02-03T10:30:54.433856Z",
     "start_time": "2021-02-03T10:30:53.481415Z"
    }
   },
   "outputs": [
    {
     "data": {
      "text/html": [
       "<div>\n",
       "<style scoped>\n",
       "    .dataframe tbody tr th:only-of-type {\n",
       "        vertical-align: middle;\n",
       "    }\n",
       "\n",
       "    .dataframe tbody tr th {\n",
       "        vertical-align: top;\n",
       "    }\n",
       "\n",
       "    .dataframe thead th {\n",
       "        text-align: right;\n",
       "    }\n",
       "</style>\n",
       "<table border=\"1\" class=\"dataframe\">\n",
       "  <thead>\n",
       "    <tr style=\"text-align: right;\">\n",
       "      <th></th>\n",
       "      <th>features</th>\n",
       "    </tr>\n",
       "  </thead>\n",
       "  <tbody>\n",
       "    <tr>\n",
       "      <th>0</th>\n",
       "      <td>(0.0, 0.0, 0.0, 0.0, 0.0, 0.0, 0.0, 0.0, 0.0, ...</td>\n",
       "    </tr>\n",
       "    <tr>\n",
       "      <th>1</th>\n",
       "      <td>(0.0, 0.0, 0.0, 0.0, 0.0, 0.0, 0.0, 0.0, 0.0, ...</td>\n",
       "    </tr>\n",
       "    <tr>\n",
       "      <th>2</th>\n",
       "      <td>(0.0, 0.0, 0.0, 0.0, 0.0, 0.0, 0.0, 0.0, 0.0, ...</td>\n",
       "    </tr>\n",
       "    <tr>\n",
       "      <th>3</th>\n",
       "      <td>(0.0, 0.0, 0.0, 0.0, 0.0, 0.0, 0.0, 0.0, 0.0, ...</td>\n",
       "    </tr>\n",
       "    <tr>\n",
       "      <th>4</th>\n",
       "      <td>(0.0, 0.0, 0.0, 0.0, 0.0, 0.0, 0.0, 0.0, 0.0, ...</td>\n",
       "    </tr>\n",
       "  </tbody>\n",
       "</table>\n",
       "</div>"
      ],
      "text/plain": [
       "                                            features\n",
       "0  (0.0, 0.0, 0.0, 0.0, 0.0, 0.0, 0.0, 0.0, 0.0, ...\n",
       "1  (0.0, 0.0, 0.0, 0.0, 0.0, 0.0, 0.0, 0.0, 0.0, ...\n",
       "2  (0.0, 0.0, 0.0, 0.0, 0.0, 0.0, 0.0, 0.0, 0.0, ...\n",
       "3  (0.0, 0.0, 0.0, 0.0, 0.0, 0.0, 0.0, 0.0, 0.0, ...\n",
       "4  (0.0, 0.0, 0.0, 0.0, 0.0, 0.0, 0.0, 0.0, 0.0, ..."
      ]
     },
     "execution_count": 123,
     "metadata": {},
     "output_type": "execute_result"
    }
   ],
   "source": [
    "X = df_T.select('features')\n",
    "X.toPandas().head()"
   ]
  },
  {
   "cell_type": "markdown",
   "metadata": {
    "id": "4pQhPBPDiqtO"
   },
   "source": [
    "## Train-test split \n",
    "\n",
    "\n",
    "Separar features y target \n",
    "Obtenga el conjunto de datos con el vector de variables independientes y la variable dependiente (churn). Por simplicidad, es suficiente que seleccione únicamente las variables numéricas. Muestre los primeros 5 elementos."
   ]
  },
  {
   "cell_type": "code",
   "execution_count": 182,
   "metadata": {
    "ExecuteTime": {
     "end_time": "2021-02-03T10:56:36.410032Z",
     "start_time": "2021-02-03T10:56:35.892353Z"
    }
   },
   "outputs": [
    {
     "name": "stdout",
     "output_type": "stream",
     "text": [
      "Training Dataset Count:636 \n",
      "Test Dataset Count:264 \n"
     ]
    }
   ],
   "source": [
    "train, test = df_T.randomSplit([0.7, 0.3], seed = 2018)\n",
    "print(\"Training Dataset Count:{} \".format(str(train.count())))\n",
    "print(\"Test Dataset Count:{} \".format(str(test.count())))"
   ]
  },
  {
   "cell_type": "code",
   "execution_count": 128,
   "metadata": {
    "ExecuteTime": {
     "end_time": "2021-02-03T10:47:42.300099Z",
     "start_time": "2021-02-03T10:47:40.237874Z"
    }
   },
   "outputs": [
    {
     "name": "stdout",
     "output_type": "stream",
     "text": [
      "+-----+-----+\n",
      "|label|count|\n",
      "+-----+-----+\n",
      "|  0.0|  531|\n",
      "|  1.0|  105|\n",
      "+-----+-----+\n",
      "\n"
     ]
    }
   ],
   "source": [
    "train.groupby(\"label\").count().show()"
   ]
  },
  {
   "cell_type": "code",
   "execution_count": 129,
   "metadata": {
    "ExecuteTime": {
     "end_time": "2021-02-03T10:47:45.410971Z",
     "start_time": "2021-02-03T10:47:43.945801Z"
    }
   },
   "outputs": [
    {
     "name": "stdout",
     "output_type": "stream",
     "text": [
      "+-----+-----+\n",
      "|label|count|\n",
      "+-----+-----+\n",
      "|  0.0|  219|\n",
      "|  1.0|   45|\n",
      "+-----+-----+\n",
      "\n"
     ]
    }
   ],
   "source": [
    "test.groupby(\"label\").count().show()"
   ]
  },
  {
   "cell_type": "markdown",
   "metadata": {
    "id": "u-HKMGZ1iqtP"
   },
   "source": [
    "## Model training \n",
    "Ajuste un modelo de regresión logística \n",
    "con los hiperparámetros por defecto. Muestre los estadísticos descriptivos de las predicciones contenidas en el resumen del modelo."
   ]
  },
  {
   "cell_type": "markdown",
   "metadata": {},
   "source": [
    "### Instantite model"
   ]
  },
  {
   "cell_type": "code",
   "execution_count": 183,
   "metadata": {
    "ExecuteTime": {
     "end_time": "2021-02-03T10:57:35.532460Z",
     "start_time": "2021-02-03T10:57:35.521947Z"
    }
   },
   "outputs": [],
   "source": [
    "lr = LogisticRegression(featuresCol = 'features',\n",
    "                        labelCol = 'label',\n",
    "                        maxIter=10)"
   ]
  },
  {
   "cell_type": "markdown",
   "metadata": {},
   "source": [
    "### fit model"
   ]
  },
  {
   "cell_type": "code",
   "execution_count": 184,
   "metadata": {
    "ExecuteTime": {
     "end_time": "2021-02-03T10:57:38.308879Z",
     "start_time": "2021-02-03T10:57:37.088089Z"
    }
   },
   "outputs": [],
   "source": [
    "lrModel = lr.fit(train)"
   ]
  },
  {
   "cell_type": "code",
   "execution_count": 138,
   "metadata": {
    "ExecuteTime": {
     "end_time": "2021-02-03T10:48:15.876174Z",
     "start_time": "2021-02-03T10:48:15.780123Z"
    }
   },
   "outputs": [],
   "source": [
    "trainingSummary = lrModel.summary\n",
    "pr = trainingSummary.pr.toPandas()\n",
    "tp = trainingSummary.precisionByThreshold.toPandas()\n",
    "fm = trainingSummary.fMeasureByThreshold.toPandas()"
   ]
  },
  {
   "cell_type": "markdown",
   "metadata": {
    "ExecuteTime": {
     "end_time": "2021-02-03T11:10:01.150300Z",
     "start_time": "2021-02-03T11:10:01.145055Z"
    }
   },
   "source": [
    "<img src=\"images/Precisionrecall.png\">"
   ]
  },
  {
   "cell_type": "markdown",
   "metadata": {},
   "source": [
    "__Precision__\n",
    "\n",
    "precision is the number of correctly identified positive results divided by the number of all positive results, including those not identified correctly, and the  Precision is also known as positive predictive value. Indicate how many items selected are relevant\n",
    "\n",
    "$$\n",
    "Precision = \\frac{TP}{TP + FP}\n",
    "$$\n",
    "\n",
    "TP: True Positive\n",
    "FP: False Positive"
   ]
  },
  {
   "cell_type": "markdown",
   "metadata": {},
   "source": [
    "<img src=\"images/Precision.png\">"
   ]
  },
  {
   "cell_type": "code",
   "execution_count": 139,
   "metadata": {
    "ExecuteTime": {
     "end_time": "2021-02-03T10:48:18.384847Z",
     "start_time": "2021-02-03T10:48:18.152183Z"
    }
   },
   "outputs": [
    {
     "data": {
      "image/png": "[encoded data removed]",
      "text/plain": [
       "<Figure size 432x288 with 1 Axes>"
      ]
     },
     "metadata": {
      "needs_background": "light"
     },
     "output_type": "display_data"
    }
   ],
   "source": [
    "plt.plot(tp['threshold'], tp['precision'])\n",
    "plt.xlabel('Threshold')\n",
    "plt.ylabel('Precision')\n",
    "plt.show()"
   ]
  },
  {
   "cell_type": "code",
   "execution_count": 140,
   "metadata": {
    "ExecuteTime": {
     "end_time": "2021-02-03T10:48:20.167927Z",
     "start_time": "2021-02-03T10:48:19.943643Z"
    }
   },
   "outputs": [
    {
     "data": {
      "image/png": "[encoded data removed]",
      "text/plain": [
       "<Figure size 432x288 with 1 Axes>"
      ]
     },
     "metadata": {
      "needs_background": "light"
     },
     "output_type": "display_data"
    }
   ],
   "source": [
    "plt.plot(pr['recall'], pr['precision'])\n",
    "plt.xlabel('recall')\n",
    "plt.ylabel('Precision')\n",
    "plt.show()"
   ]
  },
  {
   "cell_type": "markdown",
   "metadata": {},
   "source": [
    "__Recall__\n",
    "\n",
    "recall is the number of correctly identified positive results divided by the number of all samples that should have been identified as positive.\n",
    "recall is also known as sensitivity in diagnostic binary classification. Indicate how many relevant items selected are selected\n",
    "\n",
    "$$\n",
    "Recall = \\frac{TP}{TP + FN}\n",
    "$$\n",
    "\n",
    "TP: True Positive\n",
    "FN: False Negative"
   ]
  },
  {
   "cell_type": "markdown",
   "metadata": {},
   "source": [
    "<img src=\"images/recall.png\">"
   ]
  },
  {
   "cell_type": "code",
   "execution_count": 148,
   "metadata": {
    "ExecuteTime": {
     "end_time": "2021-02-03T10:49:57.941976Z",
     "start_time": "2021-02-03T10:49:57.938702Z"
    }
   },
   "outputs": [],
   "source": [
    "# Plot the threshold-recall curve\n",
    "#plt.plot(tp['threshold'], pr['recall'])\n",
    "#plt.xlabel('Threshold')\n",
    "#plt.ylabel('Recall')\n",
    "#plt.show()"
   ]
  },
  {
   "cell_type": "code",
   "execution_count": 149,
   "metadata": {
    "ExecuteTime": {
     "end_time": "2021-02-03T10:49:59.186433Z",
     "start_time": "2021-02-03T10:49:58.960167Z"
    }
   },
   "outputs": [
    {
     "data": {
      "image/png": "[encoded data removed]",
      "text/plain": [
       "<Figure size 432x288 with 1 Axes>"
      ]
     },
     "metadata": {
      "needs_background": "light"
     },
     "output_type": "display_data"
    }
   ],
   "source": [
    "# Plot the recall-precision curve\n",
    "plt.plot(pr['recall'], pr['precision'])\n",
    "plt.xlabel('Recall')\n",
    "plt.ylabel('Precision')\n",
    "plt.show()"
   ]
  },
  {
   "cell_type": "markdown",
   "metadata": {},
   "source": [
    "__F-score ($F_1$)__\n",
    "\n",
    "It measure of a test's accuracy. It is calculated from the precision and recall\n",
    "\n",
    "$$\n",
    "F_1 =2 \\cdot \\frac{precision \\cdot recall}{precision + recall}\n",
    "$$"
   ]
  },
  {
   "cell_type": "code",
   "execution_count": 150,
   "metadata": {
    "ExecuteTime": {
     "end_time": "2021-02-03T10:50:01.362771Z",
     "start_time": "2021-02-03T10:50:01.133274Z"
    }
   },
   "outputs": [
    {
     "data": {
      "image/png": "[encoded data removed]",
      "text/plain": [
       "<Figure size 432x288 with 1 Axes>"
      ]
     },
     "metadata": {
      "needs_background": "light"
     },
     "output_type": "display_data"
    }
   ],
   "source": [
    "# Plot the threshold-F-Measure curve \n",
    "plt.plot(fm['threshold'], fm['F-Measure'])\n",
    "plt.xlabel('Threshold')\n",
    "plt.ylabel('F-1 Score')\n",
    "plt.show()"
   ]
  },
  {
   "cell_type": "markdown",
   "metadata": {},
   "source": [
    "### Get predictions\n",
    "Evalúe los resultados en el conjunto de prueba. Muestre las primeras 5 predicciones."
   ]
  },
  {
   "cell_type": "code",
   "execution_count": 151,
   "metadata": {
    "ExecuteTime": {
     "end_time": "2021-02-03T10:50:03.458312Z",
     "start_time": "2021-02-03T10:50:03.392902Z"
    }
   },
   "outputs": [],
   "source": [
    "predictions = lrModel.transform(test)"
   ]
  },
  {
   "cell_type": "code",
   "execution_count": 152,
   "metadata": {
    "ExecuteTime": {
     "end_time": "2021-02-03T10:50:05.101098Z",
     "start_time": "2021-02-03T10:50:04.583829Z"
    }
   },
   "outputs": [
    {
     "data": {
      "text/html": [
       "<div>\n",
       "<style scoped>\n",
       "    .dataframe tbody tr th:only-of-type {\n",
       "        vertical-align: middle;\n",
       "    }\n",
       "\n",
       "    .dataframe tbody tr th {\n",
       "        vertical-align: top;\n",
       "    }\n",
       "\n",
       "    .dataframe thead th {\n",
       "        text-align: right;\n",
       "    }\n",
       "</style>\n",
       "<table border=\"1\" class=\"dataframe\">\n",
       "  <thead>\n",
       "    <tr style=\"text-align: right;\">\n",
       "      <th></th>\n",
       "      <th>label</th>\n",
       "      <th>features</th>\n",
       "      <th>rawPrediction</th>\n",
       "      <th>prediction</th>\n",
       "      <th>probability</th>\n",
       "    </tr>\n",
       "  </thead>\n",
       "  <tbody>\n",
       "    <tr>\n",
       "      <th>0</th>\n",
       "      <td>0.0</td>\n",
       "      <td>(0.0, 0.0, 30.0, 0.0, 0.0, 0.0, 0.0, 0.0, 0.0,...</td>\n",
       "      <td>[2.0852919159828036, -2.0852919159828036]</td>\n",
       "      <td>0.0</td>\n",
       "      <td>[0.8894653903657646, 0.11053460963423536]</td>\n",
       "    </tr>\n",
       "    <tr>\n",
       "      <th>1</th>\n",
       "      <td>0.0</td>\n",
       "      <td>(0.0, 0.0, 0.0, 30.0, 0.0, 0.0, 0.0, 0.0, 0.0,...</td>\n",
       "      <td>[2.3314620522177885, -2.3314620522177885]</td>\n",
       "      <td>0.0</td>\n",
       "      <td>[0.9114494090854199, 0.08855059091458001]</td>\n",
       "    </tr>\n",
       "    <tr>\n",
       "      <th>2</th>\n",
       "      <td>1.0</td>\n",
       "      <td>(0.0, 0.0, 0.0, 0.0, 0.0, 0.0, 0.0, 0.0, 0.0, ...</td>\n",
       "      <td>[2.325136849652714, -2.325136849652714]</td>\n",
       "      <td>0.0</td>\n",
       "      <td>[0.910937575543443, 0.08906242445655707]</td>\n",
       "    </tr>\n",
       "    <tr>\n",
       "      <th>3</th>\n",
       "      <td>0.0</td>\n",
       "      <td>(0.0, 0.0, 0.0, 0.0, 0.0, 0.0, 0.0, 0.0, 0.0, ...</td>\n",
       "      <td>[3.1368591705218307, -3.1368591705218307]</td>\n",
       "      <td>0.0</td>\n",
       "      <td>[0.9583878026438415, 0.04161219735615841]</td>\n",
       "    </tr>\n",
       "    <tr>\n",
       "      <th>4</th>\n",
       "      <td>0.0</td>\n",
       "      <td>(0.0, 0.0, 0.0, 0.0, 0.0, 0.0, 0.0, 0.0, 0.0, ...</td>\n",
       "      <td>[2.795978601318186, -2.795978601318186]</td>\n",
       "      <td>0.0</td>\n",
       "      <td>[0.942458128053784, 0.05754187194621599]</td>\n",
       "    </tr>\n",
       "  </tbody>\n",
       "</table>\n",
       "</div>"
      ],
      "text/plain": [
       "   label                                           features  \\\n",
       "0    0.0  (0.0, 0.0, 30.0, 0.0, 0.0, 0.0, 0.0, 0.0, 0.0,...   \n",
       "1    0.0  (0.0, 0.0, 0.0, 30.0, 0.0, 0.0, 0.0, 0.0, 0.0,...   \n",
       "2    1.0  (0.0, 0.0, 0.0, 0.0, 0.0, 0.0, 0.0, 0.0, 0.0, ...   \n",
       "3    0.0  (0.0, 0.0, 0.0, 0.0, 0.0, 0.0, 0.0, 0.0, 0.0, ...   \n",
       "4    0.0  (0.0, 0.0, 0.0, 0.0, 0.0, 0.0, 0.0, 0.0, 0.0, ...   \n",
       "\n",
       "                               rawPrediction  prediction  \\\n",
       "0  [2.0852919159828036, -2.0852919159828036]         0.0   \n",
       "1  [2.3314620522177885, -2.3314620522177885]         0.0   \n",
       "2    [2.325136849652714, -2.325136849652714]         0.0   \n",
       "3  [3.1368591705218307, -3.1368591705218307]         0.0   \n",
       "4    [2.795978601318186, -2.795978601318186]         0.0   \n",
       "\n",
       "                                 probability  \n",
       "0  [0.8894653903657646, 0.11053460963423536]  \n",
       "1  [0.9114494090854199, 0.08855059091458001]  \n",
       "2   [0.910937575543443, 0.08906242445655707]  \n",
       "3  [0.9583878026438415, 0.04161219735615841]  \n",
       "4   [0.942458128053784, 0.05754187194621599]  "
      ]
     },
     "execution_count": 152,
     "metadata": {},
     "output_type": "execute_result"
    }
   ],
   "source": [
    "#predictions_train = lrModel.transform(train)\n",
    "predictions.select('label', 'features',  'rawPrediction', 'prediction', 'probability').toPandas().head(5)"
   ]
  },
  {
   "cell_type": "markdown",
   "metadata": {},
   "source": [
    "## Model evaluation"
   ]
  },
  {
   "cell_type": "code",
   "execution_count": 153,
   "metadata": {
    "ExecuteTime": {
     "end_time": "2021-02-03T10:50:09.499646Z",
     "start_time": "2021-02-03T10:50:09.487232Z"
    }
   },
   "outputs": [],
   "source": [
    "def plot_confusion_matrix(cm,\n",
    "                          classes,\n",
    "                          normalize=False,\n",
    "                          title='Confusion matrix',\n",
    "                          cmap=plt.cm.Blues):\n",
    "    \"\"\"\n",
    "    This function prints and plots the confusion matrix.\n",
    "    Normalization can be applied by setting `normalize=True`.\n",
    "    \"\"\"\n",
    "    if normalize:\n",
    "        cm = cm.astype('float') / cm.sum(axis=1)[:, np.newaxis]\n",
    "        print(\"Normalized confusion matrix\")\n",
    "    else:\n",
    "        print('Confusion matrix, without normalization')\n",
    "\n",
    "    print(cm)\n",
    "\n",
    "    plt.imshow(cm, interpolation='nearest', cmap=cmap)\n",
    "    plt.title(title)\n",
    "    plt.colorbar()\n",
    "    tick_marks = np.arange(len(classes))\n",
    "    plt.xticks(tick_marks, classes, rotation=45)\n",
    "    plt.yticks(tick_marks, classes)\n",
    "\n",
    "    fmt = '.2f' if normalize else 'd'\n",
    "    thresh = cm.max() / 2.\n",
    "    for i, j in itertools.product(range(cm.shape[0]), range(cm.shape[1])):\n",
    "        plt.text(j, i, format(cm[i, j], fmt),\n",
    "                 horizontalalignment=\"center\",\n",
    "                 color=\"white\" if cm[i, j] > thresh else \"black\")\n",
    "\n",
    "    plt.tight_layout()\n",
    "    plt.ylabel('True label')\n",
    "    plt.xlabel('Predicted label')"
   ]
  },
  {
   "cell_type": "markdown",
   "metadata": {},
   "source": [
    "### Plot confusion matrix"
   ]
  },
  {
   "cell_type": "code",
   "execution_count": 154,
   "metadata": {
    "ExecuteTime": {
     "end_time": "2021-02-03T10:50:11.838105Z",
     "start_time": "2021-02-03T10:50:10.903565Z"
    }
   },
   "outputs": [
    {
     "name": "stdout",
     "output_type": "stream",
     "text": [
      "Confusion matrix, without normalization\n",
      "[[  0  45]\n",
      " [  0 219]]\n"
     ]
    },
    {
     "data": {
      "image/png": "[encoded data removed]",
      "text/plain": [
       "<Figure size 432x288 with 2 Axes>"
      ]
     },
     "metadata": {
      "needs_background": "light"
     },
     "output_type": "display_data"
    }
   ],
   "source": [
    "y_true = predictions.select(\"label\")\n",
    "y_true = y_true.toPandas()\n",
    "\n",
    "y_pred = predictions.select(\"prediction\")\n",
    "y_pred = y_pred.toPandas()\n",
    "\n",
    "class_names = [1.0,0.0]\n",
    "\n",
    "cnf_matrix = confusion_matrix(y_true, y_pred, labels=class_names)\n",
    "\n",
    "#cnf_matrix\n",
    "plt.figure()\n",
    "plot_confusion_matrix(cnf_matrix,\n",
    "                      classes=class_names,\n",
    "                      title='Confusion matrix')\n",
    "plt.show()"
   ]
  },
  {
   "cell_type": "markdown",
   "metadata": {},
   "source": [
    "### Accuracy"
   ]
  },
  {
   "cell_type": "code",
   "execution_count": 155,
   "metadata": {
    "ExecuteTime": {
     "end_time": "2021-02-03T10:50:14.573800Z",
     "start_time": "2021-02-03T10:50:13.995758Z"
    }
   },
   "outputs": [
    {
     "name": "stdout",
     "output_type": "stream",
     "text": [
      "Accuracy : 82.95 % \n"
     ]
    }
   ],
   "source": [
    "accuracy = predictions.filter(predictions.label == predictions.prediction).count() / float(predictions.count())\n",
    "print(\"Accuracy : {} % \".format(round(100*accuracy,2)))"
   ]
  },
  {
   "cell_type": "markdown",
   "metadata": {},
   "source": [
    "### ROC curve\n",
    "Para evaluar el desempeño del modelo, obtenga el valor del indicador auROC (área debajo de la curva ROC)."
   ]
  },
  {
   "cell_type": "code",
   "execution_count": 156,
   "metadata": {
    "ExecuteTime": {
     "end_time": "2021-02-03T10:50:16.345675Z",
     "start_time": "2021-02-03T10:50:15.446860Z"
    }
   },
   "outputs": [
    {
     "name": "stdout",
     "output_type": "stream",
     "text": [
      "Train Area Under ROC: 0.9999192897497983\n",
      "Test Area Under ROC 0.926128868594622\n"
     ]
    },
    {
     "data": {
      "image/png": "[encoded data removed]",
      "text/plain": [
       "<Figure size 432x288 with 1 Axes>"
      ]
     },
     "metadata": {
      "needs_background": "light"
     },
     "output_type": "display_data"
    }
   ],
   "source": [
    "trainingSummary = lrModel.summary\n",
    "roc = trainingSummary.roc.toPandas()\n",
    "\n",
    "print('Train Area Under ROC: ' + str(trainingSummary.areaUnderROC))\n",
    "evaluator = BinaryClassificationEvaluator()\n",
    "print('Test Area Under ROC', evaluator.evaluate(predictions))\n",
    "\n",
    "plt.plot(roc['FPR'], roc['TPR'])\n",
    "plt.ylabel('False Positive Rate')\n",
    "plt.xlabel('True Positive Rate')\n",
    "plt.title('ROC Curve')\n",
    "plt.grid()\n",
    "plt.show()"
   ]
  },
  {
   "cell_type": "markdown",
   "metadata": {
    "id": "Iuq2Tg6LiqtQ"
   },
   "source": [
    "## Inference\n",
    "Repeat with new data\n",
    "Cargue los datos del archivo 'data_new.csv' y obtenga las predicciones sobre ese conjunto de datos utilizando los objetos construidos previamente. Muestre los primeros 5 elementos."
   ]
  },
  {
   "cell_type": "code",
   "execution_count": 225,
   "metadata": {
    "ExecuteTime": {
     "end_time": "2021-02-03T11:18:49.832726Z",
     "start_time": "2021-02-03T11:18:49.661616Z"
    }
   },
   "outputs": [],
   "source": [
    "df_data_new = spark.read.csv(path='data_new.csv', sep=',',encoding='UTF-8',comment=None, header=True, inferSchema=True)"
   ]
  },
  {
   "cell_type": "code",
   "execution_count": 226,
   "metadata": {
    "ExecuteTime": {
     "end_time": "2021-02-03T11:18:50.792852Z",
     "start_time": "2021-02-03T11:18:50.715114Z"
    }
   },
   "outputs": [
    {
     "data": {
      "text/html": [
       "<div>\n",
       "<style scoped>\n",
       "    .dataframe tbody tr th:only-of-type {\n",
       "        vertical-align: middle;\n",
       "    }\n",
       "\n",
       "    .dataframe tbody tr th {\n",
       "        vertical-align: top;\n",
       "    }\n",
       "\n",
       "    .dataframe thead th {\n",
       "        text-align: right;\n",
       "    }\n",
       "</style>\n",
       "<table border=\"1\" class=\"dataframe\">\n",
       "  <thead>\n",
       "    <tr style=\"text-align: right;\">\n",
       "      <th></th>\n",
       "      <th>Names</th>\n",
       "      <th>Age</th>\n",
       "      <th>Total_Purchase</th>\n",
       "      <th>Account_Manager</th>\n",
       "      <th>Years</th>\n",
       "      <th>Num_Sites</th>\n",
       "      <th>Onboard_date</th>\n",
       "      <th>Location</th>\n",
       "      <th>Company</th>\n",
       "    </tr>\n",
       "  </thead>\n",
       "  <tbody>\n",
       "    <tr>\n",
       "      <th>0</th>\n",
       "      <td>Andrew Mccall</td>\n",
       "      <td>37.0</td>\n",
       "      <td>9935.53</td>\n",
       "      <td>1</td>\n",
       "      <td>7.71</td>\n",
       "      <td>8.0</td>\n",
       "      <td>2011-08-29 18:37:54</td>\n",
       "      <td>38612 Johnny Stravenue Nataliebury, WI 15717-8316</td>\n",
       "      <td>King Ltd</td>\n",
       "    </tr>\n",
       "    <tr>\n",
       "      <th>1</th>\n",
       "      <td>Michele Wright</td>\n",
       "      <td>23.0</td>\n",
       "      <td>7526.94</td>\n",
       "      <td>1</td>\n",
       "      <td>9.28</td>\n",
       "      <td>15.0</td>\n",
       "      <td>2013-07-22 18:19:54</td>\n",
       "      <td>21083 Nicole Junction Suite 332, Youngport, ME...</td>\n",
       "      <td>Cannon-Benson</td>\n",
       "    </tr>\n",
       "    <tr>\n",
       "      <th>2</th>\n",
       "      <td>Jeremy Chang</td>\n",
       "      <td>65.0</td>\n",
       "      <td>100.00</td>\n",
       "      <td>1</td>\n",
       "      <td>1.00</td>\n",
       "      <td>15.0</td>\n",
       "      <td>2006-12-11 07:48:13</td>\n",
       "      <td>085 Austin Views Lake Julialand, WY 63726-4298</td>\n",
       "      <td>Barron-Robertson</td>\n",
       "    </tr>\n",
       "    <tr>\n",
       "      <th>3</th>\n",
       "      <td>Megan Ferguson</td>\n",
       "      <td>32.0</td>\n",
       "      <td>6487.50</td>\n",
       "      <td>0</td>\n",
       "      <td>9.40</td>\n",
       "      <td>14.0</td>\n",
       "      <td>2016-10-28 05:32:13</td>\n",
       "      <td>922 Wright Branch North Cynthialand, NC 64721</td>\n",
       "      <td>Sexton-Golden</td>\n",
       "    </tr>\n",
       "    <tr>\n",
       "      <th>4</th>\n",
       "      <td>Taylor Young</td>\n",
       "      <td>32.0</td>\n",
       "      <td>13147.71</td>\n",
       "      <td>1</td>\n",
       "      <td>10.00</td>\n",
       "      <td>8.0</td>\n",
       "      <td>2012-03-20 00:36:46</td>\n",
       "      <td>Unit 0789 Box 0734 DPO AP 39702</td>\n",
       "      <td>Wood LLC</td>\n",
       "    </tr>\n",
       "  </tbody>\n",
       "</table>\n",
       "</div>"
      ],
      "text/plain": [
       "            Names   Age  Total_Purchase  Account_Manager  Years  Num_Sites  \\\n",
       "0   Andrew Mccall  37.0         9935.53                1   7.71        8.0   \n",
       "1  Michele Wright  23.0         7526.94                1   9.28       15.0   \n",
       "2    Jeremy Chang  65.0          100.00                1   1.00       15.0   \n",
       "3  Megan Ferguson  32.0         6487.50                0   9.40       14.0   \n",
       "4    Taylor Young  32.0        13147.71                1  10.00        8.0   \n",
       "\n",
       "         Onboard_date                                           Location  \\\n",
       "0 2011-08-29 18:37:54  38612 Johnny Stravenue Nataliebury, WI 15717-8316   \n",
       "1 2013-07-22 18:19:54  21083 Nicole Junction Suite 332, Youngport, ME...   \n",
       "2 2006-12-11 07:48:13     085 Austin Views Lake Julialand, WY 63726-4298   \n",
       "3 2016-10-28 05:32:13      922 Wright Branch North Cynthialand, NC 64721   \n",
       "4 2012-03-20 00:36:46                    Unit 0789 Box 0734 DPO AP 39702   \n",
       "\n",
       "            Company  \n",
       "0          King Ltd  \n",
       "1     Cannon-Benson  \n",
       "2  Barron-Robertson  \n",
       "3     Sexton-Golden  \n",
       "4          Wood LLC  "
      ]
     },
     "execution_count": 226,
     "metadata": {},
     "output_type": "execute_result"
    }
   ],
   "source": [
    "df_data_new.toPandas().head(5)"
   ]
  },
  {
   "cell_type": "code",
   "execution_count": 227,
   "metadata": {
    "ExecuteTime": {
     "end_time": "2021-02-03T11:18:56.298981Z",
     "start_time": "2021-02-03T11:18:56.221559Z"
    }
   },
   "outputs": [
    {
     "data": {
      "text/html": [
       "<div>\n",
       "<style scoped>\n",
       "    .dataframe tbody tr th:only-of-type {\n",
       "        vertical-align: middle;\n",
       "    }\n",
       "\n",
       "    .dataframe tbody tr th {\n",
       "        vertical-align: top;\n",
       "    }\n",
       "\n",
       "    .dataframe thead th {\n",
       "        text-align: right;\n",
       "    }\n",
       "</style>\n",
       "<table border=\"1\" class=\"dataframe\">\n",
       "  <thead>\n",
       "    <tr style=\"text-align: right;\">\n",
       "      <th></th>\n",
       "      <th>Age</th>\n",
       "      <th>Total_Purchase</th>\n",
       "      <th>Account_Manager</th>\n",
       "      <th>Years</th>\n",
       "      <th>Num_Sites</th>\n",
       "    </tr>\n",
       "  </thead>\n",
       "  <tbody>\n",
       "    <tr>\n",
       "      <th>count</th>\n",
       "      <td>6.000000</td>\n",
       "      <td>6.000000</td>\n",
       "      <td>6.000000</td>\n",
       "      <td>6.000000</td>\n",
       "      <td>6.000000</td>\n",
       "    </tr>\n",
       "    <tr>\n",
       "      <th>mean</th>\n",
       "      <td>35.166667</td>\n",
       "      <td>7607.156667</td>\n",
       "      <td>0.833333</td>\n",
       "      <td>6.808333</td>\n",
       "      <td>12.333333</td>\n",
       "    </tr>\n",
       "    <tr>\n",
       "      <th>std</th>\n",
       "      <td>15.715173</td>\n",
       "      <td>4346.008233</td>\n",
       "      <td>0.408248</td>\n",
       "      <td>3.708738</td>\n",
       "      <td>3.386247</td>\n",
       "    </tr>\n",
       "    <tr>\n",
       "      <th>min</th>\n",
       "      <td>22.000000</td>\n",
       "      <td>100.000000</td>\n",
       "      <td>0.000000</td>\n",
       "      <td>1.000000</td>\n",
       "      <td>8.000000</td>\n",
       "    </tr>\n",
       "    <tr>\n",
       "      <th>25%</th>\n",
       "      <td>25.250000</td>\n",
       "      <td>6747.360000</td>\n",
       "      <td>1.000000</td>\n",
       "      <td>4.522500</td>\n",
       "      <td>9.500000</td>\n",
       "    </tr>\n",
       "    <tr>\n",
       "      <th>50%</th>\n",
       "      <td>32.000000</td>\n",
       "      <td>7986.100000</td>\n",
       "      <td>1.000000</td>\n",
       "      <td>8.495000</td>\n",
       "      <td>14.000000</td>\n",
       "    </tr>\n",
       "    <tr>\n",
       "      <th>75%</th>\n",
       "      <td>35.750000</td>\n",
       "      <td>9562.962500</td>\n",
       "      <td>1.000000</td>\n",
       "      <td>9.370000</td>\n",
       "      <td>14.750000</td>\n",
       "    </tr>\n",
       "    <tr>\n",
       "      <th>max</th>\n",
       "      <td>65.000000</td>\n",
       "      <td>13147.710000</td>\n",
       "      <td>1.000000</td>\n",
       "      <td>10.000000</td>\n",
       "      <td>15.000000</td>\n",
       "    </tr>\n",
       "  </tbody>\n",
       "</table>\n",
       "</div>"
      ],
      "text/plain": [
       "             Age  Total_Purchase  Account_Manager      Years  Num_Sites\n",
       "count   6.000000        6.000000         6.000000   6.000000   6.000000\n",
       "mean   35.166667     7607.156667         0.833333   6.808333  12.333333\n",
       "std    15.715173     4346.008233         0.408248   3.708738   3.386247\n",
       "min    22.000000      100.000000         0.000000   1.000000   8.000000\n",
       "25%    25.250000     6747.360000         1.000000   4.522500   9.500000\n",
       "50%    32.000000     7986.100000         1.000000   8.495000  14.000000\n",
       "75%    35.750000     9562.962500         1.000000   9.370000  14.750000\n",
       "max    65.000000    13147.710000         1.000000  10.000000  15.000000"
      ]
     },
     "execution_count": 227,
     "metadata": {},
     "output_type": "execute_result"
    }
   ],
   "source": [
    "df_data_new.toPandas().describe()"
   ]
  },
  {
   "cell_type": "markdown",
   "metadata": {},
   "source": [
    "### Transform timestamp in features-time based"
   ]
  },
  {
   "cell_type": "code",
   "execution_count": 228,
   "metadata": {
    "ExecuteTime": {
     "end_time": "2021-02-03T11:19:03.082417Z",
     "start_time": "2021-02-03T11:19:03.020325Z"
    }
   },
   "outputs": [],
   "source": [
    "df_data_new = df_data_new.withColumn(\"year\", sf.year(sf.col(\"Onboard_date\")))\n",
    "df_data_new = df_data_new.withColumn(\"month\", sf.month(sf.col(\"Onboard_date\")))\n",
    "df_data_new = df_data_new.withColumn(\"day\", sf.dayofmonth(sf.col(\"Onboard_date\")))\n",
    "df_data_new = df_data_new.withColumn(\"weekday\", sf.dayofweek(sf.col(\"Onboard_date\")))\n",
    "df_data_new = df_data_new.withColumn(\"hour\", sf.hour(sf.col(\"Onboard_date\")))\n",
    "df_data_new = df_data_new.withColumn(\"minute\", sf.minute(sf.col(\"Onboard_date\")))\n",
    "df_data_new = df_data_new.drop(\"Onboard_date\")"
   ]
  },
  {
   "cell_type": "markdown",
   "metadata": {},
   "source": [
    "### Create random label"
   ]
  },
  {
   "cell_type": "code",
   "execution_count": 229,
   "metadata": {
    "ExecuteTime": {
     "end_time": "2021-02-03T11:19:04.409535Z",
     "start_time": "2021-02-03T11:19:04.156033Z"
    }
   },
   "outputs": [
    {
     "data": {
      "text/html": [
       "<div>\n",
       "<style scoped>\n",
       "    .dataframe tbody tr th:only-of-type {\n",
       "        vertical-align: middle;\n",
       "    }\n",
       "\n",
       "    .dataframe tbody tr th {\n",
       "        vertical-align: top;\n",
       "    }\n",
       "\n",
       "    .dataframe thead th {\n",
       "        text-align: right;\n",
       "    }\n",
       "</style>\n",
       "<table border=\"1\" class=\"dataframe\">\n",
       "  <thead>\n",
       "    <tr style=\"text-align: right;\">\n",
       "      <th></th>\n",
       "      <th>Names</th>\n",
       "      <th>Age</th>\n",
       "      <th>Total_Purchase</th>\n",
       "      <th>Account_Manager</th>\n",
       "      <th>Years</th>\n",
       "      <th>Num_Sites</th>\n",
       "      <th>Location</th>\n",
       "      <th>Company</th>\n",
       "      <th>year</th>\n",
       "      <th>month</th>\n",
       "      <th>day</th>\n",
       "      <th>weekday</th>\n",
       "      <th>hour</th>\n",
       "      <th>minute</th>\n",
       "      <th>Churn</th>\n",
       "    </tr>\n",
       "  </thead>\n",
       "  <tbody>\n",
       "    <tr>\n",
       "      <th>0</th>\n",
       "      <td>Andrew Mccall</td>\n",
       "      <td>37.0</td>\n",
       "      <td>9935.53</td>\n",
       "      <td>1</td>\n",
       "      <td>7.71</td>\n",
       "      <td>8.0</td>\n",
       "      <td>38612 Johnny Stravenue Nataliebury, WI 15717-8316</td>\n",
       "      <td>King Ltd</td>\n",
       "      <td>2011</td>\n",
       "      <td>8</td>\n",
       "      <td>29</td>\n",
       "      <td>2</td>\n",
       "      <td>18</td>\n",
       "      <td>37</td>\n",
       "      <td>0</td>\n",
       "    </tr>\n",
       "    <tr>\n",
       "      <th>1</th>\n",
       "      <td>Michele Wright</td>\n",
       "      <td>23.0</td>\n",
       "      <td>7526.94</td>\n",
       "      <td>1</td>\n",
       "      <td>9.28</td>\n",
       "      <td>15.0</td>\n",
       "      <td>21083 Nicole Junction Suite 332, Youngport, ME...</td>\n",
       "      <td>Cannon-Benson</td>\n",
       "      <td>2013</td>\n",
       "      <td>7</td>\n",
       "      <td>22</td>\n",
       "      <td>2</td>\n",
       "      <td>18</td>\n",
       "      <td>19</td>\n",
       "      <td>1</td>\n",
       "    </tr>\n",
       "  </tbody>\n",
       "</table>\n",
       "</div>"
      ],
      "text/plain": [
       "            Names   Age  Total_Purchase  Account_Manager  Years  Num_Sites  \\\n",
       "0   Andrew Mccall  37.0         9935.53                1   7.71        8.0   \n",
       "1  Michele Wright  23.0         7526.94                1   9.28       15.0   \n",
       "\n",
       "                                            Location        Company  year  \\\n",
       "0  38612 Johnny Stravenue Nataliebury, WI 15717-8316       King Ltd  2011   \n",
       "1  21083 Nicole Junction Suite 332, Youngport, ME...  Cannon-Benson  2013   \n",
       "\n",
       "   month  day  weekday  hour  minute  Churn  \n",
       "0      8   29        2    18      37      0  \n",
       "1      7   22        2    18      19      1  "
      ]
     },
     "execution_count": 229,
     "metadata": {},
     "output_type": "execute_result"
    }
   ],
   "source": [
    "df_data_new = df_data_new.withColumn('Churn', sf.round(sf.rand(df_data_new.count()),1))\n",
    "y_udf = sf.udf(lambda y: 0 if y<=0.5 else 1)\n",
    "df_data_new = df_data_new.withColumn(\"Churn\", y_udf('Churn'))\n",
    "df_data_new = df_data_new.withColumn(\"Churn\", df_data_new[\"Churn\"].cast(IntegerType()))\n",
    "df_data_new.toPandas().head(2)"
   ]
  },
  {
   "cell_type": "code",
   "execution_count": 235,
   "metadata": {
    "ExecuteTime": {
     "end_time": "2021-02-03T11:20:57.526771Z",
     "start_time": "2021-02-03T11:20:56.977080Z"
    }
   },
   "outputs": [
    {
     "name": "stdout",
     "output_type": "stream",
     "text": [
      "+-----+-----+\n",
      "|Churn|count|\n",
      "+-----+-----+\n",
      "|    1|  150|\n",
      "|    0|  750|\n",
      "+-----+-----+\n",
      "\n"
     ]
    }
   ],
   "source": [
    "df_data.groupby('Churn').count().show()"
   ]
  },
  {
   "cell_type": "code",
   "execution_count": 234,
   "metadata": {
    "ExecuteTime": {
     "end_time": "2021-02-03T11:20:47.845209Z",
     "start_time": "2021-02-03T11:20:47.081421Z"
    }
   },
   "outputs": [
    {
     "name": "stdout",
     "output_type": "stream",
     "text": [
      "+-----+-----+\n",
      "|Churn|count|\n",
      "+-----+-----+\n",
      "|    1|    3|\n",
      "|    0|    3|\n",
      "+-----+-----+\n",
      "\n"
     ]
    }
   ],
   "source": [
    "df_data_new.groupby('Churn').count().show()"
   ]
  },
  {
   "cell_type": "code",
   "execution_count": 230,
   "metadata": {
    "ExecuteTime": {
     "end_time": "2021-02-03T11:19:09.173862Z",
     "start_time": "2021-02-03T11:19:09.164211Z"
    }
   },
   "outputs": [
    {
     "data": {
      "text/plain": [
       "[('Names', 'string'),\n",
       " ('Age', 'double'),\n",
       " ('Total_Purchase', 'double'),\n",
       " ('Account_Manager', 'int'),\n",
       " ('Years', 'double'),\n",
       " ('Num_Sites', 'double'),\n",
       " ('Location', 'string'),\n",
       " ('Company', 'string'),\n",
       " ('year', 'int'),\n",
       " ('month', 'int'),\n",
       " ('day', 'int'),\n",
       " ('weekday', 'int'),\n",
       " ('hour', 'int'),\n",
       " ('minute', 'int'),\n",
       " ('Churn', 'int')]"
      ]
     },
     "execution_count": 230,
     "metadata": {},
     "output_type": "execute_result"
    }
   ],
   "source": [
    "df_data_new.dtypes"
   ]
  },
  {
   "cell_type": "markdown",
   "metadata": {},
   "source": [
    "### Apply again pipeline transformations"
   ]
  },
  {
   "cell_type": "code",
   "execution_count": 273,
   "metadata": {
    "ExecuteTime": {
     "end_time": "2021-02-03T11:32:41.589538Z",
     "start_time": "2021-02-03T11:32:40.692046Z"
    }
   },
   "outputs": [],
   "source": [
    "pipeline_model = pipeline_stages.fit(df_data_new)\n",
    "df_aux6 = pipeline_model.transform(df_data_new)"
   ]
  },
  {
   "cell_type": "code",
   "execution_count": 277,
   "metadata": {
    "ExecuteTime": {
     "end_time": "2021-02-03T11:33:20.871073Z",
     "start_time": "2021-02-03T11:33:20.858851Z"
    }
   },
   "outputs": [],
   "source": [
    "data_set_inference = df_aux6.select('label','features')"
   ]
  },
  {
   "cell_type": "code",
   "execution_count": 282,
   "metadata": {
    "ExecuteTime": {
     "end_time": "2021-02-03T11:36:05.486193Z",
     "start_time": "2021-02-03T11:36:05.243548Z"
    }
   },
   "outputs": [
    {
     "name": "stdout",
     "output_type": "stream",
     "text": [
      "An error occurred while calling o7231.count.\n",
      ": org.apache.spark.SparkException: Job aborted due to stage failure: Task 0 in stage 586.0 failed 1 times, most recent failure: Lost task 0.0 in stage 586.0 (TID 5277, localhost, executor driver): org.apache.spark.SparkException: Failed to execute user defined function($anonfun$1: (struct<type:tinyint,size:int,indices:array<int>,values:array<double>>) => struct<type:tinyint,size:int,indices:array<int>,values:array<double>>)\n",
      "\tat org.apache.spark.sql.catalyst.expressions.GeneratedClass$GeneratedIteratorForCodegenStage2.agg_doAggregateWithoutKey_0$(Unknown Source)\n",
      "\tat org.apache.spark.sql.catalyst.expressions.GeneratedClass$GeneratedIteratorForCodegenStage2.processNext(Unknown Source)\n",
      "\tat org.apache.spark.sql.execution.BufferedRowIterator.hasNext(BufferedRowIterator.java:43)\n",
      "\tat org.apache.spark.sql.execution.WholeStageCodegenExec$$anonfun$13$$anon$1.hasNext(WholeStageCodegenExec.scala:636)\n",
      "\tat scala.collection.Iterator$$anon$11.hasNext(Iterator.scala:409)\n",
      "\tat org.apache.spark.shuffle.sort.BypassMergeSortShuffleWriter.write(BypassMergeSortShuffleWriter.java:125)\n",
      "\tat org.apache.spark.scheduler.ShuffleMapTask.runTask(ShuffleMapTask.scala:99)\n",
      "\tat org.apache.spark.scheduler.ShuffleMapTask.runTask(ShuffleMapTask.scala:55)\n",
      "\tat org.apache.spark.scheduler.Task.run(Task.scala:123)\n",
      "\tat org.apache.spark.executor.Executor$TaskRunner$$anonfun$10.apply(Executor.scala:408)\n",
      "\tat org.apache.spark.util.Utils$.tryWithSafeFinally(Utils.scala:1360)\n",
      "\tat org.apache.spark.executor.Executor$TaskRunner.run(Executor.scala:414)\n",
      "\tat java.util.concurrent.ThreadPoolExecutor.runWorker(ThreadPoolExecutor.java:1149)\n",
      "\tat java.util.concurrent.ThreadPoolExecutor$Worker.run(ThreadPoolExecutor.java:624)\n",
      "\tat java.lang.Thread.run(Thread.java:748)\n",
      "Caused by: java.lang.IllegalArgumentException: requirement failed: BLAS.dot(x: Vector, y:Vector) was given Vectors with non-matching sizes: x.size = 26, y.size = 2680\n",
      "\tat scala.Predef$.require(Predef.scala:224)\n",
      "\tat org.apache.spark.ml.linalg.BLAS$.dot(BLAS.scala:104)\n",
      "\tat org.apache.spark.ml.classification.LogisticRegressionModel$$anonfun$33.apply(LogisticRegression.scala:1001)\n",
      "\tat org.apache.spark.ml.classification.LogisticRegressionModel$$anonfun$33.apply(LogisticRegression.scala:1000)\n",
      "\tat org.apache.spark.ml.classification.LogisticRegressionModel.predictRaw(LogisticRegression.scala:1157)\n",
      "\tat org.apache.spark.ml.classification.LogisticRegressionModel.predictRaw(LogisticRegression.scala:930)\n",
      "\tat org.apache.spark.ml.classification.ProbabilisticClassificationModel$$anonfun$1.apply(ProbabilisticClassifier.scala:117)\n",
      "\tat org.apache.spark.ml.classification.ProbabilisticClassificationModel$$anonfun$1.apply(ProbabilisticClassifier.scala:116)\n",
      "\t... 15 more\n",
      "\n",
      "Driver stacktrace:\n",
      "\tat org.apache.spark.scheduler.DAGScheduler.org$apache$spark$scheduler$DAGScheduler$$failJobAndIndependentStages(DAGScheduler.scala:1891)\n",
      "\tat org.apache.spark.scheduler.DAGScheduler$$anonfun$abortStage$1.apply(DAGScheduler.scala:1879)\n",
      "\tat org.apache.spark.scheduler.DAGScheduler$$anonfun$abortStage$1.apply(DAGScheduler.scala:1878)\n",
      "\tat scala.collection.mutable.ResizableArray$class.foreach(ResizableArray.scala:59)\n",
      "\tat scala.collection.mutable.ArrayBuffer.foreach(ArrayBuffer.scala:48)\n",
      "\tat org.apache.spark.scheduler.DAGScheduler.abortStage(DAGScheduler.scala:1878)\n",
      "\tat org.apache.spark.scheduler.DAGScheduler$$anonfun$handleTaskSetFailed$1.apply(DAGScheduler.scala:927)\n",
      "\tat org.apache.spark.scheduler.DAGScheduler$$anonfun$handleTaskSetFailed$1.apply(DAGScheduler.scala:927)\n",
      "\tat scala.Option.foreach(Option.scala:257)\n",
      "\tat org.apache.spark.scheduler.DAGScheduler.handleTaskSetFailed(DAGScheduler.scala:927)\n",
      "\tat org.apache.spark.scheduler.DAGSchedulerEventProcessLoop.doOnReceive(DAGScheduler.scala:2112)\n",
      "\tat org.apache.spark.scheduler.DAGSchedulerEventProcessLoop.onReceive(DAGScheduler.scala:2061)\n",
      "\tat org.apache.spark.scheduler.DAGSchedulerEventProcessLoop.onReceive(DAGScheduler.scala:2050)\n",
      "\tat org.apache.spark.util.EventLoop$$anon$1.run(EventLoop.scala:49)\n",
      "\tat org.apache.spark.scheduler.DAGScheduler.runJob(DAGScheduler.scala:738)\n",
      "\tat org.apache.spark.SparkContext.runJob(SparkContext.scala:2061)\n",
      "\tat org.apache.spark.SparkContext.runJob(SparkContext.scala:2082)\n",
      "\tat org.apache.spark.SparkContext.runJob(SparkContext.scala:2101)\n",
      "\tat org.apache.spark.SparkContext.runJob(SparkContext.scala:2126)\n",
      "\tat org.apache.spark.rdd.RDD$$anonfun$collect$1.apply(RDD.scala:990)\n",
      "\tat org.apache.spark.rdd.RDDOperationScope$.withScope(RDDOperationScope.scala:151)\n",
      "\tat org.apache.spark.rdd.RDDOperationScope$.withScope(RDDOperationScope.scala:112)\n",
      "\tat org.apache.spark.rdd.RDD.withScope(RDD.scala:385)\n",
      "\tat org.apache.spark.rdd.RDD.collect(RDD.scala:989)\n",
      "\tat org.apache.spark.sql.execution.SparkPlan.executeCollect(SparkPlan.scala:299)\n",
      "\tat org.apache.spark.sql.Dataset$$anonfun$count$1.apply(Dataset.scala:2836)\n",
      "\tat org.apache.spark.sql.Dataset$$anonfun$count$1.apply(Dataset.scala:2835)\n",
      "\tat org.apache.spark.sql.Dataset$$anonfun$52.apply(Dataset.scala:3370)\n",
      "\tat org.apache.spark.sql.execution.SQLExecution$$anonfun$withNewExecutionId$1.apply(SQLExecution.scala:80)\n",
      "\tat org.apache.spark.sql.execution.SQLExecution$.withSQLConfPropagated(SQLExecution.scala:127)\n",
      "\tat org.apache.spark.sql.execution.SQLExecution$.withNewExecutionId(SQLExecution.scala:75)\n",
      "\tat org.apache.spark.sql.Dataset.withAction(Dataset.scala:3369)\n",
      "\tat org.apache.spark.sql.Dataset.count(Dataset.scala:2835)\n",
      "\tat sun.reflect.GeneratedMethodAccessor169.invoke(Unknown Source)\n",
      "\tat sun.reflect.DelegatingMethodAccessorImpl.invoke(DelegatingMethodAccessorImpl.java:43)\n",
      "\tat java.lang.reflect.Method.invoke(Method.java:498)\n",
      "\tat py4j.reflection.MethodInvoker.invoke(MethodInvoker.java:244)\n",
      "\tat py4j.reflection.ReflectionEngine.invoke(ReflectionEngine.java:357)\n",
      "\tat py4j.Gateway.invoke(Gateway.java:282)\n",
      "\tat py4j.commands.AbstractCommand.invokeMethod(AbstractCommand.java:132)\n",
      "\tat py4j.commands.CallCommand.execute(CallCommand.java:79)\n",
      "\tat py4j.GatewayConnection.run(GatewayConnection.java:238)\n",
      "\tat java.lang.Thread.run(Thread.java:748)\n",
      "Caused by: org.apache.spark.SparkException: Failed to execute user defined function($anonfun$1: (struct<type:tinyint,size:int,indices:array<int>,values:array<double>>) => struct<type:tinyint,size:int,indices:array<int>,values:array<double>>)\n",
      "\tat org.apache.spark.sql.catalyst.expressions.GeneratedClass$GeneratedIteratorForCodegenStage2.agg_doAggregateWithoutKey_0$(Unknown Source)\n",
      "\tat org.apache.spark.sql.catalyst.expressions.GeneratedClass$GeneratedIteratorForCodegenStage2.processNext(Unknown Source)\n",
      "\tat org.apache.spark.sql.execution.BufferedRowIterator.hasNext(BufferedRowIterator.java:43)\n",
      "\tat org.apache.spark.sql.execution.WholeStageCodegenExec$$anonfun$13$$anon$1.hasNext(WholeStageCodegenExec.scala:636)\n",
      "\tat scala.collection.Iterator$$anon$11.hasNext(Iterator.scala:409)\n",
      "\tat org.apache.spark.shuffle.sort.BypassMergeSortShuffleWriter.write(BypassMergeSortShuffleWriter.java:125)\n",
      "\tat org.apache.spark.scheduler.ShuffleMapTask.runTask(ShuffleMapTask.scala:99)\n",
      "\tat org.apache.spark.scheduler.ShuffleMapTask.runTask(ShuffleMapTask.scala:55)\n",
      "\tat org.apache.spark.scheduler.Task.run(Task.scala:123)\n",
      "\tat org.apache.spark.executor.Executor$TaskRunner$$anonfun$10.apply(Executor.scala:408)\n",
      "\tat org.apache.spark.util.Utils$.tryWithSafeFinally(Utils.scala:1360)\n",
      "\tat org.apache.spark.executor.Executor$TaskRunner.run(Executor.scala:414)\n",
      "\tat java.util.concurrent.ThreadPoolExecutor.runWorker(ThreadPoolExecutor.java:1149)\n",
      "\tat java.util.concurrent.ThreadPoolExecutor$Worker.run(ThreadPoolExecutor.java:624)\n",
      "\t... 1 more\n",
      "Caused by: java.lang.IllegalArgumentException: requirement failed: BLAS.dot(x: Vector, y:Vector) was given Vectors with non-matching sizes: x.size = 26, y.size = 2680\n",
      "\tat scala.Predef$.require(Predef.scala:224)\n",
      "\tat org.apache.spark.ml.linalg.BLAS$.dot(BLAS.scala:104)\n",
      "\tat org.apache.spark.ml.classification.LogisticRegressionModel$$anonfun$33.apply(LogisticRegression.scala:1001)\n",
      "\tat org.apache.spark.ml.classification.LogisticRegressionModel$$anonfun$33.apply(LogisticRegression.scala:1000)\n",
      "\tat org.apache.spark.ml.classification.LogisticRegressionModel.predictRaw(LogisticRegression.scala:1157)\n",
      "\tat org.apache.spark.ml.classification.LogisticRegressionModel.predictRaw(LogisticRegression.scala:930)\n",
      "\tat org.apache.spark.ml.classification.ProbabilisticClassificationModel$$anonfun$1.apply(ProbabilisticClassifier.scala:117)\n",
      "\tat org.apache.spark.ml.classification.ProbabilisticClassificationModel$$anonfun$1.apply(ProbabilisticClassifier.scala:116)\n",
      "\t... 15 more\n",
      "\n"
     ]
    }
   ],
   "source": [
    "inference = lrModel.transform(data_set_inference)\n",
    "\n",
    "try:\n",
    "    accuracy = inference.filter(inference.label == inference.prediction).count() / float(inference.count())\n",
    "    print(\"Accuracy : {} % \".format(round(100*accuracy,2)))\n",
    "\n",
    "    inference.select('label', 'features',  'rawPrediction', 'prediction', 'probability').toPandas().head(5)\n",
    "    \n",
    "except Exception as e:\n",
    "    print(e)\n",
    "    \n",
    "  "
   ]
  },
  {
   "cell_type": "markdown",
   "metadata": {},
   "source": [
    "### concat new data with all the original data"
   ]
  },
  {
   "cell_type": "code",
   "execution_count": 254,
   "metadata": {
    "ExecuteTime": {
     "end_time": "2021-02-03T11:26:54.163339Z",
     "start_time": "2021-02-03T11:26:54.154761Z"
    }
   },
   "outputs": [],
   "source": [
    "df_data_total = df_data.union(df_data_new)"
   ]
  },
  {
   "cell_type": "code",
   "execution_count": 232,
   "metadata": {
    "ExecuteTime": {
     "end_time": "2021-02-03T11:19:30.289340Z",
     "start_time": "2021-02-03T11:19:30.027521Z"
    }
   },
   "outputs": [
    {
     "data": {
      "text/html": [
       "<div>\n",
       "<style scoped>\n",
       "    .dataframe tbody tr th:only-of-type {\n",
       "        vertical-align: middle;\n",
       "    }\n",
       "\n",
       "    .dataframe tbody tr th {\n",
       "        vertical-align: top;\n",
       "    }\n",
       "\n",
       "    .dataframe thead th {\n",
       "        text-align: right;\n",
       "    }\n",
       "</style>\n",
       "<table border=\"1\" class=\"dataframe\">\n",
       "  <thead>\n",
       "    <tr style=\"text-align: right;\">\n",
       "      <th></th>\n",
       "      <th>Names</th>\n",
       "      <th>Age</th>\n",
       "      <th>Total_Purchase</th>\n",
       "      <th>Account_Manager</th>\n",
       "      <th>Years</th>\n",
       "      <th>Num_Sites</th>\n",
       "      <th>Location</th>\n",
       "      <th>Company</th>\n",
       "      <th>Churn</th>\n",
       "      <th>year</th>\n",
       "      <th>month</th>\n",
       "      <th>day</th>\n",
       "      <th>weekday</th>\n",
       "      <th>hour</th>\n",
       "      <th>minute</th>\n",
       "    </tr>\n",
       "  </thead>\n",
       "  <tbody>\n",
       "    <tr>\n",
       "      <th>0</th>\n",
       "      <td>Cameron Williams</td>\n",
       "      <td>42.0</td>\n",
       "      <td>11066.80</td>\n",
       "      <td>0</td>\n",
       "      <td>7.22</td>\n",
       "      <td>8.0</td>\n",
       "      <td>10265 Elizabeth Mission Barkerburgh, AK 89518</td>\n",
       "      <td>Harvey LLC</td>\n",
       "      <td>1</td>\n",
       "      <td>2013</td>\n",
       "      <td>8</td>\n",
       "      <td>30</td>\n",
       "      <td>6</td>\n",
       "      <td>7</td>\n",
       "      <td>0</td>\n",
       "    </tr>\n",
       "    <tr>\n",
       "      <th>1</th>\n",
       "      <td>Kevin Mueller</td>\n",
       "      <td>41.0</td>\n",
       "      <td>11916.22</td>\n",
       "      <td>0</td>\n",
       "      <td>6.50</td>\n",
       "      <td>11.0</td>\n",
       "      <td>6157 Frank Gardens Suite 019 Carloshaven, RI 1...</td>\n",
       "      <td>Wilson PLC</td>\n",
       "      <td>1</td>\n",
       "      <td>2013</td>\n",
       "      <td>8</td>\n",
       "      <td>13</td>\n",
       "      <td>3</td>\n",
       "      <td>0</td>\n",
       "      <td>38</td>\n",
       "    </tr>\n",
       "  </tbody>\n",
       "</table>\n",
       "</div>"
      ],
      "text/plain": [
       "              Names   Age  Total_Purchase  Account_Manager  Years  Num_Sites  \\\n",
       "0  Cameron Williams  42.0        11066.80                0   7.22        8.0   \n",
       "1     Kevin Mueller  41.0        11916.22                0   6.50       11.0   \n",
       "\n",
       "                                            Location     Company  Churn  year  \\\n",
       "0      10265 Elizabeth Mission Barkerburgh, AK 89518  Harvey LLC      1  2013   \n",
       "1  6157 Frank Gardens Suite 019 Carloshaven, RI 1...  Wilson PLC      1  2013   \n",
       "\n",
       "   month  day  weekday  hour  minute  \n",
       "0      8   30        6     7       0  \n",
       "1      8   13        3     0      38  "
      ]
     },
     "execution_count": 232,
     "metadata": {},
     "output_type": "execute_result"
    }
   ],
   "source": [
    "df_data_total.toPandas().head(2)"
   ]
  },
  {
   "cell_type": "code",
   "execution_count": 233,
   "metadata": {
    "ExecuteTime": {
     "end_time": "2021-02-03T11:19:58.136000Z",
     "start_time": "2021-02-03T11:19:57.459728Z"
    }
   },
   "outputs": [
    {
     "name": "stdout",
     "output_type": "stream",
     "text": [
      "+-----+-----+\n",
      "|Churn|count|\n",
      "+-----+-----+\n",
      "| 2006|    1|\n",
      "| 2013|    1|\n",
      "|    1|  150|\n",
      "| 2012|    1|\n",
      "| 2016|    1|\n",
      "| 2011|    2|\n",
      "|    0|  750|\n",
      "+-----+-----+\n",
      "\n"
     ]
    }
   ],
   "source": [
    "df_data_total.groupby(\"Churn\").count().show()"
   ]
  },
  {
   "cell_type": "code",
   "execution_count": 255,
   "metadata": {
    "ExecuteTime": {
     "end_time": "2021-02-03T11:26:59.449856Z",
     "start_time": "2021-02-03T11:26:59.210756Z"
    }
   },
   "outputs": [
    {
     "data": {
      "text/html": [
       "<div>\n",
       "<style scoped>\n",
       "    .dataframe tbody tr th:only-of-type {\n",
       "        vertical-align: middle;\n",
       "    }\n",
       "\n",
       "    .dataframe tbody tr th {\n",
       "        vertical-align: top;\n",
       "    }\n",
       "\n",
       "    .dataframe thead th {\n",
       "        text-align: right;\n",
       "    }\n",
       "</style>\n",
       "<table border=\"1\" class=\"dataframe\">\n",
       "  <thead>\n",
       "    <tr style=\"text-align: right;\">\n",
       "      <th></th>\n",
       "      <th>Names</th>\n",
       "      <th>Age</th>\n",
       "      <th>Total_Purchase</th>\n",
       "      <th>Account_Manager</th>\n",
       "      <th>Years</th>\n",
       "      <th>Num_Sites</th>\n",
       "      <th>Location</th>\n",
       "      <th>Company</th>\n",
       "      <th>Churn</th>\n",
       "      <th>year</th>\n",
       "      <th>month</th>\n",
       "      <th>day</th>\n",
       "      <th>weekday</th>\n",
       "      <th>hour</th>\n",
       "      <th>minute</th>\n",
       "    </tr>\n",
       "  </thead>\n",
       "  <tbody>\n",
       "    <tr>\n",
       "      <th>0</th>\n",
       "      <td>Andrew Mccall</td>\n",
       "      <td>37.0</td>\n",
       "      <td>9935.53</td>\n",
       "      <td>1</td>\n",
       "      <td>7.71</td>\n",
       "      <td>8.0</td>\n",
       "      <td>38612 Johnny Stravenue Nataliebury, WI 15717-8316</td>\n",
       "      <td>King Ltd</td>\n",
       "      <td>2011</td>\n",
       "      <td>8</td>\n",
       "      <td>29</td>\n",
       "      <td>2</td>\n",
       "      <td>18</td>\n",
       "      <td>37</td>\n",
       "      <td>0</td>\n",
       "    </tr>\n",
       "    <tr>\n",
       "      <th>1</th>\n",
       "      <td>Michele Wright</td>\n",
       "      <td>23.0</td>\n",
       "      <td>7526.94</td>\n",
       "      <td>1</td>\n",
       "      <td>9.28</td>\n",
       "      <td>15.0</td>\n",
       "      <td>21083 Nicole Junction Suite 332, Youngport, ME...</td>\n",
       "      <td>Cannon-Benson</td>\n",
       "      <td>2013</td>\n",
       "      <td>7</td>\n",
       "      <td>22</td>\n",
       "      <td>2</td>\n",
       "      <td>18</td>\n",
       "      <td>19</td>\n",
       "      <td>1</td>\n",
       "    </tr>\n",
       "    <tr>\n",
       "      <th>2</th>\n",
       "      <td>Jeremy Chang</td>\n",
       "      <td>65.0</td>\n",
       "      <td>100.00</td>\n",
       "      <td>1</td>\n",
       "      <td>1.00</td>\n",
       "      <td>15.0</td>\n",
       "      <td>085 Austin Views Lake Julialand, WY 63726-4298</td>\n",
       "      <td>Barron-Robertson</td>\n",
       "      <td>2006</td>\n",
       "      <td>12</td>\n",
       "      <td>11</td>\n",
       "      <td>2</td>\n",
       "      <td>7</td>\n",
       "      <td>48</td>\n",
       "      <td>0</td>\n",
       "    </tr>\n",
       "    <tr>\n",
       "      <th>3</th>\n",
       "      <td>Megan Ferguson</td>\n",
       "      <td>32.0</td>\n",
       "      <td>6487.50</td>\n",
       "      <td>0</td>\n",
       "      <td>9.40</td>\n",
       "      <td>14.0</td>\n",
       "      <td>922 Wright Branch North Cynthialand, NC 64721</td>\n",
       "      <td>Sexton-Golden</td>\n",
       "      <td>2016</td>\n",
       "      <td>10</td>\n",
       "      <td>28</td>\n",
       "      <td>6</td>\n",
       "      <td>5</td>\n",
       "      <td>32</td>\n",
       "      <td>0</td>\n",
       "    </tr>\n",
       "    <tr>\n",
       "      <th>4</th>\n",
       "      <td>Taylor Young</td>\n",
       "      <td>32.0</td>\n",
       "      <td>13147.71</td>\n",
       "      <td>1</td>\n",
       "      <td>10.00</td>\n",
       "      <td>8.0</td>\n",
       "      <td>Unit 0789 Box 0734 DPO AP 39702</td>\n",
       "      <td>Wood LLC</td>\n",
       "      <td>2012</td>\n",
       "      <td>3</td>\n",
       "      <td>20</td>\n",
       "      <td>3</td>\n",
       "      <td>0</td>\n",
       "      <td>36</td>\n",
       "      <td>1</td>\n",
       "    </tr>\n",
       "  </tbody>\n",
       "</table>\n",
       "</div>"
      ],
      "text/plain": [
       "            Names   Age  Total_Purchase  Account_Manager  Years  Num_Sites  \\\n",
       "0   Andrew Mccall  37.0         9935.53                1   7.71        8.0   \n",
       "1  Michele Wright  23.0         7526.94                1   9.28       15.0   \n",
       "2    Jeremy Chang  65.0          100.00                1   1.00       15.0   \n",
       "3  Megan Ferguson  32.0         6487.50                0   9.40       14.0   \n",
       "4    Taylor Young  32.0        13147.71                1  10.00        8.0   \n",
       "\n",
       "                                            Location           Company  Churn  \\\n",
       "0  38612 Johnny Stravenue Nataliebury, WI 15717-8316          King Ltd   2011   \n",
       "1  21083 Nicole Junction Suite 332, Youngport, ME...     Cannon-Benson   2013   \n",
       "2     085 Austin Views Lake Julialand, WY 63726-4298  Barron-Robertson   2006   \n",
       "3      922 Wright Branch North Cynthialand, NC 64721     Sexton-Golden   2016   \n",
       "4                    Unit 0789 Box 0734 DPO AP 39702          Wood LLC   2012   \n",
       "\n",
       "   year  month  day  weekday  hour  minute  \n",
       "0     8     29    2       18    37       0  \n",
       "1     7     22    2       18    19       1  \n",
       "2    12     11    2        7    48       0  \n",
       "3    10     28    6        5    32       0  \n",
       "4     3     20    3        0    36       1  "
      ]
     },
     "execution_count": 255,
     "metadata": {},
     "output_type": "execute_result"
    }
   ],
   "source": [
    "df_data_total.filter((df_data_total.Churn!=0) & (df_data_total.Churn!=1)).toPandas().head()"
   ]
  },
  {
   "cell_type": "code",
   "execution_count": 257,
   "metadata": {
    "ExecuteTime": {
     "end_time": "2021-02-03T11:27:10.942259Z",
     "start_time": "2021-02-03T11:27:10.929934Z"
    }
   },
   "outputs": [],
   "source": [
    "df_data_total = df_data_total.filter((df_data_total.Churn==0) | (df_data_total.Churn==1))"
   ]
  },
  {
   "cell_type": "code",
   "execution_count": 259,
   "metadata": {
    "ExecuteTime": {
     "end_time": "2021-02-03T11:27:20.312784Z",
     "start_time": "2021-02-03T11:27:20.017557Z"
    }
   },
   "outputs": [
    {
     "data": {
      "text/html": [
       "<div>\n",
       "<style scoped>\n",
       "    .dataframe tbody tr th:only-of-type {\n",
       "        vertical-align: middle;\n",
       "    }\n",
       "\n",
       "    .dataframe tbody tr th {\n",
       "        vertical-align: top;\n",
       "    }\n",
       "\n",
       "    .dataframe thead th {\n",
       "        text-align: right;\n",
       "    }\n",
       "</style>\n",
       "<table border=\"1\" class=\"dataframe\">\n",
       "  <thead>\n",
       "    <tr style=\"text-align: right;\">\n",
       "      <th></th>\n",
       "      <th>Names</th>\n",
       "      <th>Age</th>\n",
       "      <th>Total_Purchase</th>\n",
       "      <th>Account_Manager</th>\n",
       "      <th>Years</th>\n",
       "      <th>Num_Sites</th>\n",
       "      <th>Location</th>\n",
       "      <th>Company</th>\n",
       "      <th>Churn</th>\n",
       "      <th>year</th>\n",
       "      <th>month</th>\n",
       "      <th>day</th>\n",
       "      <th>weekday</th>\n",
       "      <th>hour</th>\n",
       "      <th>minute</th>\n",
       "    </tr>\n",
       "  </thead>\n",
       "  <tbody>\n",
       "    <tr>\n",
       "      <th>0</th>\n",
       "      <td>Cameron Williams</td>\n",
       "      <td>42.0</td>\n",
       "      <td>11066.80</td>\n",
       "      <td>0</td>\n",
       "      <td>7.22</td>\n",
       "      <td>8.0</td>\n",
       "      <td>10265 Elizabeth Mission Barkerburgh, AK 89518</td>\n",
       "      <td>Harvey LLC</td>\n",
       "      <td>1</td>\n",
       "      <td>2013</td>\n",
       "      <td>8</td>\n",
       "      <td>30</td>\n",
       "      <td>6</td>\n",
       "      <td>7</td>\n",
       "      <td>0</td>\n",
       "    </tr>\n",
       "    <tr>\n",
       "      <th>1</th>\n",
       "      <td>Kevin Mueller</td>\n",
       "      <td>41.0</td>\n",
       "      <td>11916.22</td>\n",
       "      <td>0</td>\n",
       "      <td>6.50</td>\n",
       "      <td>11.0</td>\n",
       "      <td>6157 Frank Gardens Suite 019 Carloshaven, RI 1...</td>\n",
       "      <td>Wilson PLC</td>\n",
       "      <td>1</td>\n",
       "      <td>2013</td>\n",
       "      <td>8</td>\n",
       "      <td>13</td>\n",
       "      <td>3</td>\n",
       "      <td>0</td>\n",
       "      <td>38</td>\n",
       "    </tr>\n",
       "    <tr>\n",
       "      <th>2</th>\n",
       "      <td>Eric Lozano</td>\n",
       "      <td>38.0</td>\n",
       "      <td>12884.75</td>\n",
       "      <td>0</td>\n",
       "      <td>6.67</td>\n",
       "      <td>12.0</td>\n",
       "      <td>1331 Keith Court Alyssahaven, DE 90114</td>\n",
       "      <td>Miller, Johnson and Wallace</td>\n",
       "      <td>1</td>\n",
       "      <td>2016</td>\n",
       "      <td>6</td>\n",
       "      <td>29</td>\n",
       "      <td>4</td>\n",
       "      <td>6</td>\n",
       "      <td>20</td>\n",
       "    </tr>\n",
       "    <tr>\n",
       "      <th>3</th>\n",
       "      <td>Phillip White</td>\n",
       "      <td>42.0</td>\n",
       "      <td>8010.76</td>\n",
       "      <td>0</td>\n",
       "      <td>6.71</td>\n",
       "      <td>10.0</td>\n",
       "      <td>13120 Daniel Mount Angelabury, WY 30645-4695</td>\n",
       "      <td>Smith Inc</td>\n",
       "      <td>1</td>\n",
       "      <td>2014</td>\n",
       "      <td>4</td>\n",
       "      <td>22</td>\n",
       "      <td>3</td>\n",
       "      <td>12</td>\n",
       "      <td>43</td>\n",
       "    </tr>\n",
       "    <tr>\n",
       "      <th>4</th>\n",
       "      <td>Cynthia Norton</td>\n",
       "      <td>37.0</td>\n",
       "      <td>9191.58</td>\n",
       "      <td>0</td>\n",
       "      <td>5.56</td>\n",
       "      <td>9.0</td>\n",
       "      <td>765 Tricia Row Karenshire, MH 71730</td>\n",
       "      <td>Love-Jones</td>\n",
       "      <td>1</td>\n",
       "      <td>2016</td>\n",
       "      <td>1</td>\n",
       "      <td>19</td>\n",
       "      <td>3</td>\n",
       "      <td>15</td>\n",
       "      <td>31</td>\n",
       "    </tr>\n",
       "  </tbody>\n",
       "</table>\n",
       "</div>"
      ],
      "text/plain": [
       "              Names   Age  Total_Purchase  Account_Manager  Years  Num_Sites  \\\n",
       "0  Cameron Williams  42.0        11066.80                0   7.22        8.0   \n",
       "1     Kevin Mueller  41.0        11916.22                0   6.50       11.0   \n",
       "2       Eric Lozano  38.0        12884.75                0   6.67       12.0   \n",
       "3     Phillip White  42.0         8010.76                0   6.71       10.0   \n",
       "4    Cynthia Norton  37.0         9191.58                0   5.56        9.0   \n",
       "\n",
       "                                            Location  \\\n",
       "0      10265 Elizabeth Mission Barkerburgh, AK 89518   \n",
       "1  6157 Frank Gardens Suite 019 Carloshaven, RI 1...   \n",
       "2             1331 Keith Court Alyssahaven, DE 90114   \n",
       "3       13120 Daniel Mount Angelabury, WY 30645-4695   \n",
       "4                765 Tricia Row Karenshire, MH 71730   \n",
       "\n",
       "                       Company  Churn  year  month  day  weekday  hour  minute  \n",
       "0                   Harvey LLC      1  2013      8   30        6     7       0  \n",
       "1                   Wilson PLC      1  2013      8   13        3     0      38  \n",
       "2  Miller, Johnson and Wallace      1  2016      6   29        4     6      20  \n",
       "3                    Smith Inc      1  2014      4   22        3    12      43  \n",
       "4                   Love-Jones      1  2016      1   19        3    15      31  "
      ]
     },
     "execution_count": 259,
     "metadata": {},
     "output_type": "execute_result"
    }
   ],
   "source": [
    "df_data_total.toPandas().head()"
   ]
  },
  {
   "cell_type": "code",
   "execution_count": 260,
   "metadata": {
    "ExecuteTime": {
     "end_time": "2021-02-03T11:27:26.381718Z",
     "start_time": "2021-02-03T11:27:24.586113Z"
    }
   },
   "outputs": [],
   "source": [
    "pipeline_model = pipeline_stages.fit(df_data_total)\n",
    "df_data_total_aux = pipeline_model.transform(df_data_total)"
   ]
  },
  {
   "cell_type": "code",
   "execution_count": 290,
   "metadata": {
    "ExecuteTime": {
     "end_time": "2021-02-03T11:38:54.484212Z",
     "start_time": "2021-02-03T11:38:53.318860Z"
    }
   },
   "outputs": [
    {
     "name": "stdout",
     "output_type": "stream",
     "text": [
      "Accuracy : 95.0 % \n",
      "AUC: 0.9999\n"
     ]
    },
    {
     "data": {
      "text/html": [
       "<div>\n",
       "<style scoped>\n",
       "    .dataframe tbody tr th:only-of-type {\n",
       "        vertical-align: middle;\n",
       "    }\n",
       "\n",
       "    .dataframe tbody tr th {\n",
       "        vertical-align: top;\n",
       "    }\n",
       "\n",
       "    .dataframe thead th {\n",
       "        text-align: right;\n",
       "    }\n",
       "</style>\n",
       "<table border=\"1\" class=\"dataframe\">\n",
       "  <thead>\n",
       "    <tr style=\"text-align: right;\">\n",
       "      <th></th>\n",
       "      <th>label</th>\n",
       "      <th>features</th>\n",
       "      <th>rawPrediction</th>\n",
       "      <th>prediction</th>\n",
       "      <th>probability</th>\n",
       "    </tr>\n",
       "  </thead>\n",
       "  <tbody>\n",
       "    <tr>\n",
       "      <th>0</th>\n",
       "      <td>1.0</td>\n",
       "      <td>(0.0, 0.0, 0.0, 0.0, 0.0, 0.0, 0.0, 0.0, 0.0, ...</td>\n",
       "      <td>[-5.288783509875724, 5.288783509875724]</td>\n",
       "      <td>1.0</td>\n",
       "      <td>[0.005022543957491691, 0.9949774560425083]</td>\n",
       "    </tr>\n",
       "    <tr>\n",
       "      <th>1</th>\n",
       "      <td>1.0</td>\n",
       "      <td>(0.0, 0.0, 0.0, 0.0, 0.0, 0.0, 0.0, 0.0, 0.0, ...</td>\n",
       "      <td>[-3.524420168985268, 3.524420168985268]</td>\n",
       "      <td>1.0</td>\n",
       "      <td>[0.028625332631197393, 0.9713746673688025]</td>\n",
       "    </tr>\n",
       "    <tr>\n",
       "      <th>2</th>\n",
       "      <td>1.0</td>\n",
       "      <td>(0.0, 0.0, 0.0, 0.0, 0.0, 0.0, 0.0, 0.0, 0.0, ...</td>\n",
       "      <td>[3.940355803788232, -3.940355803788232]</td>\n",
       "      <td>0.0</td>\n",
       "      <td>[0.980929459793582, 0.019070540206417963]</td>\n",
       "    </tr>\n",
       "    <tr>\n",
       "      <th>3</th>\n",
       "      <td>1.0</td>\n",
       "      <td>(0.0, 0.0, 0.0, 0.0, 0.0, 0.0, 0.0, 0.0, 0.0, ...</td>\n",
       "      <td>[-5.888460664417213, 5.888460664417213]</td>\n",
       "      <td>1.0</td>\n",
       "      <td>[0.002763580739029856, 0.9972364192609702]</td>\n",
       "    </tr>\n",
       "    <tr>\n",
       "      <th>4</th>\n",
       "      <td>1.0</td>\n",
       "      <td>(0.0, 0.0, 0.0, 0.0, 0.0, 0.0, 0.0, 0.0, 0.0, ...</td>\n",
       "      <td>[5.8873876397365965, -5.8873876397365965]</td>\n",
       "      <td>0.0</td>\n",
       "      <td>[0.9972334604873653, 0.0027665395126348267]</td>\n",
       "    </tr>\n",
       "  </tbody>\n",
       "</table>\n",
       "</div>"
      ],
      "text/plain": [
       "   label                                           features  \\\n",
       "0    1.0  (0.0, 0.0, 0.0, 0.0, 0.0, 0.0, 0.0, 0.0, 0.0, ...   \n",
       "1    1.0  (0.0, 0.0, 0.0, 0.0, 0.0, 0.0, 0.0, 0.0, 0.0, ...   \n",
       "2    1.0  (0.0, 0.0, 0.0, 0.0, 0.0, 0.0, 0.0, 0.0, 0.0, ...   \n",
       "3    1.0  (0.0, 0.0, 0.0, 0.0, 0.0, 0.0, 0.0, 0.0, 0.0, ...   \n",
       "4    1.0  (0.0, 0.0, 0.0, 0.0, 0.0, 0.0, 0.0, 0.0, 0.0, ...   \n",
       "\n",
       "                               rawPrediction  prediction  \\\n",
       "0    [-5.288783509875724, 5.288783509875724]         1.0   \n",
       "1    [-3.524420168985268, 3.524420168985268]         1.0   \n",
       "2    [3.940355803788232, -3.940355803788232]         0.0   \n",
       "3    [-5.888460664417213, 5.888460664417213]         1.0   \n",
       "4  [5.8873876397365965, -5.8873876397365965]         0.0   \n",
       "\n",
       "                                   probability  \n",
       "0   [0.005022543957491691, 0.9949774560425083]  \n",
       "1   [0.028625332631197393, 0.9713746673688025]  \n",
       "2    [0.980929459793582, 0.019070540206417963]  \n",
       "3   [0.002763580739029856, 0.9972364192609702]  \n",
       "4  [0.9972334604873653, 0.0027665395126348267]  "
      ]
     },
     "execution_count": 290,
     "metadata": {},
     "output_type": "execute_result"
    }
   ],
   "source": [
    "inference = lrModel.transform(df_data_total_aux.select('features','label'))\n",
    "\n",
    "accuracy = inference.filter(inference.label == inference.prediction).count() / float(inference.count())\n",
    "print(\"Accuracy : {} % \".format(round(100*accuracy,2)))\n",
    "\n",
    "trainingSummary = lrModel.summary\n",
    "roc = trainingSummary.roc.toPandas()\n",
    "print('AUC: ' + str(round(trainingSummary.areaUnderROC,4)))\n",
    "\n",
    "inference.select('label', 'features',  'rawPrediction', 'prediction', 'probability').toPandas().head(5)"
   ]
  },
  {
   "cell_type": "code",
   "execution_count": null,
   "metadata": {},
   "outputs": [],
   "source": []
  }
 ],
 "metadata": {
  "@webio": {
   "lastCommId": null,
   "lastKernelId": null
  },
  "colab": {
   "collapsed_sections": [],
   "name": "examen_pyspark.ipynb",
   "provenance": [],
   "toc_visible": true
  },
  "kernelspec": {
   "display_name": "Python 3",
   "language": "python",
   "name": "python3"
  },
  "language_info": {
   "codemirror_mode": {
    "name": "ipython",
    "version": 3
   },
   "file_extension": ".py",
   "mimetype": "text/x-python",
   "name": "python",
   "nbconvert_exporter": "python",
   "pygments_lexer": "ipython3",
   "version": "3.7.3"
  },
  "toc": {
   "base_numbering": 1,
   "nav_menu": {},
   "number_sections": true,
   "sideBar": true,
   "skip_h1_title": false,
   "title_cell": "Table of Contents",
   "title_sidebar": "Contents",
   "toc_cell": false,
   "toc_position": {},
   "toc_section_display": true,
   "toc_window_display": true
  },
  "varInspector": {
   "cols": {
    "lenName": 16,
    "lenType": 16,
    "lenVar": 40
   },
   "kernels_config": {
    "python": {
     "delete_cmd_postfix": "",
     "delete_cmd_prefix": "del ",
     "library": "var_list.py",
     "varRefreshCmd": "print(var_dic_list())"
    },
    "r": {
     "delete_cmd_postfix": ") ",
     "delete_cmd_prefix": "rm(",
     "library": "var_list.r",
     "varRefreshCmd": "cat(var_dic_list()) "
    }
   },
   "types_to_exclude": [
    "module",
    "function",
    "builtin_function_or_method",
    "instance",
    "_Feature"
   ],
   "window_display": false
  }
 },
 "nbformat": 4,
 "nbformat_minor": 1
}
